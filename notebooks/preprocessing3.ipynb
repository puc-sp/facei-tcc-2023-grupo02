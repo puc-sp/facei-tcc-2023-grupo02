{
 "cells": [
  {
   "cell_type": "code",
   "execution_count": 6,
   "metadata": {},
   "outputs": [],
   "source": [
    "import pandas as pd\n",
    "import numpy as np\n",
    "import cv2\n",
    "import os\n",
    "from ultralytics import YOLO"
   ]
  },
  {
   "cell_type": "code",
   "execution_count": 7,
   "metadata": {},
   "outputs": [],
   "source": [
    "model = YOLO('../models/yolo/yolov8m.pt')"
   ]
  },
  {
   "cell_type": "code",
   "execution_count": 8,
   "metadata": {},
   "outputs": [],
   "source": [
    "import cv2\n",
    "import numpy as np\n",
    "from datetime import datetime\n",
    "from torchvision import transforms\n",
    "from PIL import Image\n",
    "import os\n",
    "\n",
    "class PredPipe():\n",
    "    def __init__(self, model, image_path, noise, blur):\n",
    "        self.model = model\n",
    "        self.image_path = image_path\n",
    "        self.image = cv2.imread(image_path)\n",
    "        self.name = image_path.split('/')[-1].split('.')[0]\n",
    "        self.results = {}\n",
    "        self.model_scores = []\n",
    "        self.noise_and_blur = {\n",
    "            'noise_pctg': noise,\n",
    "            'blur_pctg': blur\n",
    "        }\n",
    "        self.timestamp = str(int(datetime.timestamp(datetime.now())))\n",
    "\n",
    "    def add_noise_and_blur(self, save=False):\n",
    "        image = cv2.imread(self.image_path)\n",
    "        image = cv2.cvtColor(image, cv2.COLOR_BGR2RGB)\n",
    "        image = image.astype(np.float32) / 255.0\n",
    "\n",
    "        noise = np.random.uniform(low=0.0, high=1.0, size=image.shape)\n",
    "        noise_mask = np.random.binomial(1, self.noise_and_blur['noise_pctg'], size=image.shape[:-1])\n",
    "        noise_mask = np.expand_dims(noise_mask, axis=-1)\n",
    "        noise_mask = np.repeat(noise_mask, 3, axis=-1)\n",
    "        image = noise_mask * noise + (1 - noise_mask) * image\n",
    "        image = (image * 255.0).astype(np.uint8)\n",
    "        noisy_image = cv2.cvtColor(image, cv2.COLOR_RGB2BGR)\n",
    "\n",
    "        if save:\n",
    "            noisy_image_path = f\"../data/processed/noisy/{self.name}_{str(self.noise_and_blur['noise_pctg'])}_noisy_{self.timestamp}.jpg\"\n",
    "            cv2.imwrite(noisy_image_path, noisy_image)\n",
    "\n",
    "        return image, noisy_image_path\n",
    "\n",
    "    def save_traffic_lights(self, image, result, image_path, timestamp):\n",
    "        output_folder = \"../data/processed/outputs/semafaros/standard/\"\n",
    "        traffic_lights = []  # Lista para salvar os semáforos detectados\n",
    "\n",
    "        for box in result.boxes:\n",
    "            class_id = result.names[box.cls[0].item()]\n",
    "            if class_id == \"traffic light\":\n",
    "                cords = box.xyxy[0].tolist()\n",
    "                cords = [int(round(x)) for x in cords]\n",
    "\n",
    "                # Ajuste as coordenadas para garantir que estejam dentro dos limites da imagem\n",
    "                cords[0] = max(0, cords[0])\n",
    "                cords[1] = max(0, cords[1])\n",
    "                cords[2] = min(image.shape[1], cords[2])\n",
    "                cords[3] = min(image.shape[0], cords[3])\n",
    "\n",
    "                traffic_light_image = image[cords[1]:cords[3], cords[0]:cords[2]]\n",
    "\n",
    "                if traffic_light_image.shape[0] > 0 and traffic_light_image.shape[1] > 0:\n",
    "                    # Certifique-se de que a região recortada não é vazia\n",
    "                    traffic_lights.append(traffic_light_image)\n",
    "\n",
    "        if not traffic_lights:\n",
    "            raise ValueError(\"Nenhum semáforo detectado na imagem.\")\n",
    "\n",
    "        # Nome da foto original\n",
    "        image_name = os.path.splitext(os.path.basename(image_path))[0]\n",
    "        \n",
    "        for i, traffic_light_image in enumerate(traffic_lights):\n",
    "            # Se houver mais de um semáforo na mesma foto, inclua um índice entre parênteses\n",
    "            if i > 0:\n",
    "                traffic_light_filename = f\"traffic_light_{image_name}({i}).jpg\"\n",
    "            else:\n",
    "                traffic_light_filename = f\"traffic_light_{image_name}.jpg\"\n",
    "            \n",
    "            traffic_light_path = os.path.join(output_folder, traffic_light_filename)\n",
    "            \n",
    "            # Verifique se o arquivo já existe antes de salvá-lo\n",
    "            if not os.path.exists(traffic_light_path):\n",
    "                cv2.imwrite(traffic_light_path, traffic_light_image)\n",
    "                print(f\"Semáforo {i + 1} da imagem {image_name} salvo em {traffic_light_path}\")\n",
    "            else:\n",
    "                print(f\"Semáforo {i + 1} da imagem {image_name} já existe em {traffic_light_path}. Não foi salvo novamente.\")\n",
    "\n",
    "    def save_cars(self, image, result, image_path, timestamp):\n",
    "        output_folder = \"../data/processed/outputs/carros/standard/\"\n",
    "        cars = []  # Lista para salvar os carros detectados\n",
    "\n",
    "        for box in result.boxes:\n",
    "            class_id = result.names[box.cls[0].item()]\n",
    "            if class_id == \"car\":\n",
    "                cords = box.xyxy[0].tolist()\n",
    "                cords = [int(round(x)) for x in cords]\n",
    "\n",
    "                # Ajuste as coordenadas para garantir que estejam dentro dos limites da imagem\n",
    "                cords[0] = max(0, cords[0])\n",
    "                cords[1] = max(0, cords[1])\n",
    "                cords[2] = min(image.shape[1], cords[2])\n",
    "                cords[3] = min(image.shape[0], cords[3])\n",
    "\n",
    "                car_image = image[cords[1]:cords[3], cords[0]:cords[2]]\n",
    "\n",
    "                if car_image.shape[0] > 0 and car_image.shape[1] > 0:\n",
    "                    # Certifique-se de que a região recortada não é vazia\n",
    "                    cars.append(car_image)\n",
    "\n",
    "        if not cars:\n",
    "            raise ValueError(\"Nenhum carro detectado na imagem.\")\n",
    "\n",
    "        # Nome da foto original\n",
    "        image_name = os.path.splitext(os.path.basename(image_path))[0]\n",
    "        \n",
    "        for i, car_image in enumerate(cars):\n",
    "            # Se houver mais de um carro na mesma foto, inclua um índice entre parênteses\n",
    "            if i > 0:\n",
    "                car_filename = f\"car_{image_name}({i}).jpg\"\n",
    "            else:\n",
    "                car_filename = f\"car_{image_name}.jpg\"\n",
    "            \n",
    "            car_path = os.path.join(output_folder, car_filename)\n",
    "            \n",
    "            # Verifique se o arquivo já existe antes de salvá-lo\n",
    "            if not os.path.exists(car_path):\n",
    "                cv2.imwrite(car_path, car_image)\n",
    "                print(f\"Carro {i + 1} da imagem {image_name} salvo em {car_path}\")\n",
    "            else:\n",
    "                print(f\"Carro {i + 1} da imagem {image_name} já existe em {car_path}. Não foi salvo novamente.\")\n",
    "\n",
    "    def save_trucks(self, image, result, image_path, timestamp):\n",
    "        output_folder = \"../data/processed/outputs/caminhao/standard/\"\n",
    "        trucks = []  # Lista para salvar os caminhões detectados\n",
    "\n",
    "        for box in result.boxes:\n",
    "            class_id = result.names[box.cls[0].item()]\n",
    "            if class_id == \"truck\":\n",
    "                cords = box.xyxy[0].tolist()\n",
    "                cords = [int(round(x)) for x in cords]\n",
    "\n",
    "                # Ajuste as coordenadas para garantir que estejam dentro dos limites da imagem\n",
    "                cords[0] = max(0, cords[0])\n",
    "                cords[1] = max(0, cords[1])\n",
    "                cords[2] = min(image.shape[1], cords[2])\n",
    "                cords[3] = min(image.shape[0], cords[3])\n",
    "\n",
    "                truck_image = image[cords[1]:cords[3], cords[0]:cords[2]]\n",
    "\n",
    "                if truck_image.shape[0] > 0 and truck_image.shape[1] > 0:\n",
    "                    # Certifique-se de que a região recortada não é vazia\n",
    "                    trucks.append(truck_image)\n",
    "\n",
    "        if not trucks:\n",
    "            raise ValueError(\"Nenhum caminhão detectado na imagem.\")\n",
    "\n",
    "        # Nome da foto original\n",
    "        image_name = os.path.splitext(os.path.basename(image_path))[0]\n",
    "        \n",
    "        for i, truck_image in enumerate(trucks):\n",
    "            # Se houver mais de um caminhão na mesma foto, inclua um índice entre parênteses\n",
    "            if i > 0:\n",
    "                truck_filename = f\"truck_{image_name}({i}).jpg\"\n",
    "            else:\n",
    "                truck_filename = f\"truck_{image_name}.jpg\"\n",
    "            \n",
    "            truck_path = os.path.join(output_folder, truck_filename)\n",
    "            \n",
    "            # Verifique se o arquivo já existe antes de salvá-lo\n",
    "            if not os.path.exists(truck_path):\n",
    "                cv2.imwrite(truck_path, truck_image)\n",
    "                print(f\"Caminhão {i + 1} da imagem {image_name} salvo em {truck_path}\")\n",
    "            else:\n",
    "                print(f\"Caminhão {i + 1} da imagem {image_name} já existe em {truck_path}. Não foi salvo novamente.\")\n",
    "\n",
    "    def save_people(self, image, result, image_path, timestamp):\n",
    "        output_folder = \"../data/processed/outputs/pessoas/standard/\"\n",
    "        people = []  # Lista para salvar as pessoas detectadas\n",
    "\n",
    "        for box in result.boxes:\n",
    "            class_id = result.names[box.cls[0].item()]\n",
    "            if class_id == \"person\":\n",
    "                cords = box.xyxy[0].tolist()\n",
    "                cords = [int(round(x)) for x in cords]\n",
    "\n",
    "                # Ajuste as coordenadas para garantir que estejam dentro dos limites da imagem\n",
    "                cords[0] = max(0, cords[0])\n",
    "                cords[1] = max(0, cords[1])\n",
    "                cords[2] = min(image.shape[1], cords[2])\n",
    "                cords[3] = min(image.shape[0], cords[3])\n",
    "\n",
    "                person_image = image[cords[1]:cords[3], cords[0]:cords[2]]\n",
    "\n",
    "                if person_image.shape[0] > 0 and person_image.shape[1] > 0:\n",
    "                    # Certifique-se de que a região recortada não é vazia\n",
    "                    people.append(person_image)\n",
    "\n",
    "        if not people:\n",
    "            raise ValueError(\"Nenhuma pessoa detectada na imagem.\")\n",
    "\n",
    "        # Nome da foto original\n",
    "        image_name = os.path.splitext(os.path.basename(image_path))[0]\n",
    "        \n",
    "        for i, person_image in enumerate(people):\n",
    "            # Se houver mais de uma pessoa na mesma foto, inclua um índice entre parênteses\n",
    "            if i > 0:\n",
    "                person_filename = f\"person_{image_name}({i}).jpg\"\n",
    "            else:\n",
    "                person_filename = f\"person_{image_name}.jpg\"\n",
    "            \n",
    "            person_path = os.path.join(output_folder, person_filename)\n",
    "            \n",
    "            # Verifique se o arquivo já existe antes de salvá-lo\n",
    "            if not os.path.exists(person_path):\n",
    "                cv2.imwrite(person_path, person_image)\n",
    "                print(f\"Pessoa {i + 1} da imagem {image_name} salva em {person_path}\")\n",
    "            else:\n",
    "                print(f\"Pessoa {i + 1} da imagem {image_name} já existe em {person_path}. Não foi salva novamente.\")\n",
    "\n",
    "    def save_motorcycles(self, image, result, image_path, timestamp):\n",
    "        output_folder = \"../data/processed/outputs/motos/standard/\"\n",
    "        motorcycles = []  # Lista para salvar as motos detectadas\n",
    "\n",
    "        for box in result.boxes:\n",
    "            class_id = result.names[box.cls[0].item()]\n",
    "            if class_id == \"motorcycle\":\n",
    "                cords = box.xyxy[0].tolist()\n",
    "                cords = [int(round(x)) for x in cords]\n",
    "\n",
    "                # Ajuste as coordenadas para garantir que estejam dentro dos limites da imagem\n",
    "                cords[0] = max(0, cords[0])\n",
    "                cords[1] = max(0, cords[1])\n",
    "                cords[2] = min(image.shape[1], cords[2])\n",
    "                cords[3] = min(image.shape[0], cords[3])\n",
    "\n",
    "                motorcycle_image = image[cords[1]:cords[3], cords[0]:cords[2]]\n",
    "\n",
    "                if motorcycle_image.shape[0] > 0 and motorcycle_image.shape[1] > 0:\n",
    "                    # Certifique-se de que a região recortada não é vazia\n",
    "                    motorcycles.append(motorcycle_image)\n",
    "\n",
    "        if not motorcycles:\n",
    "            raise ValueError(\"Nenhuma moto detectada na imagem.\")\n",
    "\n",
    "        # Nome da foto original\n",
    "        image_name = os.path.splitext(os.path.basename(image_path))[0]\n",
    "        \n",
    "        for i, motorcycle_image in enumerate(motorcycles):\n",
    "            # Se houver mais de uma moto na mesma foto, inclua um índice entre parênteses\n",
    "            if i > 0:\n",
    "                motorcycle_filename = f\"motorcycle_{image_name}({i}).jpg\"\n",
    "            else:\n",
    "                motorcycle_filename = f\"motorcycle_{image_name}.jpg\"\n",
    "            \n",
    "            motorcycle_path = os.path.join(output_folder, motorcycle_filename)\n",
    "            \n",
    "            # Verifique se o arquivo já existe antes de salvá-lo\n",
    "            if not os.path.exists(motorcycle_path):\n",
    "                cv2.imwrite(motorcycle_path, motorcycle_image)\n",
    "                print(f\"Moto {i + 1} da imagem {image_name} salva em {motorcycle_path}\")\n",
    "            else:\n",
    "                print(f\"Moto {i + 1} da imagem {image_name} já existe em {motorcycle_path}. Não foi salva novamente.\")\n",
    "\n",
    "    def predict_image(self, add_noise=False, save=True):\n",
    "        if add_noise:\n",
    "            image, noisy_image_path = self.add_noise_and_blur(save)\n",
    "            results = self.model.predict(noisy_image_path)\n",
    "            result = results[0]\n",
    "            if save:\n",
    "                predicted_image_path = f\"../data/processed/outputs/{self.name}_{str(self.noise_and_blur['noise_pctg'])}_noisy_predicted_{self.timestamp}.jpg\"\n",
    "        else:\n",
    "            results = self.model.predict(self.image_path)\n",
    "            result = results[0]\n",
    "            if save:\n",
    "                predicted_image_path = f\"../data/processed/outputs/{self.name}_predicted_{self.timestamp}.jpg\"\n",
    "\n",
    "        img = cv2.imread(self.image_path) if not add_noise else cv2.imread(noisy_image_path)\n",
    "\n",
    "        for box in result.boxes:\n",
    "            class_id = result.names[box.cls[0].item()]\n",
    "            cords = box.xyxy[0].tolist()\n",
    "            cords = [int(round(x)) for x in cords]\n",
    "            conf = round(box.conf[0].item(), 2)\n",
    "\n",
    "            # Desenhe um rótulo com confiança, mas sem bordas verdes\n",
    "            label = f\"{class_id} {conf}\"\n",
    "            font = cv2.FONT_HERSHEY_SIMPLEX\n",
    "            font_scale = 0.5\n",
    "            font_thickness = 1\n",
    "            font_color = (0, 0, 255)\n",
    "            background_color = (0, 0, 0)\n",
    "            label_size, baseline = cv2.getTextSize(label, font, font_scale, font_thickness)\n",
    "            label_origin = (cords[0], cords[1] - label_size[1])\n",
    "            cv2.rectangle(img, (cords[0], cords[1]), (cords[0] + label_size[0], cords[1] - label_size[1]), background_color, -1)\n",
    "            cv2.putText(img, label, label_origin, font, font_scale, font_color, font_thickness)\n",
    "\n",
    "        if save:\n",
    "            cv2.imwrite(predicted_image_path, img)\n",
    "\n",
    "        self.save_traffic_lights(img, result, self.image_path, self.timestamp)\n",
    "        self.save_cars(img, result, self.image_path, self.timestamp)\n",
    "        self.save_trucks(img, result, self.image_path, self.timestamp)\n",
    "        self.save_people(img, result, self.image_path, self.timestamp)\n",
    "        self.save_motorcycles(img, result, self.image_path, self.timestamp)\n",
    "\n",
    "        return img, self.results\n"
   ]
  },
  {
   "cell_type": "code",
   "execution_count": 9,
   "metadata": {},
   "outputs": [
    {
     "name": "stderr",
     "output_type": "stream",
     "text": [
      "\n",
      "image 1/1 c:\\Users\\Thiago\\OneDrive\\Documentos\\Facul\\6 Sexto semestre\\TCC\\TCC-CDIA\\notebooks\\..\\data\\frames\\images\\100_original.jpg: 384x640 6 cars, 2 traffic lights, 604.4ms\n",
      "Speed: 2.0ms preprocess, 604.4ms inference, 2.0ms postprocess per image at shape (1, 3, 384, 640)\n",
      "\n"
     ]
    },
    {
     "name": "stdout",
     "output_type": "stream",
     "text": [
      "Semáforo 1 da imagem 100_original já existe em ../data/processed/outputs/semafaros/standard/traffic_light_100_original.jpg. Não foi salvo novamente.\n",
      "Semáforo 2 da imagem 100_original já existe em ../data/processed/outputs/semafaros/standard/traffic_light_100_original(1).jpg. Não foi salvo novamente.\n",
      "Carro 1 da imagem 100_original já existe em ../data/processed/outputs/carros/standard/car_100_original.jpg. Não foi salvo novamente.\n",
      "Carro 2 da imagem 100_original já existe em ../data/processed/outputs/carros/standard/car_100_original(1).jpg. Não foi salvo novamente.\n",
      "Carro 3 da imagem 100_original já existe em ../data/processed/outputs/carros/standard/car_100_original(2).jpg. Não foi salvo novamente.\n",
      "Carro 4 da imagem 100_original já existe em ../data/processed/outputs/carros/standard/car_100_original(3).jpg. Não foi salvo novamente.\n",
      "Carro 5 da imagem 100_original já existe em ../data/processed/outputs/carros/standard/car_100_original(4).jpg. Não foi salvo novamente.\n",
      "Carro 6 da imagem 100_original já existe em ../data/processed/outputs/carros/standard/car_100_original(5).jpg. Não foi salvo novamente.\n",
      "Erro na imagem 100_original.jpg: Nenhum caminhão detectado na imagem.\n"
     ]
    },
    {
     "name": "stderr",
     "output_type": "stream",
     "text": [
      "image 1/1 c:\\Users\\Thiago\\OneDrive\\Documentos\\Facul\\6 Sexto semestre\\TCC\\TCC-CDIA\\notebooks\\..\\data\\frames\\images\\101_original.jpg: 384x640 10 persons, 4 cars, 3 traffic lights, 472.9ms\n",
      "Speed: 2.0ms preprocess, 472.9ms inference, 1.0ms postprocess per image at shape (1, 3, 384, 640)\n",
      "\n"
     ]
    },
    {
     "name": "stdout",
     "output_type": "stream",
     "text": [
      "Semáforo 1 da imagem 101_original já existe em ../data/processed/outputs/semafaros/standard/traffic_light_101_original.jpg. Não foi salvo novamente.\n",
      "Semáforo 2 da imagem 101_original já existe em ../data/processed/outputs/semafaros/standard/traffic_light_101_original(1).jpg. Não foi salvo novamente.\n",
      "Semáforo 3 da imagem 101_original já existe em ../data/processed/outputs/semafaros/standard/traffic_light_101_original(2).jpg. Não foi salvo novamente.\n",
      "Carro 1 da imagem 101_original já existe em ../data/processed/outputs/carros/standard/car_101_original.jpg. Não foi salvo novamente.\n",
      "Carro 2 da imagem 101_original já existe em ../data/processed/outputs/carros/standard/car_101_original(1).jpg. Não foi salvo novamente.\n",
      "Carro 3 da imagem 101_original já existe em ../data/processed/outputs/carros/standard/car_101_original(2).jpg. Não foi salvo novamente.\n",
      "Carro 4 da imagem 101_original já existe em ../data/processed/outputs/carros/standard/car_101_original(3).jpg. Não foi salvo novamente.\n",
      "Erro na imagem 101_original.jpg: Nenhum caminhão detectado na imagem.\n"
     ]
    },
    {
     "name": "stderr",
     "output_type": "stream",
     "text": [
      "image 1/1 c:\\Users\\Thiago\\OneDrive\\Documentos\\Facul\\6 Sexto semestre\\TCC\\TCC-CDIA\\notebooks\\..\\data\\frames\\images\\102_original.jpg: 384x640 6 cars, 3 traffic lights, 508.6ms\n",
      "Speed: 4.0ms preprocess, 508.6ms inference, 3.0ms postprocess per image at shape (1, 3, 384, 640)\n",
      "\n"
     ]
    },
    {
     "name": "stdout",
     "output_type": "stream",
     "text": [
      "Semáforo 1 da imagem 102_original já existe em ../data/processed/outputs/semafaros/standard/traffic_light_102_original.jpg. Não foi salvo novamente.\n",
      "Semáforo 2 da imagem 102_original já existe em ../data/processed/outputs/semafaros/standard/traffic_light_102_original(1).jpg. Não foi salvo novamente.\n",
      "Semáforo 3 da imagem 102_original já existe em ../data/processed/outputs/semafaros/standard/traffic_light_102_original(2).jpg. Não foi salvo novamente.\n",
      "Carro 1 da imagem 102_original já existe em ../data/processed/outputs/carros/standard/car_102_original.jpg. Não foi salvo novamente.\n",
      "Carro 2 da imagem 102_original já existe em ../data/processed/outputs/carros/standard/car_102_original(1).jpg. Não foi salvo novamente.\n",
      "Carro 3 da imagem 102_original já existe em ../data/processed/outputs/carros/standard/car_102_original(2).jpg. Não foi salvo novamente.\n",
      "Carro 4 da imagem 102_original já existe em ../data/processed/outputs/carros/standard/car_102_original(3).jpg. Não foi salvo novamente.\n",
      "Carro 5 da imagem 102_original já existe em ../data/processed/outputs/carros/standard/car_102_original(4).jpg. Não foi salvo novamente.\n",
      "Carro 6 da imagem 102_original já existe em ../data/processed/outputs/carros/standard/car_102_original(5).jpg. Não foi salvo novamente.\n",
      "Erro na imagem 102_original.jpg: Nenhum caminhão detectado na imagem.\n"
     ]
    },
    {
     "name": "stderr",
     "output_type": "stream",
     "text": [
      "image 1/1 c:\\Users\\Thiago\\OneDrive\\Documentos\\Facul\\6 Sexto semestre\\TCC\\TCC-CDIA\\notebooks\\..\\data\\frames\\images\\103_original.jpg: 384x640 4 persons, 8 cars, 2 traffic lights, 1 stop sign, 562.5ms\n",
      "Speed: 2.0ms preprocess, 562.5ms inference, 2.0ms postprocess per image at shape (1, 3, 384, 640)\n",
      "\n"
     ]
    },
    {
     "name": "stdout",
     "output_type": "stream",
     "text": [
      "Semáforo 1 da imagem 103_original já existe em ../data/processed/outputs/semafaros/standard/traffic_light_103_original.jpg. Não foi salvo novamente.\n",
      "Semáforo 2 da imagem 103_original já existe em ../data/processed/outputs/semafaros/standard/traffic_light_103_original(1).jpg. Não foi salvo novamente.\n",
      "Carro 1 da imagem 103_original já existe em ../data/processed/outputs/carros/standard/car_103_original.jpg. Não foi salvo novamente.\n",
      "Carro 2 da imagem 103_original já existe em ../data/processed/outputs/carros/standard/car_103_original(1).jpg. Não foi salvo novamente.\n",
      "Carro 3 da imagem 103_original já existe em ../data/processed/outputs/carros/standard/car_103_original(2).jpg. Não foi salvo novamente.\n",
      "Carro 4 da imagem 103_original já existe em ../data/processed/outputs/carros/standard/car_103_original(3).jpg. Não foi salvo novamente.\n",
      "Carro 5 da imagem 103_original já existe em ../data/processed/outputs/carros/standard/car_103_original(4).jpg. Não foi salvo novamente.\n",
      "Carro 6 da imagem 103_original já existe em ../data/processed/outputs/carros/standard/car_103_original(5).jpg. Não foi salvo novamente.\n",
      "Carro 7 da imagem 103_original já existe em ../data/processed/outputs/carros/standard/car_103_original(6).jpg. Não foi salvo novamente.\n",
      "Carro 8 da imagem 103_original já existe em ../data/processed/outputs/carros/standard/car_103_original(7).jpg. Não foi salvo novamente.\n",
      "Erro na imagem 103_original.jpg: Nenhum caminhão detectado na imagem.\n"
     ]
    },
    {
     "name": "stderr",
     "output_type": "stream",
     "text": [
      "image 1/1 c:\\Users\\Thiago\\OneDrive\\Documentos\\Facul\\6 Sexto semestre\\TCC\\TCC-CDIA\\notebooks\\..\\data\\frames\\images\\104_original.jpg: 384x640 6 cars, 1 traffic light, 484.8ms\n",
      "Speed: 2.0ms preprocess, 484.8ms inference, 2.0ms postprocess per image at shape (1, 3, 384, 640)\n",
      "\n"
     ]
    },
    {
     "name": "stdout",
     "output_type": "stream",
     "text": [
      "Semáforo 1 da imagem 104_original já existe em ../data/processed/outputs/semafaros/standard/traffic_light_104_original.jpg. Não foi salvo novamente.\n",
      "Carro 1 da imagem 104_original já existe em ../data/processed/outputs/carros/standard/car_104_original.jpg. Não foi salvo novamente.\n",
      "Carro 2 da imagem 104_original já existe em ../data/processed/outputs/carros/standard/car_104_original(1).jpg. Não foi salvo novamente.\n",
      "Carro 3 da imagem 104_original já existe em ../data/processed/outputs/carros/standard/car_104_original(2).jpg. Não foi salvo novamente.\n",
      "Carro 4 da imagem 104_original já existe em ../data/processed/outputs/carros/standard/car_104_original(3).jpg. Não foi salvo novamente.\n",
      "Carro 5 da imagem 104_original já existe em ../data/processed/outputs/carros/standard/car_104_original(4).jpg. Não foi salvo novamente.\n",
      "Carro 6 da imagem 104_original já existe em ../data/processed/outputs/carros/standard/car_104_original(5).jpg. Não foi salvo novamente.\n",
      "Erro na imagem 104_original.jpg: Nenhum caminhão detectado na imagem.\n"
     ]
    },
    {
     "name": "stderr",
     "output_type": "stream",
     "text": [
      "image 1/1 c:\\Users\\Thiago\\OneDrive\\Documentos\\Facul\\6 Sexto semestre\\TCC\\TCC-CDIA\\notebooks\\..\\data\\frames\\images\\105_original.jpg: 384x640 4 cars, 1 traffic light, 424.9ms\n",
      "Speed: 2.0ms preprocess, 424.9ms inference, 2.0ms postprocess per image at shape (1, 3, 384, 640)\n",
      "\n"
     ]
    },
    {
     "name": "stdout",
     "output_type": "stream",
     "text": [
      "Semáforo 1 da imagem 105_original já existe em ../data/processed/outputs/semafaros/standard/traffic_light_105_original.jpg. Não foi salvo novamente.\n",
      "Carro 1 da imagem 105_original já existe em ../data/processed/outputs/carros/standard/car_105_original.jpg. Não foi salvo novamente.\n",
      "Carro 2 da imagem 105_original já existe em ../data/processed/outputs/carros/standard/car_105_original(1).jpg. Não foi salvo novamente.\n",
      "Carro 3 da imagem 105_original já existe em ../data/processed/outputs/carros/standard/car_105_original(2).jpg. Não foi salvo novamente.\n",
      "Carro 4 da imagem 105_original já existe em ../data/processed/outputs/carros/standard/car_105_original(3).jpg. Não foi salvo novamente.\n",
      "Erro na imagem 105_original.jpg: Nenhum caminhão detectado na imagem.\n"
     ]
    },
    {
     "name": "stderr",
     "output_type": "stream",
     "text": [
      "image 1/1 c:\\Users\\Thiago\\OneDrive\\Documentos\\Facul\\6 Sexto semestre\\TCC\\TCC-CDIA\\notebooks\\..\\data\\frames\\images\\106_original.jpg: 384x640 5 cars, 1 traffic light, 461.8ms\n",
      "Speed: 5.0ms preprocess, 461.8ms inference, 3.0ms postprocess per image at shape (1, 3, 384, 640)\n",
      "\n"
     ]
    },
    {
     "name": "stdout",
     "output_type": "stream",
     "text": [
      "Semáforo 1 da imagem 106_original já existe em ../data/processed/outputs/semafaros/standard/traffic_light_106_original.jpg. Não foi salvo novamente.\n",
      "Carro 1 da imagem 106_original já existe em ../data/processed/outputs/carros/standard/car_106_original.jpg. Não foi salvo novamente.\n",
      "Carro 2 da imagem 106_original já existe em ../data/processed/outputs/carros/standard/car_106_original(1).jpg. Não foi salvo novamente.\n",
      "Carro 3 da imagem 106_original já existe em ../data/processed/outputs/carros/standard/car_106_original(2).jpg. Não foi salvo novamente.\n",
      "Carro 4 da imagem 106_original já existe em ../data/processed/outputs/carros/standard/car_106_original(3).jpg. Não foi salvo novamente.\n",
      "Carro 5 da imagem 106_original já existe em ../data/processed/outputs/carros/standard/car_106_original(4).jpg. Não foi salvo novamente.\n",
      "Erro na imagem 106_original.jpg: Nenhum caminhão detectado na imagem.\n"
     ]
    },
    {
     "name": "stderr",
     "output_type": "stream",
     "text": [
      "image 1/1 c:\\Users\\Thiago\\OneDrive\\Documentos\\Facul\\6 Sexto semestre\\TCC\\TCC-CDIA\\notebooks\\..\\data\\frames\\images\\107_original.jpg: 384x640 7 cars, 943.5ms\n",
      "Speed: 2.0ms preprocess, 943.5ms inference, 6.0ms postprocess per image at shape (1, 3, 384, 640)\n",
      "\n"
     ]
    },
    {
     "name": "stdout",
     "output_type": "stream",
     "text": [
      "Erro na imagem 107_original.jpg: Nenhum semáforo detectado na imagem.\n"
     ]
    },
    {
     "name": "stderr",
     "output_type": "stream",
     "text": [
      "image 1/1 c:\\Users\\Thiago\\OneDrive\\Documentos\\Facul\\6 Sexto semestre\\TCC\\TCC-CDIA\\notebooks\\..\\data\\frames\\images\\108_original.jpg: 384x640 7 cars, 1 traffic light, 1698.7ms\n",
      "Speed: 7.0ms preprocess, 1698.7ms inference, 7.0ms postprocess per image at shape (1, 3, 384, 640)\n",
      "\n"
     ]
    },
    {
     "name": "stdout",
     "output_type": "stream",
     "text": [
      "Semáforo 1 da imagem 108_original já existe em ../data/processed/outputs/semafaros/standard/traffic_light_108_original.jpg. Não foi salvo novamente.\n",
      "Carro 1 da imagem 108_original já existe em ../data/processed/outputs/carros/standard/car_108_original.jpg. Não foi salvo novamente.\n",
      "Carro 2 da imagem 108_original já existe em ../data/processed/outputs/carros/standard/car_108_original(1).jpg. Não foi salvo novamente.\n",
      "Carro 3 da imagem 108_original já existe em ../data/processed/outputs/carros/standard/car_108_original(2).jpg. Não foi salvo novamente.\n",
      "Carro 4 da imagem 108_original já existe em ../data/processed/outputs/carros/standard/car_108_original(3).jpg. Não foi salvo novamente.\n",
      "Carro 5 da imagem 108_original já existe em ../data/processed/outputs/carros/standard/car_108_original(4).jpg. Não foi salvo novamente.\n",
      "Carro 6 da imagem 108_original já existe em ../data/processed/outputs/carros/standard/car_108_original(5).jpg. Não foi salvo novamente.\n",
      "Carro 7 da imagem 108_original já existe em ../data/processed/outputs/carros/standard/car_108_original(6).jpg. Não foi salvo novamente.\n",
      "Erro na imagem 108_original.jpg: Nenhum caminhão detectado na imagem.\n"
     ]
    },
    {
     "name": "stderr",
     "output_type": "stream",
     "text": [
      "image 1/1 c:\\Users\\Thiago\\OneDrive\\Documentos\\Facul\\6 Sexto semestre\\TCC\\TCC-CDIA\\notebooks\\..\\data\\frames\\images\\109_original.jpg: 384x640 5 cars, 2 traffic lights, 734.4ms\n",
      "Speed: 6.0ms preprocess, 734.4ms inference, 1.0ms postprocess per image at shape (1, 3, 384, 640)\n",
      "\n"
     ]
    },
    {
     "name": "stdout",
     "output_type": "stream",
     "text": [
      "Semáforo 1 da imagem 109_original já existe em ../data/processed/outputs/semafaros/standard/traffic_light_109_original.jpg. Não foi salvo novamente.\n",
      "Semáforo 2 da imagem 109_original já existe em ../data/processed/outputs/semafaros/standard/traffic_light_109_original(1).jpg. Não foi salvo novamente.\n",
      "Carro 1 da imagem 109_original já existe em ../data/processed/outputs/carros/standard/car_109_original.jpg. Não foi salvo novamente.\n",
      "Carro 2 da imagem 109_original já existe em ../data/processed/outputs/carros/standard/car_109_original(1).jpg. Não foi salvo novamente.\n",
      "Carro 3 da imagem 109_original já existe em ../data/processed/outputs/carros/standard/car_109_original(2).jpg. Não foi salvo novamente.\n",
      "Carro 4 da imagem 109_original já existe em ../data/processed/outputs/carros/standard/car_109_original(3).jpg. Não foi salvo novamente.\n",
      "Carro 5 da imagem 109_original já existe em ../data/processed/outputs/carros/standard/car_109_original(4).jpg. Não foi salvo novamente.\n",
      "Erro na imagem 109_original.jpg: Nenhum caminhão detectado na imagem.\n"
     ]
    },
    {
     "name": "stderr",
     "output_type": "stream",
     "text": [
      "image 1/1 c:\\Users\\Thiago\\OneDrive\\Documentos\\Facul\\6 Sexto semestre\\TCC\\TCC-CDIA\\notebooks\\..\\data\\frames\\images\\10_original.jpg: 384x640 1 person, 6 cars, 500.7ms\n",
      "Speed: 2.0ms preprocess, 500.7ms inference, 1.0ms postprocess per image at shape (1, 3, 384, 640)\n",
      "\n"
     ]
    },
    {
     "name": "stdout",
     "output_type": "stream",
     "text": [
      "Erro na imagem 10_original.jpg: Nenhum semáforo detectado na imagem.\n"
     ]
    },
    {
     "name": "stderr",
     "output_type": "stream",
     "text": [
      "image 1/1 c:\\Users\\Thiago\\OneDrive\\Documentos\\Facul\\6 Sexto semestre\\TCC\\TCC-CDIA\\notebooks\\..\\data\\frames\\images\\110_original.jpg: 384x640 5 persons, 6 cars, 2 trucks, 3 traffic lights, 3 benchs, 438.9ms\n",
      "Speed: 2.0ms preprocess, 438.9ms inference, 1.0ms postprocess per image at shape (1, 3, 384, 640)\n",
      "\n"
     ]
    },
    {
     "name": "stdout",
     "output_type": "stream",
     "text": [
      "Semáforo 1 da imagem 110_original já existe em ../data/processed/outputs/semafaros/standard/traffic_light_110_original.jpg. Não foi salvo novamente.\n",
      "Semáforo 2 da imagem 110_original já existe em ../data/processed/outputs/semafaros/standard/traffic_light_110_original(1).jpg. Não foi salvo novamente.\n",
      "Semáforo 3 da imagem 110_original já existe em ../data/processed/outputs/semafaros/standard/traffic_light_110_original(2).jpg. Não foi salvo novamente.\n",
      "Carro 1 da imagem 110_original já existe em ../data/processed/outputs/carros/standard/car_110_original.jpg. Não foi salvo novamente.\n",
      "Carro 2 da imagem 110_original já existe em ../data/processed/outputs/carros/standard/car_110_original(1).jpg. Não foi salvo novamente.\n",
      "Carro 3 da imagem 110_original já existe em ../data/processed/outputs/carros/standard/car_110_original(2).jpg. Não foi salvo novamente.\n",
      "Carro 4 da imagem 110_original já existe em ../data/processed/outputs/carros/standard/car_110_original(3).jpg. Não foi salvo novamente.\n",
      "Carro 5 da imagem 110_original já existe em ../data/processed/outputs/carros/standard/car_110_original(4).jpg. Não foi salvo novamente.\n",
      "Carro 6 da imagem 110_original já existe em ../data/processed/outputs/carros/standard/car_110_original(5).jpg. Não foi salvo novamente.\n",
      "Caminhão 1 da imagem 110_original já existe em ../data/processed/outputs/caminhao/standard/truck_110_original.jpg. Não foi salvo novamente.\n",
      "Caminhão 2 da imagem 110_original já existe em ../data/processed/outputs/caminhao/standard/truck_110_original(1).jpg. Não foi salvo novamente.\n",
      "Pessoa 1 da imagem 110_original já existe em ../data/processed/outputs/pessoas/standard/person_110_original.jpg. Não foi salva novamente.\n",
      "Pessoa 2 da imagem 110_original já existe em ../data/processed/outputs/pessoas/standard/person_110_original(1).jpg. Não foi salva novamente.\n",
      "Pessoa 3 da imagem 110_original já existe em ../data/processed/outputs/pessoas/standard/person_110_original(2).jpg. Não foi salva novamente.\n",
      "Pessoa 4 da imagem 110_original já existe em ../data/processed/outputs/pessoas/standard/person_110_original(3).jpg. Não foi salva novamente.\n",
      "Pessoa 5 da imagem 110_original já existe em ../data/processed/outputs/pessoas/standard/person_110_original(4).jpg. Não foi salva novamente.\n",
      "Erro na imagem 110_original.jpg: Nenhuma moto detectada na imagem.\n"
     ]
    },
    {
     "name": "stderr",
     "output_type": "stream",
     "text": [
      "image 1/1 c:\\Users\\Thiago\\OneDrive\\Documentos\\Facul\\6 Sexto semestre\\TCC\\TCC-CDIA\\notebooks\\..\\data\\frames\\images\\111_original.jpg: 384x640 6 cars, 494.7ms\n",
      "Speed: 4.0ms preprocess, 494.7ms inference, 3.0ms postprocess per image at shape (1, 3, 384, 640)\n",
      "\n"
     ]
    },
    {
     "name": "stdout",
     "output_type": "stream",
     "text": [
      "Erro na imagem 111_original.jpg: Nenhum semáforo detectado na imagem.\n"
     ]
    },
    {
     "name": "stderr",
     "output_type": "stream",
     "text": [
      "image 1/1 c:\\Users\\Thiago\\OneDrive\\Documentos\\Facul\\6 Sexto semestre\\TCC\\TCC-CDIA\\notebooks\\..\\data\\frames\\images\\112_original.jpg: 384x640 2 persons, 5 cars, 3 traffic lights, 538.6ms\n",
      "Speed: 3.0ms preprocess, 538.6ms inference, 2.0ms postprocess per image at shape (1, 3, 384, 640)\n",
      "\n"
     ]
    },
    {
     "name": "stdout",
     "output_type": "stream",
     "text": [
      "Semáforo 1 da imagem 112_original já existe em ../data/processed/outputs/semafaros/standard/traffic_light_112_original.jpg. Não foi salvo novamente.\n",
      "Semáforo 2 da imagem 112_original já existe em ../data/processed/outputs/semafaros/standard/traffic_light_112_original(1).jpg. Não foi salvo novamente.\n",
      "Semáforo 3 da imagem 112_original já existe em ../data/processed/outputs/semafaros/standard/traffic_light_112_original(2).jpg. Não foi salvo novamente.\n",
      "Carro 1 da imagem 112_original já existe em ../data/processed/outputs/carros/standard/car_112_original.jpg. Não foi salvo novamente.\n",
      "Carro 2 da imagem 112_original já existe em ../data/processed/outputs/carros/standard/car_112_original(1).jpg. Não foi salvo novamente.\n",
      "Carro 3 da imagem 112_original já existe em ../data/processed/outputs/carros/standard/car_112_original(2).jpg. Não foi salvo novamente.\n",
      "Carro 4 da imagem 112_original já existe em ../data/processed/outputs/carros/standard/car_112_original(3).jpg. Não foi salvo novamente.\n",
      "Carro 5 da imagem 112_original já existe em ../data/processed/outputs/carros/standard/car_112_original(4).jpg. Não foi salvo novamente.\n",
      "Erro na imagem 112_original.jpg: Nenhum caminhão detectado na imagem.\n"
     ]
    },
    {
     "name": "stderr",
     "output_type": "stream",
     "text": [
      "image 1/1 c:\\Users\\Thiago\\OneDrive\\Documentos\\Facul\\6 Sexto semestre\\TCC\\TCC-CDIA\\notebooks\\..\\data\\frames\\images\\113_original.jpg: 384x640 1 person, 10 cars, 1 truck, 474.7ms\n",
      "Speed: 2.0ms preprocess, 474.7ms inference, 3.0ms postprocess per image at shape (1, 3, 384, 640)\n",
      "\n"
     ]
    },
    {
     "name": "stdout",
     "output_type": "stream",
     "text": [
      "Erro na imagem 113_original.jpg: Nenhum semáforo detectado na imagem.\n"
     ]
    },
    {
     "name": "stderr",
     "output_type": "stream",
     "text": [
      "image 1/1 c:\\Users\\Thiago\\OneDrive\\Documentos\\Facul\\6 Sexto semestre\\TCC\\TCC-CDIA\\notebooks\\..\\data\\frames\\images\\114_original.jpg: 384x640 6 cars, 2 trucks, 2 benchs, 544.6ms\n",
      "Speed: 2.0ms preprocess, 544.6ms inference, 2.0ms postprocess per image at shape (1, 3, 384, 640)\n",
      "\n"
     ]
    },
    {
     "name": "stdout",
     "output_type": "stream",
     "text": [
      "Erro na imagem 114_original.jpg: Nenhum semáforo detectado na imagem.\n"
     ]
    },
    {
     "name": "stderr",
     "output_type": "stream",
     "text": [
      "image 1/1 c:\\Users\\Thiago\\OneDrive\\Documentos\\Facul\\6 Sexto semestre\\TCC\\TCC-CDIA\\notebooks\\..\\data\\frames\\images\\115_original.jpg: 384x640 9 cars, 1 truck, 588.4ms\n",
      "Speed: 3.0ms preprocess, 588.4ms inference, 4.0ms postprocess per image at shape (1, 3, 384, 640)\n",
      "\n"
     ]
    },
    {
     "name": "stdout",
     "output_type": "stream",
     "text": [
      "Erro na imagem 115_original.jpg: Nenhum semáforo detectado na imagem.\n"
     ]
    },
    {
     "name": "stderr",
     "output_type": "stream",
     "text": [
      "image 1/1 c:\\Users\\Thiago\\OneDrive\\Documentos\\Facul\\6 Sexto semestre\\TCC\\TCC-CDIA\\notebooks\\..\\data\\frames\\images\\116_original.jpg: 384x640 11 cars, 2 trucks, 501.8ms\n",
      "Speed: 6.0ms preprocess, 501.8ms inference, 2.0ms postprocess per image at shape (1, 3, 384, 640)\n",
      "\n"
     ]
    },
    {
     "name": "stdout",
     "output_type": "stream",
     "text": [
      "Erro na imagem 116_original.jpg: Nenhum semáforo detectado na imagem.\n"
     ]
    },
    {
     "name": "stderr",
     "output_type": "stream",
     "text": [
      "image 1/1 c:\\Users\\Thiago\\OneDrive\\Documentos\\Facul\\6 Sexto semestre\\TCC\\TCC-CDIA\\notebooks\\..\\data\\frames\\images\\117_original.jpg: 384x640 1 person, 9 cars, 1 traffic light, 634.3ms\n",
      "Speed: 2.0ms preprocess, 634.3ms inference, 3.0ms postprocess per image at shape (1, 3, 384, 640)\n",
      "\n"
     ]
    },
    {
     "name": "stdout",
     "output_type": "stream",
     "text": [
      "Semáforo 1 da imagem 117_original já existe em ../data/processed/outputs/semafaros/standard/traffic_light_117_original.jpg. Não foi salvo novamente.\n",
      "Carro 1 da imagem 117_original já existe em ../data/processed/outputs/carros/standard/car_117_original.jpg. Não foi salvo novamente.\n",
      "Carro 2 da imagem 117_original já existe em ../data/processed/outputs/carros/standard/car_117_original(1).jpg. Não foi salvo novamente.\n",
      "Carro 3 da imagem 117_original já existe em ../data/processed/outputs/carros/standard/car_117_original(2).jpg. Não foi salvo novamente.\n",
      "Carro 4 da imagem 117_original já existe em ../data/processed/outputs/carros/standard/car_117_original(3).jpg. Não foi salvo novamente.\n",
      "Carro 5 da imagem 117_original já existe em ../data/processed/outputs/carros/standard/car_117_original(4).jpg. Não foi salvo novamente.\n",
      "Carro 6 da imagem 117_original já existe em ../data/processed/outputs/carros/standard/car_117_original(5).jpg. Não foi salvo novamente.\n",
      "Carro 7 da imagem 117_original já existe em ../data/processed/outputs/carros/standard/car_117_original(6).jpg. Não foi salvo novamente.\n",
      "Carro 8 da imagem 117_original já existe em ../data/processed/outputs/carros/standard/car_117_original(7).jpg. Não foi salvo novamente.\n",
      "Carro 9 da imagem 117_original já existe em ../data/processed/outputs/carros/standard/car_117_original(8).jpg. Não foi salvo novamente.\n",
      "Erro na imagem 117_original.jpg: Nenhum caminhão detectado na imagem.\n"
     ]
    },
    {
     "name": "stderr",
     "output_type": "stream",
     "text": [
      "image 1/1 c:\\Users\\Thiago\\OneDrive\\Documentos\\Facul\\6 Sexto semestre\\TCC\\TCC-CDIA\\notebooks\\..\\data\\frames\\images\\118_original.jpg: 384x640 2 persons, 7 cars, 1 truck, 3 traffic lights, 1 stop sign, 2 benchs, 525.6ms\n",
      "Speed: 3.0ms preprocess, 525.6ms inference, 3.0ms postprocess per image at shape (1, 3, 384, 640)\n",
      "\n"
     ]
    },
    {
     "name": "stdout",
     "output_type": "stream",
     "text": [
      "Semáforo 1 da imagem 118_original já existe em ../data/processed/outputs/semafaros/standard/traffic_light_118_original.jpg. Não foi salvo novamente.\n",
      "Semáforo 2 da imagem 118_original já existe em ../data/processed/outputs/semafaros/standard/traffic_light_118_original(1).jpg. Não foi salvo novamente.\n",
      "Semáforo 3 da imagem 118_original já existe em ../data/processed/outputs/semafaros/standard/traffic_light_118_original(2).jpg. Não foi salvo novamente.\n",
      "Carro 1 da imagem 118_original já existe em ../data/processed/outputs/carros/standard/car_118_original.jpg. Não foi salvo novamente.\n",
      "Carro 2 da imagem 118_original já existe em ../data/processed/outputs/carros/standard/car_118_original(1).jpg. Não foi salvo novamente.\n",
      "Carro 3 da imagem 118_original já existe em ../data/processed/outputs/carros/standard/car_118_original(2).jpg. Não foi salvo novamente.\n",
      "Carro 4 da imagem 118_original já existe em ../data/processed/outputs/carros/standard/car_118_original(3).jpg. Não foi salvo novamente.\n",
      "Carro 5 da imagem 118_original já existe em ../data/processed/outputs/carros/standard/car_118_original(4).jpg. Não foi salvo novamente.\n",
      "Carro 6 da imagem 118_original já existe em ../data/processed/outputs/carros/standard/car_118_original(5).jpg. Não foi salvo novamente.\n",
      "Carro 7 da imagem 118_original já existe em ../data/processed/outputs/carros/standard/car_118_original(6).jpg. Não foi salvo novamente.\n",
      "Caminhão 1 da imagem 118_original já existe em ../data/processed/outputs/caminhao/standard/truck_118_original.jpg. Não foi salvo novamente.\n",
      "Pessoa 1 da imagem 118_original já existe em ../data/processed/outputs/pessoas/standard/person_118_original.jpg. Não foi salva novamente.\n",
      "Pessoa 2 da imagem 118_original já existe em ../data/processed/outputs/pessoas/standard/person_118_original(1).jpg. Não foi salva novamente.\n",
      "Erro na imagem 118_original.jpg: Nenhuma moto detectada na imagem.\n"
     ]
    },
    {
     "name": "stderr",
     "output_type": "stream",
     "text": [
      "image 1/1 c:\\Users\\Thiago\\OneDrive\\Documentos\\Facul\\6 Sexto semestre\\TCC\\TCC-CDIA\\notebooks\\..\\data\\frames\\images\\119_original.jpg: 384x640 1 person, 11 cars, 1 traffic light, 522.6ms\n",
      "Speed: 2.0ms preprocess, 522.6ms inference, 4.0ms postprocess per image at shape (1, 3, 384, 640)\n",
      "\n"
     ]
    },
    {
     "name": "stdout",
     "output_type": "stream",
     "text": [
      "Semáforo 1 da imagem 119_original já existe em ../data/processed/outputs/semafaros/standard/traffic_light_119_original.jpg. Não foi salvo novamente.\n",
      "Carro 1 da imagem 119_original já existe em ../data/processed/outputs/carros/standard/car_119_original.jpg. Não foi salvo novamente.\n",
      "Carro 2 da imagem 119_original já existe em ../data/processed/outputs/carros/standard/car_119_original(1).jpg. Não foi salvo novamente.\n",
      "Carro 3 da imagem 119_original já existe em ../data/processed/outputs/carros/standard/car_119_original(2).jpg. Não foi salvo novamente.\n",
      "Carro 4 da imagem 119_original já existe em ../data/processed/outputs/carros/standard/car_119_original(3).jpg. Não foi salvo novamente.\n",
      "Carro 5 da imagem 119_original já existe em ../data/processed/outputs/carros/standard/car_119_original(4).jpg. Não foi salvo novamente.\n",
      "Carro 6 da imagem 119_original já existe em ../data/processed/outputs/carros/standard/car_119_original(5).jpg. Não foi salvo novamente.\n",
      "Carro 7 da imagem 119_original já existe em ../data/processed/outputs/carros/standard/car_119_original(6).jpg. Não foi salvo novamente.\n",
      "Carro 8 da imagem 119_original já existe em ../data/processed/outputs/carros/standard/car_119_original(7).jpg. Não foi salvo novamente.\n",
      "Carro 9 da imagem 119_original já existe em ../data/processed/outputs/carros/standard/car_119_original(8).jpg. Não foi salvo novamente.\n",
      "Carro 10 da imagem 119_original já existe em ../data/processed/outputs/carros/standard/car_119_original(9).jpg. Não foi salvo novamente.\n",
      "Carro 11 da imagem 119_original já existe em ../data/processed/outputs/carros/standard/car_119_original(10).jpg. Não foi salvo novamente.\n",
      "Erro na imagem 119_original.jpg: Nenhum caminhão detectado na imagem.\n"
     ]
    },
    {
     "name": "stderr",
     "output_type": "stream",
     "text": [
      "image 1/1 c:\\Users\\Thiago\\OneDrive\\Documentos\\Facul\\6 Sexto semestre\\TCC\\TCC-CDIA\\notebooks\\..\\data\\frames\\images\\11_original.jpg: 384x640 1 car, 1 stop sign, 599.5ms\n",
      "Speed: 3.0ms preprocess, 599.5ms inference, 3.0ms postprocess per image at shape (1, 3, 384, 640)\n",
      "\n"
     ]
    },
    {
     "name": "stdout",
     "output_type": "stream",
     "text": [
      "Erro na imagem 11_original.jpg: Nenhum semáforo detectado na imagem.\n"
     ]
    },
    {
     "name": "stderr",
     "output_type": "stream",
     "text": [
      "image 1/1 c:\\Users\\Thiago\\OneDrive\\Documentos\\Facul\\6 Sexto semestre\\TCC\\TCC-CDIA\\notebooks\\..\\data\\frames\\images\\120_original.jpg: 384x640 1 person, 7 cars, 1 traffic light, 514.6ms\n",
      "Speed: 3.0ms preprocess, 514.6ms inference, 2.0ms postprocess per image at shape (1, 3, 384, 640)\n",
      "\n"
     ]
    },
    {
     "name": "stdout",
     "output_type": "stream",
     "text": [
      "Semáforo 1 da imagem 120_original já existe em ../data/processed/outputs/semafaros/standard/traffic_light_120_original.jpg. Não foi salvo novamente.\n",
      "Carro 1 da imagem 120_original já existe em ../data/processed/outputs/carros/standard/car_120_original.jpg. Não foi salvo novamente.\n",
      "Carro 2 da imagem 120_original já existe em ../data/processed/outputs/carros/standard/car_120_original(1).jpg. Não foi salvo novamente.\n",
      "Carro 3 da imagem 120_original já existe em ../data/processed/outputs/carros/standard/car_120_original(2).jpg. Não foi salvo novamente.\n",
      "Carro 4 da imagem 120_original já existe em ../data/processed/outputs/carros/standard/car_120_original(3).jpg. Não foi salvo novamente.\n",
      "Carro 5 da imagem 120_original já existe em ../data/processed/outputs/carros/standard/car_120_original(4).jpg. Não foi salvo novamente.\n",
      "Carro 6 da imagem 120_original já existe em ../data/processed/outputs/carros/standard/car_120_original(5).jpg. Não foi salvo novamente.\n",
      "Carro 7 da imagem 120_original já existe em ../data/processed/outputs/carros/standard/car_120_original(6).jpg. Não foi salvo novamente.\n",
      "Erro na imagem 120_original.jpg: Nenhum caminhão detectado na imagem.\n"
     ]
    },
    {
     "name": "stderr",
     "output_type": "stream",
     "text": [
      "image 1/1 c:\\Users\\Thiago\\OneDrive\\Documentos\\Facul\\6 Sexto semestre\\TCC\\TCC-CDIA\\notebooks\\..\\data\\frames\\images\\121_original.jpg: 384x640 6 cars, 506.6ms\n",
      "Speed: 2.0ms preprocess, 506.6ms inference, 1.0ms postprocess per image at shape (1, 3, 384, 640)\n",
      "\n"
     ]
    },
    {
     "name": "stdout",
     "output_type": "stream",
     "text": [
      "Erro na imagem 121_original.jpg: Nenhum semáforo detectado na imagem.\n"
     ]
    },
    {
     "name": "stderr",
     "output_type": "stream",
     "text": [
      "image 1/1 c:\\Users\\Thiago\\OneDrive\\Documentos\\Facul\\6 Sexto semestre\\TCC\\TCC-CDIA\\notebooks\\..\\data\\frames\\images\\122_original.jpg: 384x640 5 cars, 1 truck, 564.1ms\n",
      "Speed: 3.0ms preprocess, 564.1ms inference, 2.0ms postprocess per image at shape (1, 3, 384, 640)\n",
      "\n"
     ]
    },
    {
     "name": "stdout",
     "output_type": "stream",
     "text": [
      "Erro na imagem 122_original.jpg: Nenhum semáforo detectado na imagem.\n"
     ]
    },
    {
     "name": "stderr",
     "output_type": "stream",
     "text": [
      "image 1/1 c:\\Users\\Thiago\\OneDrive\\Documentos\\Facul\\6 Sexto semestre\\TCC\\TCC-CDIA\\notebooks\\..\\data\\frames\\images\\123_original.jpg: 384x640 3 persons, 3 cars, 1 traffic light, 542.5ms\n",
      "Speed: 5.0ms preprocess, 542.5ms inference, 3.0ms postprocess per image at shape (1, 3, 384, 640)\n",
      "\n"
     ]
    },
    {
     "name": "stdout",
     "output_type": "stream",
     "text": [
      "Semáforo 1 da imagem 123_original já existe em ../data/processed/outputs/semafaros/standard/traffic_light_123_original.jpg. Não foi salvo novamente.\n",
      "Carro 1 da imagem 123_original já existe em ../data/processed/outputs/carros/standard/car_123_original.jpg. Não foi salvo novamente.\n",
      "Carro 2 da imagem 123_original já existe em ../data/processed/outputs/carros/standard/car_123_original(1).jpg. Não foi salvo novamente.\n",
      "Carro 3 da imagem 123_original já existe em ../data/processed/outputs/carros/standard/car_123_original(2).jpg. Não foi salvo novamente.\n",
      "Erro na imagem 123_original.jpg: Nenhum caminhão detectado na imagem.\n"
     ]
    },
    {
     "name": "stderr",
     "output_type": "stream",
     "text": [
      "image 1/1 c:\\Users\\Thiago\\OneDrive\\Documentos\\Facul\\6 Sexto semestre\\TCC\\TCC-CDIA\\notebooks\\..\\data\\frames\\images\\124_original.jpg: 384x640 5 cars, 1 truck, 645.9ms\n",
      "Speed: 3.0ms preprocess, 645.9ms inference, 2.0ms postprocess per image at shape (1, 3, 384, 640)\n",
      "\n"
     ]
    },
    {
     "name": "stdout",
     "output_type": "stream",
     "text": [
      "Erro na imagem 124_original.jpg: Nenhum semáforo detectado na imagem.\n"
     ]
    },
    {
     "name": "stderr",
     "output_type": "stream",
     "text": [
      "image 1/1 c:\\Users\\Thiago\\OneDrive\\Documentos\\Facul\\6 Sexto semestre\\TCC\\TCC-CDIA\\notebooks\\..\\data\\frames\\images\\125_original.jpg: 384x640 1 person, 8 cars, 1 motorcycle, 1 truck, 1 traffic light, 496.2ms\n",
      "Speed: 3.0ms preprocess, 496.2ms inference, 3.0ms postprocess per image at shape (1, 3, 384, 640)\n",
      "\n"
     ]
    },
    {
     "name": "stdout",
     "output_type": "stream",
     "text": [
      "Semáforo 1 da imagem 125_original já existe em ../data/processed/outputs/semafaros/standard/traffic_light_125_original.jpg. Não foi salvo novamente.\n",
      "Carro 1 da imagem 125_original já existe em ../data/processed/outputs/carros/standard/car_125_original.jpg. Não foi salvo novamente.\n",
      "Carro 2 da imagem 125_original já existe em ../data/processed/outputs/carros/standard/car_125_original(1).jpg. Não foi salvo novamente.\n",
      "Carro 3 da imagem 125_original já existe em ../data/processed/outputs/carros/standard/car_125_original(2).jpg. Não foi salvo novamente.\n",
      "Carro 4 da imagem 125_original já existe em ../data/processed/outputs/carros/standard/car_125_original(3).jpg. Não foi salvo novamente.\n",
      "Carro 5 da imagem 125_original já existe em ../data/processed/outputs/carros/standard/car_125_original(4).jpg. Não foi salvo novamente.\n",
      "Carro 6 da imagem 125_original já existe em ../data/processed/outputs/carros/standard/car_125_original(5).jpg. Não foi salvo novamente.\n",
      "Carro 7 da imagem 125_original já existe em ../data/processed/outputs/carros/standard/car_125_original(6).jpg. Não foi salvo novamente.\n",
      "Carro 8 da imagem 125_original já existe em ../data/processed/outputs/carros/standard/car_125_original(7).jpg. Não foi salvo novamente.\n",
      "Caminhão 1 da imagem 125_original já existe em ../data/processed/outputs/caminhao/standard/truck_125_original.jpg. Não foi salvo novamente.\n",
      "Pessoa 1 da imagem 125_original já existe em ../data/processed/outputs/pessoas/standard/person_125_original.jpg. Não foi salva novamente.\n",
      "Moto 1 da imagem 125_original já existe em ../data/processed/outputs/motos/standard/motorcycle_125_original.jpg. Não foi salva novamente.\n"
     ]
    },
    {
     "name": "stderr",
     "output_type": "stream",
     "text": [
      "image 1/1 c:\\Users\\Thiago\\OneDrive\\Documentos\\Facul\\6 Sexto semestre\\TCC\\TCC-CDIA\\notebooks\\..\\data\\frames\\images\\126_original.jpg: 384x640 8 persons, 6 cars, 2 traffic lights, 3 benchs, 795.2ms\n",
      "Speed: 31.9ms preprocess, 795.2ms inference, 6.0ms postprocess per image at shape (1, 3, 384, 640)\n",
      "\n"
     ]
    },
    {
     "name": "stdout",
     "output_type": "stream",
     "text": [
      "Semáforo 1 da imagem 126_original já existe em ../data/processed/outputs/semafaros/standard/traffic_light_126_original.jpg. Não foi salvo novamente.\n",
      "Semáforo 2 da imagem 126_original já existe em ../data/processed/outputs/semafaros/standard/traffic_light_126_original(1).jpg. Não foi salvo novamente.\n",
      "Carro 1 da imagem 126_original já existe em ../data/processed/outputs/carros/standard/car_126_original.jpg. Não foi salvo novamente.\n",
      "Carro 2 da imagem 126_original já existe em ../data/processed/outputs/carros/standard/car_126_original(1).jpg. Não foi salvo novamente.\n",
      "Carro 3 da imagem 126_original já existe em ../data/processed/outputs/carros/standard/car_126_original(2).jpg. Não foi salvo novamente.\n",
      "Carro 4 da imagem 126_original já existe em ../data/processed/outputs/carros/standard/car_126_original(3).jpg. Não foi salvo novamente.\n",
      "Carro 5 da imagem 126_original já existe em ../data/processed/outputs/carros/standard/car_126_original(4).jpg. Não foi salvo novamente.\n",
      "Carro 6 da imagem 126_original já existe em ../data/processed/outputs/carros/standard/car_126_original(5).jpg. Não foi salvo novamente.\n",
      "Erro na imagem 126_original.jpg: Nenhum caminhão detectado na imagem.\n"
     ]
    },
    {
     "name": "stderr",
     "output_type": "stream",
     "text": [
      "image 1/1 c:\\Users\\Thiago\\OneDrive\\Documentos\\Facul\\6 Sexto semestre\\TCC\\TCC-CDIA\\notebooks\\..\\data\\frames\\images\\127_original.jpg: 384x640 9 cars, 1 truck, 1 traffic light, 854.4ms\n",
      "Speed: 2.0ms preprocess, 854.4ms inference, 3.0ms postprocess per image at shape (1, 3, 384, 640)\n",
      "\n"
     ]
    },
    {
     "name": "stdout",
     "output_type": "stream",
     "text": [
      "Semáforo 1 da imagem 127_original já existe em ../data/processed/outputs/semafaros/standard/traffic_light_127_original.jpg. Não foi salvo novamente.\n",
      "Carro 1 da imagem 127_original já existe em ../data/processed/outputs/carros/standard/car_127_original.jpg. Não foi salvo novamente.\n",
      "Carro 2 da imagem 127_original já existe em ../data/processed/outputs/carros/standard/car_127_original(1).jpg. Não foi salvo novamente.\n",
      "Carro 3 da imagem 127_original já existe em ../data/processed/outputs/carros/standard/car_127_original(2).jpg. Não foi salvo novamente.\n",
      "Carro 4 da imagem 127_original já existe em ../data/processed/outputs/carros/standard/car_127_original(3).jpg. Não foi salvo novamente.\n",
      "Carro 5 da imagem 127_original já existe em ../data/processed/outputs/carros/standard/car_127_original(4).jpg. Não foi salvo novamente.\n",
      "Carro 6 da imagem 127_original já existe em ../data/processed/outputs/carros/standard/car_127_original(5).jpg. Não foi salvo novamente.\n",
      "Carro 7 da imagem 127_original já existe em ../data/processed/outputs/carros/standard/car_127_original(6).jpg. Não foi salvo novamente.\n",
      "Carro 8 da imagem 127_original já existe em ../data/processed/outputs/carros/standard/car_127_original(7).jpg. Não foi salvo novamente.\n",
      "Carro 9 da imagem 127_original já existe em ../data/processed/outputs/carros/standard/car_127_original(8).jpg. Não foi salvo novamente.\n",
      "Caminhão 1 da imagem 127_original já existe em ../data/processed/outputs/caminhao/standard/truck_127_original.jpg. Não foi salvo novamente.\n",
      "Erro na imagem 127_original.jpg: Nenhuma pessoa detectada na imagem.\n"
     ]
    },
    {
     "name": "stderr",
     "output_type": "stream",
     "text": [
      "image 1/1 c:\\Users\\Thiago\\OneDrive\\Documentos\\Facul\\6 Sexto semestre\\TCC\\TCC-CDIA\\notebooks\\..\\data\\frames\\images\\128_original.jpg: 384x640 1 person, 7 cars, 1 motorcycle, 1 truck, 656.2ms\n",
      "Speed: 8.0ms preprocess, 656.2ms inference, 2.0ms postprocess per image at shape (1, 3, 384, 640)\n",
      "\n"
     ]
    },
    {
     "name": "stdout",
     "output_type": "stream",
     "text": [
      "Erro na imagem 128_original.jpg: Nenhum semáforo detectado na imagem.\n"
     ]
    },
    {
     "name": "stderr",
     "output_type": "stream",
     "text": [
      "image 1/1 c:\\Users\\Thiago\\OneDrive\\Documentos\\Facul\\6 Sexto semestre\\TCC\\TCC-CDIA\\notebooks\\..\\data\\frames\\images\\129_original.jpg: 384x640 10 persons, 2 cars, 5 traffic lights, 1 bench, 482.1ms\n",
      "Speed: 3.0ms preprocess, 482.1ms inference, 2.0ms postprocess per image at shape (1, 3, 384, 640)\n",
      "\n"
     ]
    },
    {
     "name": "stdout",
     "output_type": "stream",
     "text": [
      "Semáforo 1 da imagem 129_original já existe em ../data/processed/outputs/semafaros/standard/traffic_light_129_original.jpg. Não foi salvo novamente.\n",
      "Semáforo 2 da imagem 129_original já existe em ../data/processed/outputs/semafaros/standard/traffic_light_129_original(1).jpg. Não foi salvo novamente.\n",
      "Semáforo 3 da imagem 129_original já existe em ../data/processed/outputs/semafaros/standard/traffic_light_129_original(2).jpg. Não foi salvo novamente.\n",
      "Semáforo 4 da imagem 129_original já existe em ../data/processed/outputs/semafaros/standard/traffic_light_129_original(3).jpg. Não foi salvo novamente.\n",
      "Semáforo 5 da imagem 129_original já existe em ../data/processed/outputs/semafaros/standard/traffic_light_129_original(4).jpg. Não foi salvo novamente.\n",
      "Carro 1 da imagem 129_original já existe em ../data/processed/outputs/carros/standard/car_129_original.jpg. Não foi salvo novamente.\n",
      "Carro 2 da imagem 129_original já existe em ../data/processed/outputs/carros/standard/car_129_original(1).jpg. Não foi salvo novamente.\n",
      "Erro na imagem 129_original.jpg: Nenhum caminhão detectado na imagem.\n"
     ]
    },
    {
     "name": "stderr",
     "output_type": "stream",
     "text": [
      "image 1/1 c:\\Users\\Thiago\\OneDrive\\Documentos\\Facul\\6 Sexto semestre\\TCC\\TCC-CDIA\\notebooks\\..\\data\\frames\\images\\12_original.jpg: 384x640 1 person, 6 cars, 1 truck, 1 traffic light, 477.1ms\n",
      "Speed: 1.0ms preprocess, 477.1ms inference, 2.0ms postprocess per image at shape (1, 3, 384, 640)\n",
      "\n"
     ]
    },
    {
     "name": "stdout",
     "output_type": "stream",
     "text": [
      "Semáforo 1 da imagem 12_original já existe em ../data/processed/outputs/semafaros/standard/traffic_light_12_original.jpg. Não foi salvo novamente.\n",
      "Carro 1 da imagem 12_original já existe em ../data/processed/outputs/carros/standard/car_12_original.jpg. Não foi salvo novamente.\n",
      "Carro 2 da imagem 12_original já existe em ../data/processed/outputs/carros/standard/car_12_original(1).jpg. Não foi salvo novamente.\n",
      "Carro 3 da imagem 12_original já existe em ../data/processed/outputs/carros/standard/car_12_original(2).jpg. Não foi salvo novamente.\n",
      "Carro 4 da imagem 12_original já existe em ../data/processed/outputs/carros/standard/car_12_original(3).jpg. Não foi salvo novamente.\n",
      "Carro 5 da imagem 12_original já existe em ../data/processed/outputs/carros/standard/car_12_original(4).jpg. Não foi salvo novamente.\n",
      "Carro 6 da imagem 12_original já existe em ../data/processed/outputs/carros/standard/car_12_original(5).jpg. Não foi salvo novamente.\n",
      "Caminhão 1 da imagem 12_original já existe em ../data/processed/outputs/caminhao/standard/truck_12_original.jpg. Não foi salvo novamente.\n",
      "Pessoa 1 da imagem 12_original já existe em ../data/processed/outputs/pessoas/standard/person_12_original.jpg. Não foi salva novamente.\n",
      "Erro na imagem 12_original.jpg: Nenhuma moto detectada na imagem.\n"
     ]
    },
    {
     "name": "stderr",
     "output_type": "stream",
     "text": [
      "image 1/1 c:\\Users\\Thiago\\OneDrive\\Documentos\\Facul\\6 Sexto semestre\\TCC\\TCC-CDIA\\notebooks\\..\\data\\frames\\images\\130_original.jpg: 384x640 3 persons, 6 cars, 1 motorcycle, 1 bus, 508.3ms\n",
      "Speed: 2.0ms preprocess, 508.3ms inference, 2.0ms postprocess per image at shape (1, 3, 384, 640)\n",
      "\n"
     ]
    },
    {
     "name": "stdout",
     "output_type": "stream",
     "text": [
      "Erro na imagem 130_original.jpg: Nenhum semáforo detectado na imagem.\n"
     ]
    },
    {
     "name": "stderr",
     "output_type": "stream",
     "text": [
      "image 1/1 c:\\Users\\Thiago\\OneDrive\\Documentos\\Facul\\6 Sexto semestre\\TCC\\TCC-CDIA\\notebooks\\..\\data\\frames\\images\\131_original.jpg: 384x640 5 persons, 8 cars, 1 motorcycle, 1 bus, 1 traffic light, 560.6ms\n",
      "Speed: 3.0ms preprocess, 560.6ms inference, 2.0ms postprocess per image at shape (1, 3, 384, 640)\n",
      "\n"
     ]
    },
    {
     "name": "stdout",
     "output_type": "stream",
     "text": [
      "Semáforo 1 da imagem 131_original já existe em ../data/processed/outputs/semafaros/standard/traffic_light_131_original.jpg. Não foi salvo novamente.\n",
      "Carro 1 da imagem 131_original já existe em ../data/processed/outputs/carros/standard/car_131_original.jpg. Não foi salvo novamente.\n",
      "Carro 2 da imagem 131_original já existe em ../data/processed/outputs/carros/standard/car_131_original(1).jpg. Não foi salvo novamente.\n",
      "Carro 3 da imagem 131_original já existe em ../data/processed/outputs/carros/standard/car_131_original(2).jpg. Não foi salvo novamente.\n",
      "Carro 4 da imagem 131_original já existe em ../data/processed/outputs/carros/standard/car_131_original(3).jpg. Não foi salvo novamente.\n",
      "Carro 5 da imagem 131_original já existe em ../data/processed/outputs/carros/standard/car_131_original(4).jpg. Não foi salvo novamente.\n",
      "Carro 6 da imagem 131_original já existe em ../data/processed/outputs/carros/standard/car_131_original(5).jpg. Não foi salvo novamente.\n",
      "Carro 7 da imagem 131_original já existe em ../data/processed/outputs/carros/standard/car_131_original(6).jpg. Não foi salvo novamente.\n",
      "Carro 8 da imagem 131_original já existe em ../data/processed/outputs/carros/standard/car_131_original(7).jpg. Não foi salvo novamente.\n",
      "Erro na imagem 131_original.jpg: Nenhum caminhão detectado na imagem.\n"
     ]
    },
    {
     "name": "stderr",
     "output_type": "stream",
     "text": [
      "image 1/1 c:\\Users\\Thiago\\OneDrive\\Documentos\\Facul\\6 Sexto semestre\\TCC\\TCC-CDIA\\notebooks\\..\\data\\frames\\images\\132_original.jpg: 384x640 3 persons, 7 cars, 1 motorcycle, 1 bus, 1 traffic light, 525.6ms\n",
      "Speed: 3.0ms preprocess, 525.6ms inference, 2.0ms postprocess per image at shape (1, 3, 384, 640)\n",
      "\n"
     ]
    },
    {
     "name": "stdout",
     "output_type": "stream",
     "text": [
      "Semáforo 1 da imagem 132_original já existe em ../data/processed/outputs/semafaros/standard/traffic_light_132_original.jpg. Não foi salvo novamente.\n",
      "Carro 1 da imagem 132_original já existe em ../data/processed/outputs/carros/standard/car_132_original.jpg. Não foi salvo novamente.\n",
      "Carro 2 da imagem 132_original já existe em ../data/processed/outputs/carros/standard/car_132_original(1).jpg. Não foi salvo novamente.\n",
      "Carro 3 da imagem 132_original já existe em ../data/processed/outputs/carros/standard/car_132_original(2).jpg. Não foi salvo novamente.\n",
      "Carro 4 da imagem 132_original já existe em ../data/processed/outputs/carros/standard/car_132_original(3).jpg. Não foi salvo novamente.\n",
      "Carro 5 da imagem 132_original já existe em ../data/processed/outputs/carros/standard/car_132_original(4).jpg. Não foi salvo novamente.\n",
      "Carro 6 da imagem 132_original já existe em ../data/processed/outputs/carros/standard/car_132_original(5).jpg. Não foi salvo novamente.\n",
      "Carro 7 da imagem 132_original já existe em ../data/processed/outputs/carros/standard/car_132_original(6).jpg. Não foi salvo novamente.\n",
      "Erro na imagem 132_original.jpg: Nenhum caminhão detectado na imagem.\n"
     ]
    },
    {
     "name": "stderr",
     "output_type": "stream",
     "text": [
      "image 1/1 c:\\Users\\Thiago\\OneDrive\\Documentos\\Facul\\6 Sexto semestre\\TCC\\TCC-CDIA\\notebooks\\..\\data\\frames\\images\\133_original.jpg: 384x640 2 persons, 11 cars, 505.6ms\n",
      "Speed: 3.0ms preprocess, 505.6ms inference, 2.0ms postprocess per image at shape (1, 3, 384, 640)\n",
      "\n"
     ]
    },
    {
     "name": "stdout",
     "output_type": "stream",
     "text": [
      "Erro na imagem 133_original.jpg: Nenhum semáforo detectado na imagem.\n"
     ]
    },
    {
     "name": "stderr",
     "output_type": "stream",
     "text": [
      "image 1/1 c:\\Users\\Thiago\\OneDrive\\Documentos\\Facul\\6 Sexto semestre\\TCC\\TCC-CDIA\\notebooks\\..\\data\\frames\\images\\134_original.jpg: 384x640 2 persons, 1 car, 590.5ms\n",
      "Speed: 4.0ms preprocess, 590.5ms inference, 2.0ms postprocess per image at shape (1, 3, 384, 640)\n",
      "\n"
     ]
    },
    {
     "name": "stdout",
     "output_type": "stream",
     "text": [
      "Erro na imagem 134_original.jpg: Nenhum semáforo detectado na imagem.\n"
     ]
    },
    {
     "name": "stderr",
     "output_type": "stream",
     "text": [
      "image 1/1 c:\\Users\\Thiago\\OneDrive\\Documentos\\Facul\\6 Sexto semestre\\TCC\\TCC-CDIA\\notebooks\\..\\data\\frames\\images\\135_original.jpg: 384x640 1 person, 12 cars, 1 truck, 478.7ms\n",
      "Speed: 4.0ms preprocess, 478.7ms inference, 2.0ms postprocess per image at shape (1, 3, 384, 640)\n",
      "\n"
     ]
    },
    {
     "name": "stdout",
     "output_type": "stream",
     "text": [
      "Erro na imagem 135_original.jpg: Nenhum semáforo detectado na imagem.\n"
     ]
    },
    {
     "name": "stderr",
     "output_type": "stream",
     "text": [
      "image 1/1 c:\\Users\\Thiago\\OneDrive\\Documentos\\Facul\\6 Sexto semestre\\TCC\\TCC-CDIA\\notebooks\\..\\data\\frames\\images\\136_original.jpg: 384x640 6 persons, 9 cars, 1 motorcycle, 1 umbrella, 520.6ms\n",
      "Speed: 2.0ms preprocess, 520.6ms inference, 3.0ms postprocess per image at shape (1, 3, 384, 640)\n",
      "\n"
     ]
    },
    {
     "name": "stdout",
     "output_type": "stream",
     "text": [
      "Erro na imagem 136_original.jpg: Nenhum semáforo detectado na imagem.\n"
     ]
    },
    {
     "name": "stderr",
     "output_type": "stream",
     "text": [
      "image 1/1 c:\\Users\\Thiago\\OneDrive\\Documentos\\Facul\\6 Sexto semestre\\TCC\\TCC-CDIA\\notebooks\\..\\data\\frames\\images\\137_original.jpg: 384x640 1 person, 11 cars, 521.6ms\n",
      "Speed: 2.0ms preprocess, 521.6ms inference, 2.0ms postprocess per image at shape (1, 3, 384, 640)\n",
      "\n"
     ]
    },
    {
     "name": "stdout",
     "output_type": "stream",
     "text": [
      "Erro na imagem 137_original.jpg: Nenhum semáforo detectado na imagem.\n"
     ]
    },
    {
     "name": "stderr",
     "output_type": "stream",
     "text": [
      "image 1/1 c:\\Users\\Thiago\\OneDrive\\Documentos\\Facul\\6 Sexto semestre\\TCC\\TCC-CDIA\\notebooks\\..\\data\\frames\\images\\138_original.jpg: 384x640 3 persons, 4 cars, 1 motorcycle, 2 traffic lights, 506.6ms\n",
      "Speed: 2.0ms preprocess, 506.6ms inference, 2.0ms postprocess per image at shape (1, 3, 384, 640)\n",
      "\n"
     ]
    },
    {
     "name": "stdout",
     "output_type": "stream",
     "text": [
      "Semáforo 1 da imagem 138_original já existe em ../data/processed/outputs/semafaros/standard/traffic_light_138_original.jpg. Não foi salvo novamente.\n",
      "Semáforo 2 da imagem 138_original já existe em ../data/processed/outputs/semafaros/standard/traffic_light_138_original(1).jpg. Não foi salvo novamente.\n",
      "Carro 1 da imagem 138_original já existe em ../data/processed/outputs/carros/standard/car_138_original.jpg. Não foi salvo novamente.\n",
      "Carro 2 da imagem 138_original já existe em ../data/processed/outputs/carros/standard/car_138_original(1).jpg. Não foi salvo novamente.\n",
      "Carro 3 da imagem 138_original já existe em ../data/processed/outputs/carros/standard/car_138_original(2).jpg. Não foi salvo novamente.\n",
      "Carro 4 da imagem 138_original já existe em ../data/processed/outputs/carros/standard/car_138_original(3).jpg. Não foi salvo novamente.\n",
      "Erro na imagem 138_original.jpg: Nenhum caminhão detectado na imagem.\n"
     ]
    },
    {
     "name": "stderr",
     "output_type": "stream",
     "text": [
      "image 1/1 c:\\Users\\Thiago\\OneDrive\\Documentos\\Facul\\6 Sexto semestre\\TCC\\TCC-CDIA\\notebooks\\..\\data\\frames\\images\\139_original.jpg: 384x640 2 persons, 1 bicycle, 7 cars, 2 traffic lights, 522.9ms\n",
      "Speed: 2.0ms preprocess, 522.9ms inference, 2.0ms postprocess per image at shape (1, 3, 384, 640)\n",
      "\n"
     ]
    },
    {
     "name": "stdout",
     "output_type": "stream",
     "text": [
      "Semáforo 1 da imagem 139_original já existe em ../data/processed/outputs/semafaros/standard/traffic_light_139_original.jpg. Não foi salvo novamente.\n",
      "Semáforo 2 da imagem 139_original já existe em ../data/processed/outputs/semafaros/standard/traffic_light_139_original(1).jpg. Não foi salvo novamente.\n",
      "Carro 1 da imagem 139_original já existe em ../data/processed/outputs/carros/standard/car_139_original.jpg. Não foi salvo novamente.\n",
      "Carro 2 da imagem 139_original já existe em ../data/processed/outputs/carros/standard/car_139_original(1).jpg. Não foi salvo novamente.\n",
      "Carro 3 da imagem 139_original já existe em ../data/processed/outputs/carros/standard/car_139_original(2).jpg. Não foi salvo novamente.\n",
      "Carro 4 da imagem 139_original já existe em ../data/processed/outputs/carros/standard/car_139_original(3).jpg. Não foi salvo novamente.\n",
      "Carro 5 da imagem 139_original já existe em ../data/processed/outputs/carros/standard/car_139_original(4).jpg. Não foi salvo novamente.\n",
      "Carro 6 da imagem 139_original já existe em ../data/processed/outputs/carros/standard/car_139_original(5).jpg. Não foi salvo novamente.\n",
      "Carro 7 da imagem 139_original já existe em ../data/processed/outputs/carros/standard/car_139_original(6).jpg. Não foi salvo novamente.\n",
      "Erro na imagem 139_original.jpg: Nenhum caminhão detectado na imagem.\n"
     ]
    },
    {
     "name": "stderr",
     "output_type": "stream",
     "text": [
      "image 1/1 c:\\Users\\Thiago\\OneDrive\\Documentos\\Facul\\6 Sexto semestre\\TCC\\TCC-CDIA\\notebooks\\..\\data\\frames\\images\\13_original.jpg: 384x640 1 person, 11 cars, 1 motorcycle, 1 truck, 1 traffic light, 475.8ms\n",
      "Speed: 2.0ms preprocess, 475.8ms inference, 2.0ms postprocess per image at shape (1, 3, 384, 640)\n",
      "\n"
     ]
    },
    {
     "name": "stdout",
     "output_type": "stream",
     "text": [
      "Semáforo 1 da imagem 13_original já existe em ../data/processed/outputs/semafaros/standard/traffic_light_13_original.jpg. Não foi salvo novamente.\n",
      "Carro 1 da imagem 13_original já existe em ../data/processed/outputs/carros/standard/car_13_original.jpg. Não foi salvo novamente.\n",
      "Carro 2 da imagem 13_original já existe em ../data/processed/outputs/carros/standard/car_13_original(1).jpg. Não foi salvo novamente.\n",
      "Carro 3 da imagem 13_original já existe em ../data/processed/outputs/carros/standard/car_13_original(2).jpg. Não foi salvo novamente.\n",
      "Carro 4 da imagem 13_original já existe em ../data/processed/outputs/carros/standard/car_13_original(3).jpg. Não foi salvo novamente.\n",
      "Carro 5 da imagem 13_original já existe em ../data/processed/outputs/carros/standard/car_13_original(4).jpg. Não foi salvo novamente.\n",
      "Carro 6 da imagem 13_original já existe em ../data/processed/outputs/carros/standard/car_13_original(5).jpg. Não foi salvo novamente.\n",
      "Carro 7 da imagem 13_original já existe em ../data/processed/outputs/carros/standard/car_13_original(6).jpg. Não foi salvo novamente.\n",
      "Carro 8 da imagem 13_original já existe em ../data/processed/outputs/carros/standard/car_13_original(7).jpg. Não foi salvo novamente.\n",
      "Carro 9 da imagem 13_original já existe em ../data/processed/outputs/carros/standard/car_13_original(8).jpg. Não foi salvo novamente.\n",
      "Carro 10 da imagem 13_original já existe em ../data/processed/outputs/carros/standard/car_13_original(9).jpg. Não foi salvo novamente.\n",
      "Carro 11 da imagem 13_original já existe em ../data/processed/outputs/carros/standard/car_13_original(10).jpg. Não foi salvo novamente.\n",
      "Caminhão 1 da imagem 13_original já existe em ../data/processed/outputs/caminhao/standard/truck_13_original.jpg. Não foi salvo novamente.\n",
      "Pessoa 1 da imagem 13_original já existe em ../data/processed/outputs/pessoas/standard/person_13_original.jpg. Não foi salva novamente.\n",
      "Moto 1 da imagem 13_original já existe em ../data/processed/outputs/motos/standard/motorcycle_13_original.jpg. Não foi salva novamente.\n"
     ]
    },
    {
     "name": "stderr",
     "output_type": "stream",
     "text": [
      "image 1/1 c:\\Users\\Thiago\\OneDrive\\Documentos\\Facul\\6 Sexto semestre\\TCC\\TCC-CDIA\\notebooks\\..\\data\\frames\\images\\140_original.jpg: 384x640 6 cars, 1 bus, 1 traffic light, 441.0ms\n",
      "Speed: 2.0ms preprocess, 441.0ms inference, 2.0ms postprocess per image at shape (1, 3, 384, 640)\n",
      "\n"
     ]
    },
    {
     "name": "stdout",
     "output_type": "stream",
     "text": [
      "Semáforo 1 da imagem 140_original já existe em ../data/processed/outputs/semafaros/standard/traffic_light_140_original.jpg. Não foi salvo novamente.\n",
      "Carro 1 da imagem 140_original já existe em ../data/processed/outputs/carros/standard/car_140_original.jpg. Não foi salvo novamente.\n",
      "Carro 2 da imagem 140_original já existe em ../data/processed/outputs/carros/standard/car_140_original(1).jpg. Não foi salvo novamente.\n",
      "Carro 3 da imagem 140_original já existe em ../data/processed/outputs/carros/standard/car_140_original(2).jpg. Não foi salvo novamente.\n",
      "Carro 4 da imagem 140_original já existe em ../data/processed/outputs/carros/standard/car_140_original(3).jpg. Não foi salvo novamente.\n",
      "Carro 5 da imagem 140_original já existe em ../data/processed/outputs/carros/standard/car_140_original(4).jpg. Não foi salvo novamente.\n",
      "Carro 6 da imagem 140_original já existe em ../data/processed/outputs/carros/standard/car_140_original(5).jpg. Não foi salvo novamente.\n",
      "Erro na imagem 140_original.jpg: Nenhum caminhão detectado na imagem.\n"
     ]
    },
    {
     "name": "stderr",
     "output_type": "stream",
     "text": [
      "image 1/1 c:\\Users\\Thiago\\OneDrive\\Documentos\\Facul\\6 Sexto semestre\\TCC\\TCC-CDIA\\notebooks\\..\\data\\frames\\images\\141_original.jpg: 384x640 6 cars, 1 bus, 472.0ms\n",
      "Speed: 2.0ms preprocess, 472.0ms inference, 2.0ms postprocess per image at shape (1, 3, 384, 640)\n",
      "\n"
     ]
    },
    {
     "name": "stdout",
     "output_type": "stream",
     "text": [
      "Erro na imagem 141_original.jpg: Nenhum semáforo detectado na imagem.\n"
     ]
    },
    {
     "name": "stderr",
     "output_type": "stream",
     "text": [
      "image 1/1 c:\\Users\\Thiago\\OneDrive\\Documentos\\Facul\\6 Sexto semestre\\TCC\\TCC-CDIA\\notebooks\\..\\data\\frames\\images\\142_original.jpg: 384x640 1 person, 3 cars, 1 bus, 1 truck, 2 traffic lights, 481.8ms\n",
      "Speed: 2.0ms preprocess, 481.8ms inference, 2.0ms postprocess per image at shape (1, 3, 384, 640)\n",
      "\n"
     ]
    },
    {
     "name": "stdout",
     "output_type": "stream",
     "text": [
      "Semáforo 1 da imagem 142_original já existe em ../data/processed/outputs/semafaros/standard/traffic_light_142_original.jpg. Não foi salvo novamente.\n",
      "Semáforo 2 da imagem 142_original já existe em ../data/processed/outputs/semafaros/standard/traffic_light_142_original(1).jpg. Não foi salvo novamente.\n",
      "Carro 1 da imagem 142_original já existe em ../data/processed/outputs/carros/standard/car_142_original.jpg. Não foi salvo novamente.\n",
      "Carro 2 da imagem 142_original já existe em ../data/processed/outputs/carros/standard/car_142_original(1).jpg. Não foi salvo novamente.\n",
      "Carro 3 da imagem 142_original já existe em ../data/processed/outputs/carros/standard/car_142_original(2).jpg. Não foi salvo novamente.\n",
      "Caminhão 1 da imagem 142_original já existe em ../data/processed/outputs/caminhao/standard/truck_142_original.jpg. Não foi salvo novamente.\n",
      "Pessoa 1 da imagem 142_original já existe em ../data/processed/outputs/pessoas/standard/person_142_original.jpg. Não foi salva novamente.\n",
      "Erro na imagem 142_original.jpg: Nenhuma moto detectada na imagem.\n"
     ]
    },
    {
     "name": "stderr",
     "output_type": "stream",
     "text": [
      "image 1/1 c:\\Users\\Thiago\\OneDrive\\Documentos\\Facul\\6 Sexto semestre\\TCC\\TCC-CDIA\\notebooks\\..\\data\\frames\\images\\143_original.jpg: 384x640 1 person, 9 cars, 1 bus, 1 truck, 2 traffic lights, 559.5ms\n",
      "Speed: 3.0ms preprocess, 559.5ms inference, 2.0ms postprocess per image at shape (1, 3, 384, 640)\n",
      "\n"
     ]
    },
    {
     "name": "stdout",
     "output_type": "stream",
     "text": [
      "Semáforo 1 da imagem 143_original já existe em ../data/processed/outputs/semafaros/standard/traffic_light_143_original.jpg. Não foi salvo novamente.\n",
      "Semáforo 2 da imagem 143_original já existe em ../data/processed/outputs/semafaros/standard/traffic_light_143_original(1).jpg. Não foi salvo novamente.\n",
      "Carro 1 da imagem 143_original já existe em ../data/processed/outputs/carros/standard/car_143_original.jpg. Não foi salvo novamente.\n",
      "Carro 2 da imagem 143_original já existe em ../data/processed/outputs/carros/standard/car_143_original(1).jpg. Não foi salvo novamente.\n",
      "Carro 3 da imagem 143_original já existe em ../data/processed/outputs/carros/standard/car_143_original(2).jpg. Não foi salvo novamente.\n",
      "Carro 4 da imagem 143_original já existe em ../data/processed/outputs/carros/standard/car_143_original(3).jpg. Não foi salvo novamente.\n",
      "Carro 5 da imagem 143_original já existe em ../data/processed/outputs/carros/standard/car_143_original(4).jpg. Não foi salvo novamente.\n",
      "Carro 6 da imagem 143_original já existe em ../data/processed/outputs/carros/standard/car_143_original(5).jpg. Não foi salvo novamente.\n",
      "Carro 7 da imagem 143_original já existe em ../data/processed/outputs/carros/standard/car_143_original(6).jpg. Não foi salvo novamente.\n",
      "Carro 8 da imagem 143_original já existe em ../data/processed/outputs/carros/standard/car_143_original(7).jpg. Não foi salvo novamente.\n",
      "Carro 9 da imagem 143_original já existe em ../data/processed/outputs/carros/standard/car_143_original(8).jpg. Não foi salvo novamente.\n",
      "Caminhão 1 da imagem 143_original já existe em ../data/processed/outputs/caminhao/standard/truck_143_original.jpg. Não foi salvo novamente.\n",
      "Pessoa 1 da imagem 143_original já existe em ../data/processed/outputs/pessoas/standard/person_143_original.jpg. Não foi salva novamente.\n",
      "Erro na imagem 143_original.jpg: Nenhuma moto detectada na imagem.\n"
     ]
    },
    {
     "name": "stderr",
     "output_type": "stream",
     "text": [
      "image 1/1 c:\\Users\\Thiago\\OneDrive\\Documentos\\Facul\\6 Sexto semestre\\TCC\\TCC-CDIA\\notebooks\\..\\data\\frames\\images\\144_original.jpg: 384x640 2 persons, 8 cars, 1 bus, 1 truck, 2 traffic lights, 506.6ms\n",
      "Speed: 2.0ms preprocess, 506.6ms inference, 3.0ms postprocess per image at shape (1, 3, 384, 640)\n",
      "\n"
     ]
    },
    {
     "name": "stdout",
     "output_type": "stream",
     "text": [
      "Semáforo 1 da imagem 144_original já existe em ../data/processed/outputs/semafaros/standard/traffic_light_144_original.jpg. Não foi salvo novamente.\n",
      "Semáforo 2 da imagem 144_original já existe em ../data/processed/outputs/semafaros/standard/traffic_light_144_original(1).jpg. Não foi salvo novamente.\n",
      "Carro 1 da imagem 144_original já existe em ../data/processed/outputs/carros/standard/car_144_original.jpg. Não foi salvo novamente.\n",
      "Carro 2 da imagem 144_original já existe em ../data/processed/outputs/carros/standard/car_144_original(1).jpg. Não foi salvo novamente.\n",
      "Carro 3 da imagem 144_original já existe em ../data/processed/outputs/carros/standard/car_144_original(2).jpg. Não foi salvo novamente.\n",
      "Carro 4 da imagem 144_original já existe em ../data/processed/outputs/carros/standard/car_144_original(3).jpg. Não foi salvo novamente.\n",
      "Carro 5 da imagem 144_original já existe em ../data/processed/outputs/carros/standard/car_144_original(4).jpg. Não foi salvo novamente.\n",
      "Carro 6 da imagem 144_original já existe em ../data/processed/outputs/carros/standard/car_144_original(5).jpg. Não foi salvo novamente.\n",
      "Carro 7 da imagem 144_original já existe em ../data/processed/outputs/carros/standard/car_144_original(6).jpg. Não foi salvo novamente.\n",
      "Carro 8 da imagem 144_original já existe em ../data/processed/outputs/carros/standard/car_144_original(7).jpg. Não foi salvo novamente.\n",
      "Caminhão 1 da imagem 144_original já existe em ../data/processed/outputs/caminhao/standard/truck_144_original.jpg. Não foi salvo novamente.\n",
      "Pessoa 1 da imagem 144_original já existe em ../data/processed/outputs/pessoas/standard/person_144_original.jpg. Não foi salva novamente.\n",
      "Pessoa 2 da imagem 144_original já existe em ../data/processed/outputs/pessoas/standard/person_144_original(1).jpg. Não foi salva novamente.\n",
      "Erro na imagem 144_original.jpg: Nenhuma moto detectada na imagem.\n"
     ]
    },
    {
     "name": "stderr",
     "output_type": "stream",
     "text": [
      "image 1/1 c:\\Users\\Thiago\\OneDrive\\Documentos\\Facul\\6 Sexto semestre\\TCC\\TCC-CDIA\\notebooks\\..\\data\\frames\\images\\145_original.jpg: 384x640 3 persons, 3 cars, 1 truck, 462.8ms\n",
      "Speed: 3.0ms preprocess, 462.8ms inference, 2.0ms postprocess per image at shape (1, 3, 384, 640)\n",
      "\n"
     ]
    },
    {
     "name": "stdout",
     "output_type": "stream",
     "text": [
      "Erro na imagem 145_original.jpg: Nenhum semáforo detectado na imagem.\n"
     ]
    },
    {
     "name": "stderr",
     "output_type": "stream",
     "text": [
      "image 1/1 c:\\Users\\Thiago\\OneDrive\\Documentos\\Facul\\6 Sexto semestre\\TCC\\TCC-CDIA\\notebooks\\..\\data\\frames\\images\\146_original.jpg: 384x640 1 person, 7 cars, 1 bus, 1 truck, 1 traffic light, 468.4ms\n",
      "Speed: 1.0ms preprocess, 468.4ms inference, 1.0ms postprocess per image at shape (1, 3, 384, 640)\n",
      "\n"
     ]
    },
    {
     "name": "stdout",
     "output_type": "stream",
     "text": [
      "Semáforo 1 da imagem 146_original já existe em ../data/processed/outputs/semafaros/standard/traffic_light_146_original.jpg. Não foi salvo novamente.\n",
      "Carro 1 da imagem 146_original já existe em ../data/processed/outputs/carros/standard/car_146_original.jpg. Não foi salvo novamente.\n",
      "Carro 2 da imagem 146_original já existe em ../data/processed/outputs/carros/standard/car_146_original(1).jpg. Não foi salvo novamente.\n",
      "Carro 3 da imagem 146_original já existe em ../data/processed/outputs/carros/standard/car_146_original(2).jpg. Não foi salvo novamente.\n",
      "Carro 4 da imagem 146_original já existe em ../data/processed/outputs/carros/standard/car_146_original(3).jpg. Não foi salvo novamente.\n",
      "Carro 5 da imagem 146_original já existe em ../data/processed/outputs/carros/standard/car_146_original(4).jpg. Não foi salvo novamente.\n",
      "Carro 6 da imagem 146_original já existe em ../data/processed/outputs/carros/standard/car_146_original(5).jpg. Não foi salvo novamente.\n",
      "Carro 7 da imagem 146_original já existe em ../data/processed/outputs/carros/standard/car_146_original(6).jpg. Não foi salvo novamente.\n",
      "Caminhão 1 da imagem 146_original já existe em ../data/processed/outputs/caminhao/standard/truck_146_original.jpg. Não foi salvo novamente.\n",
      "Pessoa 1 da imagem 146_original já existe em ../data/processed/outputs/pessoas/standard/person_146_original.jpg. Não foi salva novamente.\n",
      "Erro na imagem 146_original.jpg: Nenhuma moto detectada na imagem.\n"
     ]
    },
    {
     "name": "stderr",
     "output_type": "stream",
     "text": [
      "image 1/1 c:\\Users\\Thiago\\OneDrive\\Documentos\\Facul\\6 Sexto semestre\\TCC\\TCC-CDIA\\notebooks\\..\\data\\frames\\images\\147_original.jpg: 384x640 10 cars, 2 buss, 947.0ms\n",
      "Speed: 2.0ms preprocess, 947.0ms inference, 7.0ms postprocess per image at shape (1, 3, 384, 640)\n",
      "\n"
     ]
    },
    {
     "name": "stdout",
     "output_type": "stream",
     "text": [
      "Erro na imagem 147_original.jpg: Nenhum semáforo detectado na imagem.\n"
     ]
    },
    {
     "name": "stderr",
     "output_type": "stream",
     "text": [
      "image 1/1 c:\\Users\\Thiago\\OneDrive\\Documentos\\Facul\\6 Sexto semestre\\TCC\\TCC-CDIA\\notebooks\\..\\data\\frames\\images\\148_original.jpg: 384x640 7 cars, 2 buss, 1 traffic light, 1203.0ms\n",
      "Speed: 5.0ms preprocess, 1203.0ms inference, 2.0ms postprocess per image at shape (1, 3, 384, 640)\n",
      "\n"
     ]
    },
    {
     "name": "stdout",
     "output_type": "stream",
     "text": [
      "Semáforo 1 da imagem 148_original já existe em ../data/processed/outputs/semafaros/standard/traffic_light_148_original.jpg. Não foi salvo novamente.\n",
      "Carro 1 da imagem 148_original já existe em ../data/processed/outputs/carros/standard/car_148_original.jpg. Não foi salvo novamente.\n",
      "Carro 2 da imagem 148_original já existe em ../data/processed/outputs/carros/standard/car_148_original(1).jpg. Não foi salvo novamente.\n",
      "Carro 3 da imagem 148_original já existe em ../data/processed/outputs/carros/standard/car_148_original(2).jpg. Não foi salvo novamente.\n",
      "Carro 4 da imagem 148_original já existe em ../data/processed/outputs/carros/standard/car_148_original(3).jpg. Não foi salvo novamente.\n",
      "Carro 5 da imagem 148_original já existe em ../data/processed/outputs/carros/standard/car_148_original(4).jpg. Não foi salvo novamente.\n",
      "Carro 6 da imagem 148_original já existe em ../data/processed/outputs/carros/standard/car_148_original(5).jpg. Não foi salvo novamente.\n",
      "Carro 7 da imagem 148_original já existe em ../data/processed/outputs/carros/standard/car_148_original(6).jpg. Não foi salvo novamente.\n",
      "Erro na imagem 148_original.jpg: Nenhum caminhão detectado na imagem.\n"
     ]
    },
    {
     "name": "stderr",
     "output_type": "stream",
     "text": [
      "image 1/1 c:\\Users\\Thiago\\OneDrive\\Documentos\\Facul\\6 Sexto semestre\\TCC\\TCC-CDIA\\notebooks\\..\\data\\frames\\images\\149_original.jpg: 384x640 4 persons, 1 bicycle, 10 cars, 1 traffic light, 458.9ms\n",
      "Speed: 2.0ms preprocess, 458.9ms inference, 2.0ms postprocess per image at shape (1, 3, 384, 640)\n",
      "\n"
     ]
    },
    {
     "name": "stdout",
     "output_type": "stream",
     "text": [
      "Semáforo 1 da imagem 149_original já existe em ../data/processed/outputs/semafaros/standard/traffic_light_149_original.jpg. Não foi salvo novamente.\n",
      "Carro 1 da imagem 149_original já existe em ../data/processed/outputs/carros/standard/car_149_original.jpg. Não foi salvo novamente.\n",
      "Carro 2 da imagem 149_original já existe em ../data/processed/outputs/carros/standard/car_149_original(1).jpg. Não foi salvo novamente.\n",
      "Carro 3 da imagem 149_original já existe em ../data/processed/outputs/carros/standard/car_149_original(2).jpg. Não foi salvo novamente.\n",
      "Carro 4 da imagem 149_original já existe em ../data/processed/outputs/carros/standard/car_149_original(3).jpg. Não foi salvo novamente.\n",
      "Carro 5 da imagem 149_original já existe em ../data/processed/outputs/carros/standard/car_149_original(4).jpg. Não foi salvo novamente.\n",
      "Carro 6 da imagem 149_original já existe em ../data/processed/outputs/carros/standard/car_149_original(5).jpg. Não foi salvo novamente.\n",
      "Carro 7 da imagem 149_original já existe em ../data/processed/outputs/carros/standard/car_149_original(6).jpg. Não foi salvo novamente.\n",
      "Carro 8 da imagem 149_original já existe em ../data/processed/outputs/carros/standard/car_149_original(7).jpg. Não foi salvo novamente.\n",
      "Carro 9 da imagem 149_original já existe em ../data/processed/outputs/carros/standard/car_149_original(8).jpg. Não foi salvo novamente.\n",
      "Carro 10 da imagem 149_original já existe em ../data/processed/outputs/carros/standard/car_149_original(9).jpg. Não foi salvo novamente.\n",
      "Erro na imagem 149_original.jpg: Nenhum caminhão detectado na imagem.\n"
     ]
    },
    {
     "name": "stderr",
     "output_type": "stream",
     "text": [
      "image 1/1 c:\\Users\\Thiago\\OneDrive\\Documentos\\Facul\\6 Sexto semestre\\TCC\\TCC-CDIA\\notebooks\\..\\data\\frames\\images\\14_original.jpg: 384x640 8 cars, 1 truck, 2 traffic lights, 427.9ms\n",
      "Speed: 2.0ms preprocess, 427.9ms inference, 1.0ms postprocess per image at shape (1, 3, 384, 640)\n",
      "\n"
     ]
    },
    {
     "name": "stdout",
     "output_type": "stream",
     "text": [
      "Semáforo 1 da imagem 14_original já existe em ../data/processed/outputs/semafaros/standard/traffic_light_14_original.jpg. Não foi salvo novamente.\n",
      "Semáforo 2 da imagem 14_original já existe em ../data/processed/outputs/semafaros/standard/traffic_light_14_original(1).jpg. Não foi salvo novamente.\n",
      "Carro 1 da imagem 14_original já existe em ../data/processed/outputs/carros/standard/car_14_original.jpg. Não foi salvo novamente.\n",
      "Carro 2 da imagem 14_original já existe em ../data/processed/outputs/carros/standard/car_14_original(1).jpg. Não foi salvo novamente.\n",
      "Carro 3 da imagem 14_original já existe em ../data/processed/outputs/carros/standard/car_14_original(2).jpg. Não foi salvo novamente.\n",
      "Carro 4 da imagem 14_original já existe em ../data/processed/outputs/carros/standard/car_14_original(3).jpg. Não foi salvo novamente.\n",
      "Carro 5 da imagem 14_original já existe em ../data/processed/outputs/carros/standard/car_14_original(4).jpg. Não foi salvo novamente.\n",
      "Carro 6 da imagem 14_original já existe em ../data/processed/outputs/carros/standard/car_14_original(5).jpg. Não foi salvo novamente.\n",
      "Carro 7 da imagem 14_original já existe em ../data/processed/outputs/carros/standard/car_14_original(6).jpg. Não foi salvo novamente.\n",
      "Carro 8 da imagem 14_original já existe em ../data/processed/outputs/carros/standard/car_14_original(7).jpg. Não foi salvo novamente.\n",
      "Caminhão 1 da imagem 14_original já existe em ../data/processed/outputs/caminhao/standard/truck_14_original.jpg. Não foi salvo novamente.\n",
      "Erro na imagem 14_original.jpg: Nenhuma pessoa detectada na imagem.\n"
     ]
    },
    {
     "name": "stderr",
     "output_type": "stream",
     "text": [
      "image 1/1 c:\\Users\\Thiago\\OneDrive\\Documentos\\Facul\\6 Sexto semestre\\TCC\\TCC-CDIA\\notebooks\\..\\data\\frames\\images\\150_original.jpg: 384x640 7 cars, 1 bus, 1 traffic light, 451.9ms\n",
      "Speed: 2.0ms preprocess, 451.9ms inference, 2.0ms postprocess per image at shape (1, 3, 384, 640)\n",
      "\n"
     ]
    },
    {
     "name": "stdout",
     "output_type": "stream",
     "text": [
      "Semáforo 1 da imagem 150_original já existe em ../data/processed/outputs/semafaros/standard/traffic_light_150_original.jpg. Não foi salvo novamente.\n",
      "Carro 1 da imagem 150_original já existe em ../data/processed/outputs/carros/standard/car_150_original.jpg. Não foi salvo novamente.\n",
      "Carro 2 da imagem 150_original já existe em ../data/processed/outputs/carros/standard/car_150_original(1).jpg. Não foi salvo novamente.\n",
      "Carro 3 da imagem 150_original já existe em ../data/processed/outputs/carros/standard/car_150_original(2).jpg. Não foi salvo novamente.\n",
      "Carro 4 da imagem 150_original já existe em ../data/processed/outputs/carros/standard/car_150_original(3).jpg. Não foi salvo novamente.\n",
      "Carro 5 da imagem 150_original já existe em ../data/processed/outputs/carros/standard/car_150_original(4).jpg. Não foi salvo novamente.\n",
      "Carro 6 da imagem 150_original já existe em ../data/processed/outputs/carros/standard/car_150_original(5).jpg. Não foi salvo novamente.\n",
      "Carro 7 da imagem 150_original já existe em ../data/processed/outputs/carros/standard/car_150_original(6).jpg. Não foi salvo novamente.\n",
      "Erro na imagem 150_original.jpg: Nenhum caminhão detectado na imagem.\n"
     ]
    },
    {
     "name": "stderr",
     "output_type": "stream",
     "text": [
      "image 1/1 c:\\Users\\Thiago\\OneDrive\\Documentos\\Facul\\6 Sexto semestre\\TCC\\TCC-CDIA\\notebooks\\..\\data\\frames\\images\\151_original.jpg: 384x640 3 persons, 3 cars, 562.6ms\n",
      "Speed: 1.0ms preprocess, 562.6ms inference, 2.0ms postprocess per image at shape (1, 3, 384, 640)\n",
      "\n"
     ]
    },
    {
     "name": "stdout",
     "output_type": "stream",
     "text": [
      "Erro na imagem 151_original.jpg: Nenhum semáforo detectado na imagem.\n"
     ]
    },
    {
     "name": "stderr",
     "output_type": "stream",
     "text": [
      "image 1/1 c:\\Users\\Thiago\\OneDrive\\Documentos\\Facul\\6 Sexto semestre\\TCC\\TCC-CDIA\\notebooks\\..\\data\\frames\\images\\152_original.jpg: 384x640 1 person, 9 cars, 498.8ms\n",
      "Speed: 2.0ms preprocess, 498.8ms inference, 2.0ms postprocess per image at shape (1, 3, 384, 640)\n",
      "\n"
     ]
    },
    {
     "name": "stdout",
     "output_type": "stream",
     "text": [
      "Erro na imagem 152_original.jpg: Nenhum semáforo detectado na imagem.\n"
     ]
    },
    {
     "name": "stderr",
     "output_type": "stream",
     "text": [
      "image 1/1 c:\\Users\\Thiago\\OneDrive\\Documentos\\Facul\\6 Sexto semestre\\TCC\\TCC-CDIA\\notebooks\\..\\data\\frames\\images\\153_original.jpg: 384x640 1 person, 5 cars, 1 bus, 1 truck, 1 traffic light, 491.7ms\n",
      "Speed: 2.0ms preprocess, 491.7ms inference, 2.0ms postprocess per image at shape (1, 3, 384, 640)\n",
      "\n"
     ]
    },
    {
     "name": "stdout",
     "output_type": "stream",
     "text": [
      "Semáforo 1 da imagem 153_original já existe em ../data/processed/outputs/semafaros/standard/traffic_light_153_original.jpg. Não foi salvo novamente.\n",
      "Carro 1 da imagem 153_original já existe em ../data/processed/outputs/carros/standard/car_153_original.jpg. Não foi salvo novamente.\n",
      "Carro 2 da imagem 153_original já existe em ../data/processed/outputs/carros/standard/car_153_original(1).jpg. Não foi salvo novamente.\n",
      "Carro 3 da imagem 153_original já existe em ../data/processed/outputs/carros/standard/car_153_original(2).jpg. Não foi salvo novamente.\n",
      "Carro 4 da imagem 153_original já existe em ../data/processed/outputs/carros/standard/car_153_original(3).jpg. Não foi salvo novamente.\n",
      "Carro 5 da imagem 153_original já existe em ../data/processed/outputs/carros/standard/car_153_original(4).jpg. Não foi salvo novamente.\n",
      "Caminhão 1 da imagem 153_original já existe em ../data/processed/outputs/caminhao/standard/truck_153_original.jpg. Não foi salvo novamente.\n",
      "Pessoa 1 da imagem 153_original já existe em ../data/processed/outputs/pessoas/standard/person_153_original.jpg. Não foi salva novamente.\n",
      "Erro na imagem 153_original.jpg: Nenhuma moto detectada na imagem.\n"
     ]
    },
    {
     "name": "stderr",
     "output_type": "stream",
     "text": [
      "image 1/1 c:\\Users\\Thiago\\OneDrive\\Documentos\\Facul\\6 Sexto semestre\\TCC\\TCC-CDIA\\notebooks\\..\\data\\frames\\images\\154_original.jpg: 384x640 8 cars, 1 bus, 1 truck, 510.9ms\n",
      "Speed: 2.0ms preprocess, 510.9ms inference, 1.0ms postprocess per image at shape (1, 3, 384, 640)\n",
      "\n"
     ]
    },
    {
     "name": "stdout",
     "output_type": "stream",
     "text": [
      "Erro na imagem 154_original.jpg: Nenhum semáforo detectado na imagem.\n"
     ]
    },
    {
     "name": "stderr",
     "output_type": "stream",
     "text": [
      "image 1/1 c:\\Users\\Thiago\\OneDrive\\Documentos\\Facul\\6 Sexto semestre\\TCC\\TCC-CDIA\\notebooks\\..\\data\\frames\\images\\155_original.jpg: 384x640 3 persons, 11 cars, 1 traffic light, 472.8ms\n",
      "Speed: 2.0ms preprocess, 472.8ms inference, 2.0ms postprocess per image at shape (1, 3, 384, 640)\n",
      "\n"
     ]
    },
    {
     "name": "stdout",
     "output_type": "stream",
     "text": [
      "Semáforo 1 da imagem 155_original já existe em ../data/processed/outputs/semafaros/standard/traffic_light_155_original.jpg. Não foi salvo novamente.\n",
      "Carro 1 da imagem 155_original já existe em ../data/processed/outputs/carros/standard/car_155_original.jpg. Não foi salvo novamente.\n",
      "Carro 2 da imagem 155_original já existe em ../data/processed/outputs/carros/standard/car_155_original(1).jpg. Não foi salvo novamente.\n",
      "Carro 3 da imagem 155_original já existe em ../data/processed/outputs/carros/standard/car_155_original(2).jpg. Não foi salvo novamente.\n",
      "Carro 4 da imagem 155_original já existe em ../data/processed/outputs/carros/standard/car_155_original(3).jpg. Não foi salvo novamente.\n",
      "Carro 5 da imagem 155_original já existe em ../data/processed/outputs/carros/standard/car_155_original(4).jpg. Não foi salvo novamente.\n",
      "Carro 6 da imagem 155_original já existe em ../data/processed/outputs/carros/standard/car_155_original(5).jpg. Não foi salvo novamente.\n",
      "Carro 7 da imagem 155_original já existe em ../data/processed/outputs/carros/standard/car_155_original(6).jpg. Não foi salvo novamente.\n",
      "Carro 8 da imagem 155_original já existe em ../data/processed/outputs/carros/standard/car_155_original(7).jpg. Não foi salvo novamente.\n",
      "Carro 9 da imagem 155_original já existe em ../data/processed/outputs/carros/standard/car_155_original(8).jpg. Não foi salvo novamente.\n",
      "Carro 10 da imagem 155_original já existe em ../data/processed/outputs/carros/standard/car_155_original(9).jpg. Não foi salvo novamente.\n",
      "Carro 11 da imagem 155_original já existe em ../data/processed/outputs/carros/standard/car_155_original(10).jpg. Não foi salvo novamente.\n",
      "Erro na imagem 155_original.jpg: Nenhum caminhão detectado na imagem.\n"
     ]
    },
    {
     "name": "stderr",
     "output_type": "stream",
     "text": [
      "image 1/1 c:\\Users\\Thiago\\OneDrive\\Documentos\\Facul\\6 Sexto semestre\\TCC\\TCC-CDIA\\notebooks\\..\\data\\frames\\images\\156_original.jpg: 384x640 3 cars, 477.7ms\n",
      "Speed: 2.0ms preprocess, 477.7ms inference, 2.0ms postprocess per image at shape (1, 3, 384, 640)\n",
      "\n"
     ]
    },
    {
     "name": "stdout",
     "output_type": "stream",
     "text": [
      "Erro na imagem 156_original.jpg: Nenhum semáforo detectado na imagem.\n"
     ]
    },
    {
     "name": "stderr",
     "output_type": "stream",
     "text": [
      "image 1/1 c:\\Users\\Thiago\\OneDrive\\Documentos\\Facul\\6 Sexto semestre\\TCC\\TCC-CDIA\\notebooks\\..\\data\\frames\\images\\157_original.jpg: 384x640 1 person, 10 cars, 2 traffic lights, 451.9ms\n",
      "Speed: 1.0ms preprocess, 451.9ms inference, 2.0ms postprocess per image at shape (1, 3, 384, 640)\n",
      "\n"
     ]
    },
    {
     "name": "stdout",
     "output_type": "stream",
     "text": [
      "Semáforo 1 da imagem 157_original já existe em ../data/processed/outputs/semafaros/standard/traffic_light_157_original.jpg. Não foi salvo novamente.\n",
      "Semáforo 2 da imagem 157_original já existe em ../data/processed/outputs/semafaros/standard/traffic_light_157_original(1).jpg. Não foi salvo novamente.\n",
      "Carro 1 da imagem 157_original já existe em ../data/processed/outputs/carros/standard/car_157_original.jpg. Não foi salvo novamente.\n",
      "Carro 2 da imagem 157_original já existe em ../data/processed/outputs/carros/standard/car_157_original(1).jpg. Não foi salvo novamente.\n",
      "Carro 3 da imagem 157_original já existe em ../data/processed/outputs/carros/standard/car_157_original(2).jpg. Não foi salvo novamente.\n",
      "Carro 4 da imagem 157_original já existe em ../data/processed/outputs/carros/standard/car_157_original(3).jpg. Não foi salvo novamente.\n",
      "Carro 5 da imagem 157_original já existe em ../data/processed/outputs/carros/standard/car_157_original(4).jpg. Não foi salvo novamente.\n",
      "Carro 6 da imagem 157_original já existe em ../data/processed/outputs/carros/standard/car_157_original(5).jpg. Não foi salvo novamente.\n",
      "Carro 7 da imagem 157_original já existe em ../data/processed/outputs/carros/standard/car_157_original(6).jpg. Não foi salvo novamente.\n",
      "Carro 8 da imagem 157_original já existe em ../data/processed/outputs/carros/standard/car_157_original(7).jpg. Não foi salvo novamente.\n",
      "Carro 9 da imagem 157_original já existe em ../data/processed/outputs/carros/standard/car_157_original(8).jpg. Não foi salvo novamente.\n",
      "Carro 10 da imagem 157_original já existe em ../data/processed/outputs/carros/standard/car_157_original(9).jpg. Não foi salvo novamente.\n",
      "Erro na imagem 157_original.jpg: Nenhum caminhão detectado na imagem.\n"
     ]
    },
    {
     "name": "stderr",
     "output_type": "stream",
     "text": [
      "image 1/1 c:\\Users\\Thiago\\OneDrive\\Documentos\\Facul\\6 Sexto semestre\\TCC\\TCC-CDIA\\notebooks\\..\\data\\frames\\images\\158_original.jpg: 384x640 10 cars, 2 traffic lights, 526.6ms\n",
      "Speed: 5.0ms preprocess, 526.6ms inference, 2.0ms postprocess per image at shape (1, 3, 384, 640)\n",
      "\n"
     ]
    },
    {
     "name": "stdout",
     "output_type": "stream",
     "text": [
      "Semáforo 1 da imagem 158_original já existe em ../data/processed/outputs/semafaros/standard/traffic_light_158_original.jpg. Não foi salvo novamente.\n",
      "Semáforo 2 da imagem 158_original já existe em ../data/processed/outputs/semafaros/standard/traffic_light_158_original(1).jpg. Não foi salvo novamente.\n",
      "Carro 1 da imagem 158_original já existe em ../data/processed/outputs/carros/standard/car_158_original.jpg. Não foi salvo novamente.\n",
      "Carro 2 da imagem 158_original já existe em ../data/processed/outputs/carros/standard/car_158_original(1).jpg. Não foi salvo novamente.\n",
      "Carro 3 da imagem 158_original já existe em ../data/processed/outputs/carros/standard/car_158_original(2).jpg. Não foi salvo novamente.\n",
      "Carro 4 da imagem 158_original já existe em ../data/processed/outputs/carros/standard/car_158_original(3).jpg. Não foi salvo novamente.\n",
      "Carro 5 da imagem 158_original já existe em ../data/processed/outputs/carros/standard/car_158_original(4).jpg. Não foi salvo novamente.\n",
      "Carro 6 da imagem 158_original já existe em ../data/processed/outputs/carros/standard/car_158_original(5).jpg. Não foi salvo novamente.\n",
      "Carro 7 da imagem 158_original já existe em ../data/processed/outputs/carros/standard/car_158_original(6).jpg. Não foi salvo novamente.\n",
      "Carro 8 da imagem 158_original já existe em ../data/processed/outputs/carros/standard/car_158_original(7).jpg. Não foi salvo novamente.\n",
      "Carro 9 da imagem 158_original já existe em ../data/processed/outputs/carros/standard/car_158_original(8).jpg. Não foi salvo novamente.\n",
      "Carro 10 da imagem 158_original já existe em ../data/processed/outputs/carros/standard/car_158_original(9).jpg. Não foi salvo novamente.\n",
      "Erro na imagem 158_original.jpg: Nenhum caminhão detectado na imagem.\n"
     ]
    },
    {
     "name": "stderr",
     "output_type": "stream",
     "text": [
      "image 1/1 c:\\Users\\Thiago\\OneDrive\\Documentos\\Facul\\6 Sexto semestre\\TCC\\TCC-CDIA\\notebooks\\..\\data\\frames\\images\\159_original.jpg: 384x640 10 cars, 3 traffic lights, 483.7ms\n",
      "Speed: 2.0ms preprocess, 483.7ms inference, 1.0ms postprocess per image at shape (1, 3, 384, 640)\n",
      "\n"
     ]
    },
    {
     "name": "stdout",
     "output_type": "stream",
     "text": [
      "Semáforo 1 da imagem 159_original já existe em ../data/processed/outputs/semafaros/standard/traffic_light_159_original.jpg. Não foi salvo novamente.\n",
      "Semáforo 2 da imagem 159_original já existe em ../data/processed/outputs/semafaros/standard/traffic_light_159_original(1).jpg. Não foi salvo novamente.\n",
      "Semáforo 3 da imagem 159_original já existe em ../data/processed/outputs/semafaros/standard/traffic_light_159_original(2).jpg. Não foi salvo novamente.\n",
      "Carro 1 da imagem 159_original já existe em ../data/processed/outputs/carros/standard/car_159_original.jpg. Não foi salvo novamente.\n",
      "Carro 2 da imagem 159_original já existe em ../data/processed/outputs/carros/standard/car_159_original(1).jpg. Não foi salvo novamente.\n",
      "Carro 3 da imagem 159_original já existe em ../data/processed/outputs/carros/standard/car_159_original(2).jpg. Não foi salvo novamente.\n",
      "Carro 4 da imagem 159_original já existe em ../data/processed/outputs/carros/standard/car_159_original(3).jpg. Não foi salvo novamente.\n",
      "Carro 5 da imagem 159_original já existe em ../data/processed/outputs/carros/standard/car_159_original(4).jpg. Não foi salvo novamente.\n",
      "Carro 6 da imagem 159_original já existe em ../data/processed/outputs/carros/standard/car_159_original(5).jpg. Não foi salvo novamente.\n",
      "Carro 7 da imagem 159_original já existe em ../data/processed/outputs/carros/standard/car_159_original(6).jpg. Não foi salvo novamente.\n",
      "Carro 8 da imagem 159_original já existe em ../data/processed/outputs/carros/standard/car_159_original(7).jpg. Não foi salvo novamente.\n",
      "Carro 9 da imagem 159_original já existe em ../data/processed/outputs/carros/standard/car_159_original(8).jpg. Não foi salvo novamente.\n",
      "Carro 10 da imagem 159_original já existe em ../data/processed/outputs/carros/standard/car_159_original(9).jpg. Não foi salvo novamente.\n",
      "Erro na imagem 159_original.jpg: Nenhum caminhão detectado na imagem.\n"
     ]
    },
    {
     "name": "stderr",
     "output_type": "stream",
     "text": [
      "image 1/1 c:\\Users\\Thiago\\OneDrive\\Documentos\\Facul\\6 Sexto semestre\\TCC\\TCC-CDIA\\notebooks\\..\\data\\frames\\images\\15_original.jpg: 384x640 9 cars, 2 trucks, 523.6ms\n",
      "Speed: 2.0ms preprocess, 523.6ms inference, 2.0ms postprocess per image at shape (1, 3, 384, 640)\n",
      "\n"
     ]
    },
    {
     "name": "stdout",
     "output_type": "stream",
     "text": [
      "Erro na imagem 15_original.jpg: Nenhum semáforo detectado na imagem.\n"
     ]
    },
    {
     "name": "stderr",
     "output_type": "stream",
     "text": [
      "image 1/1 c:\\Users\\Thiago\\OneDrive\\Documentos\\Facul\\6 Sexto semestre\\TCC\\TCC-CDIA\\notebooks\\..\\data\\frames\\images\\160_original.jpg: 384x640 4 persons, 7 cars, 555.8ms\n",
      "Speed: 2.0ms preprocess, 555.8ms inference, 1.0ms postprocess per image at shape (1, 3, 384, 640)\n",
      "\n"
     ]
    },
    {
     "name": "stdout",
     "output_type": "stream",
     "text": [
      "Erro na imagem 160_original.jpg: Nenhum semáforo detectado na imagem.\n"
     ]
    },
    {
     "name": "stderr",
     "output_type": "stream",
     "text": [
      "image 1/1 c:\\Users\\Thiago\\OneDrive\\Documentos\\Facul\\6 Sexto semestre\\TCC\\TCC-CDIA\\notebooks\\..\\data\\frames\\images\\161_original.jpg: 384x640 2 persons, 4 cars, 3 traffic lights, 491.8ms\n",
      "Speed: 2.0ms preprocess, 491.8ms inference, 1.0ms postprocess per image at shape (1, 3, 384, 640)\n",
      "\n"
     ]
    },
    {
     "name": "stdout",
     "output_type": "stream",
     "text": [
      "Semáforo 1 da imagem 161_original já existe em ../data/processed/outputs/semafaros/standard/traffic_light_161_original.jpg. Não foi salvo novamente.\n",
      "Semáforo 2 da imagem 161_original já existe em ../data/processed/outputs/semafaros/standard/traffic_light_161_original(1).jpg. Não foi salvo novamente.\n",
      "Semáforo 3 da imagem 161_original já existe em ../data/processed/outputs/semafaros/standard/traffic_light_161_original(2).jpg. Não foi salvo novamente.\n",
      "Carro 1 da imagem 161_original já existe em ../data/processed/outputs/carros/standard/car_161_original.jpg. Não foi salvo novamente.\n",
      "Carro 2 da imagem 161_original já existe em ../data/processed/outputs/carros/standard/car_161_original(1).jpg. Não foi salvo novamente.\n",
      "Carro 3 da imagem 161_original já existe em ../data/processed/outputs/carros/standard/car_161_original(2).jpg. Não foi salvo novamente.\n",
      "Carro 4 da imagem 161_original já existe em ../data/processed/outputs/carros/standard/car_161_original(3).jpg. Não foi salvo novamente.\n",
      "Erro na imagem 161_original.jpg: Nenhum caminhão detectado na imagem.\n"
     ]
    },
    {
     "name": "stderr",
     "output_type": "stream",
     "text": [
      "image 1/1 c:\\Users\\Thiago\\OneDrive\\Documentos\\Facul\\6 Sexto semestre\\TCC\\TCC-CDIA\\notebooks\\..\\data\\frames\\images\\162_original.jpg: 384x640 3 persons, 5 cars, 4 traffic lights, 446.1ms\n",
      "Speed: 2.0ms preprocess, 446.1ms inference, 2.0ms postprocess per image at shape (1, 3, 384, 640)\n",
      "\n"
     ]
    },
    {
     "name": "stdout",
     "output_type": "stream",
     "text": [
      "Semáforo 1 da imagem 162_original já existe em ../data/processed/outputs/semafaros/standard/traffic_light_162_original.jpg. Não foi salvo novamente.\n",
      "Semáforo 2 da imagem 162_original já existe em ../data/processed/outputs/semafaros/standard/traffic_light_162_original(1).jpg. Não foi salvo novamente.\n",
      "Semáforo 3 da imagem 162_original já existe em ../data/processed/outputs/semafaros/standard/traffic_light_162_original(2).jpg. Não foi salvo novamente.\n",
      "Semáforo 4 da imagem 162_original já existe em ../data/processed/outputs/semafaros/standard/traffic_light_162_original(3).jpg. Não foi salvo novamente.\n",
      "Carro 1 da imagem 162_original já existe em ../data/processed/outputs/carros/standard/car_162_original.jpg. Não foi salvo novamente.\n",
      "Carro 2 da imagem 162_original já existe em ../data/processed/outputs/carros/standard/car_162_original(1).jpg. Não foi salvo novamente.\n",
      "Carro 3 da imagem 162_original já existe em ../data/processed/outputs/carros/standard/car_162_original(2).jpg. Não foi salvo novamente.\n",
      "Carro 4 da imagem 162_original já existe em ../data/processed/outputs/carros/standard/car_162_original(3).jpg. Não foi salvo novamente.\n",
      "Carro 5 da imagem 162_original já existe em ../data/processed/outputs/carros/standard/car_162_original(4).jpg. Não foi salvo novamente.\n",
      "Erro na imagem 162_original.jpg: Nenhum caminhão detectado na imagem.\n"
     ]
    },
    {
     "name": "stderr",
     "output_type": "stream",
     "text": [
      "image 1/1 c:\\Users\\Thiago\\OneDrive\\Documentos\\Facul\\6 Sexto semestre\\TCC\\TCC-CDIA\\notebooks\\..\\data\\frames\\images\\163_original.jpg: 384x640 2 persons, 1 bicycle, 3 cars, 500.6ms\n",
      "Speed: 2.0ms preprocess, 500.6ms inference, 2.0ms postprocess per image at shape (1, 3, 384, 640)\n",
      "\n"
     ]
    },
    {
     "name": "stdout",
     "output_type": "stream",
     "text": [
      "Erro na imagem 163_original.jpg: Nenhum semáforo detectado na imagem.\n"
     ]
    },
    {
     "name": "stderr",
     "output_type": "stream",
     "text": [
      "image 1/1 c:\\Users\\Thiago\\OneDrive\\Documentos\\Facul\\6 Sexto semestre\\TCC\\TCC-CDIA\\notebooks\\..\\data\\frames\\images\\164_original.jpg: 384x640 1 person, 11 cars, 507.8ms\n",
      "Speed: 3.0ms preprocess, 507.8ms inference, 2.0ms postprocess per image at shape (1, 3, 384, 640)\n",
      "\n"
     ]
    },
    {
     "name": "stdout",
     "output_type": "stream",
     "text": [
      "Erro na imagem 164_original.jpg: Nenhum semáforo detectado na imagem.\n"
     ]
    },
    {
     "name": "stderr",
     "output_type": "stream",
     "text": [
      "image 1/1 c:\\Users\\Thiago\\OneDrive\\Documentos\\Facul\\6 Sexto semestre\\TCC\\TCC-CDIA\\notebooks\\..\\data\\frames\\images\\165_original.jpg: 384x640 9 cars, 523.6ms\n",
      "Speed: 2.0ms preprocess, 523.6ms inference, 1.0ms postprocess per image at shape (1, 3, 384, 640)\n",
      "\n"
     ]
    },
    {
     "name": "stdout",
     "output_type": "stream",
     "text": [
      "Erro na imagem 165_original.jpg: Nenhum semáforo detectado na imagem.\n"
     ]
    },
    {
     "name": "stderr",
     "output_type": "stream",
     "text": [
      "image 1/1 c:\\Users\\Thiago\\OneDrive\\Documentos\\Facul\\6 Sexto semestre\\TCC\\TCC-CDIA\\notebooks\\..\\data\\frames\\images\\166_original.jpg: 384x640 6 persons, 9 cars, 1 traffic light, 516.6ms\n",
      "Speed: 2.0ms preprocess, 516.6ms inference, 2.0ms postprocess per image at shape (1, 3, 384, 640)\n",
      "\n"
     ]
    },
    {
     "name": "stdout",
     "output_type": "stream",
     "text": [
      "Semáforo 1 da imagem 166_original já existe em ../data/processed/outputs/semafaros/standard/traffic_light_166_original.jpg. Não foi salvo novamente.\n",
      "Carro 1 da imagem 166_original já existe em ../data/processed/outputs/carros/standard/car_166_original.jpg. Não foi salvo novamente.\n",
      "Carro 2 da imagem 166_original já existe em ../data/processed/outputs/carros/standard/car_166_original(1).jpg. Não foi salvo novamente.\n",
      "Carro 3 da imagem 166_original já existe em ../data/processed/outputs/carros/standard/car_166_original(2).jpg. Não foi salvo novamente.\n",
      "Carro 4 da imagem 166_original já existe em ../data/processed/outputs/carros/standard/car_166_original(3).jpg. Não foi salvo novamente.\n",
      "Carro 5 da imagem 166_original já existe em ../data/processed/outputs/carros/standard/car_166_original(4).jpg. Não foi salvo novamente.\n",
      "Carro 6 da imagem 166_original já existe em ../data/processed/outputs/carros/standard/car_166_original(5).jpg. Não foi salvo novamente.\n",
      "Carro 7 da imagem 166_original já existe em ../data/processed/outputs/carros/standard/car_166_original(6).jpg. Não foi salvo novamente.\n",
      "Carro 8 da imagem 166_original já existe em ../data/processed/outputs/carros/standard/car_166_original(7).jpg. Não foi salvo novamente.\n",
      "Carro 9 da imagem 166_original já existe em ../data/processed/outputs/carros/standard/car_166_original(8).jpg. Não foi salvo novamente.\n",
      "Erro na imagem 166_original.jpg: Nenhum caminhão detectado na imagem.\n"
     ]
    },
    {
     "name": "stderr",
     "output_type": "stream",
     "text": [
      "image 1/1 c:\\Users\\Thiago\\OneDrive\\Documentos\\Facul\\6 Sexto semestre\\TCC\\TCC-CDIA\\notebooks\\..\\data\\frames\\images\\167_original.jpg: 384x640 12 persons, 1 traffic light, 2 potted plants, 454.8ms\n",
      "Speed: 2.0ms preprocess, 454.8ms inference, 2.0ms postprocess per image at shape (1, 3, 384, 640)\n",
      "\n"
     ]
    },
    {
     "name": "stdout",
     "output_type": "stream",
     "text": [
      "Semáforo 1 da imagem 167_original já existe em ../data/processed/outputs/semafaros/standard/traffic_light_167_original.jpg. Não foi salvo novamente.\n",
      "Erro na imagem 167_original.jpg: Nenhum carro detectado na imagem.\n"
     ]
    },
    {
     "name": "stderr",
     "output_type": "stream",
     "text": [
      "image 1/1 c:\\Users\\Thiago\\OneDrive\\Documentos\\Facul\\6 Sexto semestre\\TCC\\TCC-CDIA\\notebooks\\..\\data\\frames\\images\\16_original.jpg: 384x640 4 cars, 464.8ms\n",
      "Speed: 1.0ms preprocess, 464.8ms inference, 2.0ms postprocess per image at shape (1, 3, 384, 640)\n",
      "\n"
     ]
    },
    {
     "name": "stdout",
     "output_type": "stream",
     "text": [
      "Erro na imagem 16_original.jpg: Nenhum semáforo detectado na imagem.\n"
     ]
    },
    {
     "name": "stderr",
     "output_type": "stream",
     "text": [
      "image 1/1 c:\\Users\\Thiago\\OneDrive\\Documentos\\Facul\\6 Sexto semestre\\TCC\\TCC-CDIA\\notebooks\\..\\data\\frames\\images\\17_original.jpg: 384x640 11 cars, 3 traffic lights, 540.8ms\n",
      "Speed: 2.0ms preprocess, 540.8ms inference, 2.0ms postprocess per image at shape (1, 3, 384, 640)\n",
      "\n"
     ]
    },
    {
     "name": "stdout",
     "output_type": "stream",
     "text": [
      "Semáforo 1 da imagem 17_original já existe em ../data/processed/outputs/semafaros/standard/traffic_light_17_original.jpg. Não foi salvo novamente.\n",
      "Semáforo 2 da imagem 17_original já existe em ../data/processed/outputs/semafaros/standard/traffic_light_17_original(1).jpg. Não foi salvo novamente.\n",
      "Semáforo 3 da imagem 17_original já existe em ../data/processed/outputs/semafaros/standard/traffic_light_17_original(2).jpg. Não foi salvo novamente.\n",
      "Carro 1 da imagem 17_original já existe em ../data/processed/outputs/carros/standard/car_17_original.jpg. Não foi salvo novamente.\n",
      "Carro 2 da imagem 17_original já existe em ../data/processed/outputs/carros/standard/car_17_original(1).jpg. Não foi salvo novamente.\n",
      "Carro 3 da imagem 17_original já existe em ../data/processed/outputs/carros/standard/car_17_original(2).jpg. Não foi salvo novamente.\n",
      "Carro 4 da imagem 17_original já existe em ../data/processed/outputs/carros/standard/car_17_original(3).jpg. Não foi salvo novamente.\n",
      "Carro 5 da imagem 17_original já existe em ../data/processed/outputs/carros/standard/car_17_original(4).jpg. Não foi salvo novamente.\n",
      "Carro 6 da imagem 17_original já existe em ../data/processed/outputs/carros/standard/car_17_original(5).jpg. Não foi salvo novamente.\n",
      "Carro 7 da imagem 17_original já existe em ../data/processed/outputs/carros/standard/car_17_original(6).jpg. Não foi salvo novamente.\n",
      "Carro 8 da imagem 17_original já existe em ../data/processed/outputs/carros/standard/car_17_original(7).jpg. Não foi salvo novamente.\n",
      "Carro 9 da imagem 17_original já existe em ../data/processed/outputs/carros/standard/car_17_original(8).jpg. Não foi salvo novamente.\n",
      "Carro 10 da imagem 17_original já existe em ../data/processed/outputs/carros/standard/car_17_original(9).jpg. Não foi salvo novamente.\n",
      "Carro 11 da imagem 17_original já existe em ../data/processed/outputs/carros/standard/car_17_original(10).jpg. Não foi salvo novamente.\n",
      "Erro na imagem 17_original.jpg: Nenhum caminhão detectado na imagem.\n"
     ]
    },
    {
     "name": "stderr",
     "output_type": "stream",
     "text": [
      "image 1/1 c:\\Users\\Thiago\\OneDrive\\Documentos\\Facul\\6 Sexto semestre\\TCC\\TCC-CDIA\\notebooks\\..\\data\\frames\\images\\18_original.jpg: 384x640 8 cars, 1 truck, 3 traffic lights, 511.6ms\n",
      "Speed: 3.0ms preprocess, 511.6ms inference, 2.0ms postprocess per image at shape (1, 3, 384, 640)\n",
      "\n"
     ]
    },
    {
     "name": "stdout",
     "output_type": "stream",
     "text": [
      "Semáforo 1 da imagem 18_original já existe em ../data/processed/outputs/semafaros/standard/traffic_light_18_original.jpg. Não foi salvo novamente.\n",
      "Semáforo 2 da imagem 18_original já existe em ../data/processed/outputs/semafaros/standard/traffic_light_18_original(1).jpg. Não foi salvo novamente.\n",
      "Semáforo 3 da imagem 18_original já existe em ../data/processed/outputs/semafaros/standard/traffic_light_18_original(2).jpg. Não foi salvo novamente.\n",
      "Carro 1 da imagem 18_original já existe em ../data/processed/outputs/carros/standard/car_18_original.jpg. Não foi salvo novamente.\n",
      "Carro 2 da imagem 18_original já existe em ../data/processed/outputs/carros/standard/car_18_original(1).jpg. Não foi salvo novamente.\n",
      "Carro 3 da imagem 18_original já existe em ../data/processed/outputs/carros/standard/car_18_original(2).jpg. Não foi salvo novamente.\n",
      "Carro 4 da imagem 18_original já existe em ../data/processed/outputs/carros/standard/car_18_original(3).jpg. Não foi salvo novamente.\n",
      "Carro 5 da imagem 18_original já existe em ../data/processed/outputs/carros/standard/car_18_original(4).jpg. Não foi salvo novamente.\n",
      "Carro 6 da imagem 18_original já existe em ../data/processed/outputs/carros/standard/car_18_original(5).jpg. Não foi salvo novamente.\n",
      "Carro 7 da imagem 18_original já existe em ../data/processed/outputs/carros/standard/car_18_original(6).jpg. Não foi salvo novamente.\n",
      "Carro 8 da imagem 18_original já existe em ../data/processed/outputs/carros/standard/car_18_original(7).jpg. Não foi salvo novamente.\n",
      "Caminhão 1 da imagem 18_original já existe em ../data/processed/outputs/caminhao/standard/truck_18_original.jpg. Não foi salvo novamente.\n",
      "Erro na imagem 18_original.jpg: Nenhuma pessoa detectada na imagem.\n"
     ]
    },
    {
     "name": "stderr",
     "output_type": "stream",
     "text": [
      "image 1/1 c:\\Users\\Thiago\\OneDrive\\Documentos\\Facul\\6 Sexto semestre\\TCC\\TCC-CDIA\\notebooks\\..\\data\\frames\\images\\19_original.jpg: 384x640 2 persons, 1 bicycle, 12 cars, 1 traffic light, 512.7ms\n",
      "Speed: 3.0ms preprocess, 512.7ms inference, 2.0ms postprocess per image at shape (1, 3, 384, 640)\n",
      "\n"
     ]
    },
    {
     "name": "stdout",
     "output_type": "stream",
     "text": [
      "Semáforo 1 da imagem 19_original já existe em ../data/processed/outputs/semafaros/standard/traffic_light_19_original.jpg. Não foi salvo novamente.\n",
      "Carro 1 da imagem 19_original já existe em ../data/processed/outputs/carros/standard/car_19_original.jpg. Não foi salvo novamente.\n",
      "Carro 2 da imagem 19_original já existe em ../data/processed/outputs/carros/standard/car_19_original(1).jpg. Não foi salvo novamente.\n",
      "Carro 3 da imagem 19_original já existe em ../data/processed/outputs/carros/standard/car_19_original(2).jpg. Não foi salvo novamente.\n",
      "Carro 4 da imagem 19_original já existe em ../data/processed/outputs/carros/standard/car_19_original(3).jpg. Não foi salvo novamente.\n",
      "Carro 5 da imagem 19_original já existe em ../data/processed/outputs/carros/standard/car_19_original(4).jpg. Não foi salvo novamente.\n",
      "Carro 6 da imagem 19_original já existe em ../data/processed/outputs/carros/standard/car_19_original(5).jpg. Não foi salvo novamente.\n",
      "Carro 7 da imagem 19_original já existe em ../data/processed/outputs/carros/standard/car_19_original(6).jpg. Não foi salvo novamente.\n",
      "Carro 8 da imagem 19_original já existe em ../data/processed/outputs/carros/standard/car_19_original(7).jpg. Não foi salvo novamente.\n",
      "Carro 9 da imagem 19_original já existe em ../data/processed/outputs/carros/standard/car_19_original(8).jpg. Não foi salvo novamente.\n",
      "Carro 10 da imagem 19_original já existe em ../data/processed/outputs/carros/standard/car_19_original(9).jpg. Não foi salvo novamente.\n",
      "Carro 11 da imagem 19_original já existe em ../data/processed/outputs/carros/standard/car_19_original(10).jpg. Não foi salvo novamente.\n",
      "Carro 12 da imagem 19_original já existe em ../data/processed/outputs/carros/standard/car_19_original(11).jpg. Não foi salvo novamente.\n",
      "Erro na imagem 19_original.jpg: Nenhum caminhão detectado na imagem.\n"
     ]
    },
    {
     "name": "stderr",
     "output_type": "stream",
     "text": [
      "image 1/1 c:\\Users\\Thiago\\OneDrive\\Documentos\\Facul\\6 Sexto semestre\\TCC\\TCC-CDIA\\notebooks\\..\\data\\frames\\images\\1_original.jpg: 384x640 7 cars, 1 truck, 2 traffic lights, 487.9ms\n",
      "Speed: 2.0ms preprocess, 487.9ms inference, 1.0ms postprocess per image at shape (1, 3, 384, 640)\n",
      "\n"
     ]
    },
    {
     "name": "stdout",
     "output_type": "stream",
     "text": [
      "Semáforo 1 da imagem 1_original já existe em ../data/processed/outputs/semafaros/standard/traffic_light_1_original.jpg. Não foi salvo novamente.\n",
      "Semáforo 2 da imagem 1_original já existe em ../data/processed/outputs/semafaros/standard/traffic_light_1_original(1).jpg. Não foi salvo novamente.\n",
      "Carro 1 da imagem 1_original já existe em ../data/processed/outputs/carros/standard/car_1_original.jpg. Não foi salvo novamente.\n",
      "Carro 2 da imagem 1_original já existe em ../data/processed/outputs/carros/standard/car_1_original(1).jpg. Não foi salvo novamente.\n",
      "Carro 3 da imagem 1_original já existe em ../data/processed/outputs/carros/standard/car_1_original(2).jpg. Não foi salvo novamente.\n",
      "Carro 4 da imagem 1_original já existe em ../data/processed/outputs/carros/standard/car_1_original(3).jpg. Não foi salvo novamente.\n",
      "Carro 5 da imagem 1_original já existe em ../data/processed/outputs/carros/standard/car_1_original(4).jpg. Não foi salvo novamente.\n",
      "Carro 6 da imagem 1_original já existe em ../data/processed/outputs/carros/standard/car_1_original(5).jpg. Não foi salvo novamente.\n",
      "Carro 7 da imagem 1_original já existe em ../data/processed/outputs/carros/standard/car_1_original(6).jpg. Não foi salvo novamente.\n",
      "Caminhão 1 da imagem 1_original já existe em ../data/processed/outputs/caminhao/standard/truck_1_original.jpg. Não foi salvo novamente.\n",
      "Erro na imagem 1_original.jpg: Nenhuma pessoa detectada na imagem.\n"
     ]
    },
    {
     "name": "stderr",
     "output_type": "stream",
     "text": [
      "image 1/1 c:\\Users\\Thiago\\OneDrive\\Documentos\\Facul\\6 Sexto semestre\\TCC\\TCC-CDIA\\notebooks\\..\\data\\frames\\images\\20_original.jpg: 384x640 2 persons, 8 cars, 460.1ms\n",
      "Speed: 3.0ms preprocess, 460.1ms inference, 2.0ms postprocess per image at shape (1, 3, 384, 640)\n",
      "\n"
     ]
    },
    {
     "name": "stdout",
     "output_type": "stream",
     "text": [
      "Erro na imagem 20_original.jpg: Nenhum semáforo detectado na imagem.\n"
     ]
    },
    {
     "name": "stderr",
     "output_type": "stream",
     "text": [
      "image 1/1 c:\\Users\\Thiago\\OneDrive\\Documentos\\Facul\\6 Sexto semestre\\TCC\\TCC-CDIA\\notebooks\\..\\data\\frames\\images\\21_original.jpg: 384x640 1 person, 6 cars, 2 trucks, 3 traffic lights, 427.9ms\n",
      "Speed: 2.0ms preprocess, 427.9ms inference, 1.0ms postprocess per image at shape (1, 3, 384, 640)\n",
      "\n"
     ]
    },
    {
     "name": "stdout",
     "output_type": "stream",
     "text": [
      "Semáforo 1 da imagem 21_original já existe em ../data/processed/outputs/semafaros/standard/traffic_light_21_original.jpg. Não foi salvo novamente.\n",
      "Semáforo 2 da imagem 21_original já existe em ../data/processed/outputs/semafaros/standard/traffic_light_21_original(1).jpg. Não foi salvo novamente.\n",
      "Semáforo 3 da imagem 21_original já existe em ../data/processed/outputs/semafaros/standard/traffic_light_21_original(2).jpg. Não foi salvo novamente.\n",
      "Carro 1 da imagem 21_original já existe em ../data/processed/outputs/carros/standard/car_21_original.jpg. Não foi salvo novamente.\n",
      "Carro 2 da imagem 21_original já existe em ../data/processed/outputs/carros/standard/car_21_original(1).jpg. Não foi salvo novamente.\n",
      "Carro 3 da imagem 21_original já existe em ../data/processed/outputs/carros/standard/car_21_original(2).jpg. Não foi salvo novamente.\n",
      "Carro 4 da imagem 21_original já existe em ../data/processed/outputs/carros/standard/car_21_original(3).jpg. Não foi salvo novamente.\n",
      "Carro 5 da imagem 21_original já existe em ../data/processed/outputs/carros/standard/car_21_original(4).jpg. Não foi salvo novamente.\n",
      "Carro 6 da imagem 21_original já existe em ../data/processed/outputs/carros/standard/car_21_original(5).jpg. Não foi salvo novamente.\n",
      "Caminhão 1 da imagem 21_original já existe em ../data/processed/outputs/caminhao/standard/truck_21_original.jpg. Não foi salvo novamente.\n",
      "Caminhão 2 da imagem 21_original já existe em ../data/processed/outputs/caminhao/standard/truck_21_original(1).jpg. Não foi salvo novamente.\n",
      "Pessoa 1 da imagem 21_original já existe em ../data/processed/outputs/pessoas/standard/person_21_original.jpg. Não foi salva novamente.\n",
      "Erro na imagem 21_original.jpg: Nenhuma moto detectada na imagem.\n"
     ]
    },
    {
     "name": "stderr",
     "output_type": "stream",
     "text": [
      "image 1/1 c:\\Users\\Thiago\\OneDrive\\Documentos\\Facul\\6 Sexto semestre\\TCC\\TCC-CDIA\\notebooks\\..\\data\\frames\\images\\22_original.jpg: 384x640 6 cars, 2 trucks, 459.0ms\n",
      "Speed: 2.0ms preprocess, 459.0ms inference, 1.0ms postprocess per image at shape (1, 3, 384, 640)\n",
      "\n"
     ]
    },
    {
     "name": "stdout",
     "output_type": "stream",
     "text": [
      "Erro na imagem 22_original.jpg: Nenhum semáforo detectado na imagem.\n"
     ]
    },
    {
     "name": "stderr",
     "output_type": "stream",
     "text": [
      "image 1/1 c:\\Users\\Thiago\\OneDrive\\Documentos\\Facul\\6 Sexto semestre\\TCC\\TCC-CDIA\\notebooks\\..\\data\\frames\\images\\23_original.jpg: 384x640 1 person, 4 cars, 462.9ms\n",
      "Speed: 1.0ms preprocess, 462.9ms inference, 2.0ms postprocess per image at shape (1, 3, 384, 640)\n",
      "\n"
     ]
    },
    {
     "name": "stdout",
     "output_type": "stream",
     "text": [
      "Erro na imagem 23_original.jpg: Nenhum semáforo detectado na imagem.\n"
     ]
    },
    {
     "name": "stderr",
     "output_type": "stream",
     "text": [
      "image 1/1 c:\\Users\\Thiago\\OneDrive\\Documentos\\Facul\\6 Sexto semestre\\TCC\\TCC-CDIA\\notebooks\\..\\data\\frames\\images\\24_original.jpg: 384x640 10 cars, 1 truck, 458.0ms\n",
      "Speed: 1.0ms preprocess, 458.0ms inference, 2.0ms postprocess per image at shape (1, 3, 384, 640)\n",
      "\n"
     ]
    },
    {
     "name": "stdout",
     "output_type": "stream",
     "text": [
      "Erro na imagem 24_original.jpg: Nenhum semáforo detectado na imagem.\n"
     ]
    },
    {
     "name": "stderr",
     "output_type": "stream",
     "text": [
      "image 1/1 c:\\Users\\Thiago\\OneDrive\\Documentos\\Facul\\6 Sexto semestre\\TCC\\TCC-CDIA\\notebooks\\..\\data\\frames\\images\\25_original.jpg: 384x640 1 person, 8 cars, 467.0ms\n",
      "Speed: 1.0ms preprocess, 467.0ms inference, 2.0ms postprocess per image at shape (1, 3, 384, 640)\n",
      "\n"
     ]
    },
    {
     "name": "stdout",
     "output_type": "stream",
     "text": [
      "Erro na imagem 25_original.jpg: Nenhum semáforo detectado na imagem.\n"
     ]
    },
    {
     "name": "stderr",
     "output_type": "stream",
     "text": [
      "image 1/1 c:\\Users\\Thiago\\OneDrive\\Documentos\\Facul\\6 Sexto semestre\\TCC\\TCC-CDIA\\notebooks\\..\\data\\frames\\images\\26_original.jpg: 384x640 10 cars, 533.6ms\n",
      "Speed: 2.0ms preprocess, 533.6ms inference, 2.0ms postprocess per image at shape (1, 3, 384, 640)\n",
      "\n"
     ]
    },
    {
     "name": "stdout",
     "output_type": "stream",
     "text": [
      "Erro na imagem 26_original.jpg: Nenhum semáforo detectado na imagem.\n"
     ]
    },
    {
     "name": "stderr",
     "output_type": "stream",
     "text": [
      "image 1/1 c:\\Users\\Thiago\\OneDrive\\Documentos\\Facul\\6 Sexto semestre\\TCC\\TCC-CDIA\\notebooks\\..\\data\\frames\\images\\27_original.jpg: 384x640 7 cars, 1 bus, 515.6ms\n",
      "Speed: 2.0ms preprocess, 515.6ms inference, 2.0ms postprocess per image at shape (1, 3, 384, 640)\n",
      "\n"
     ]
    },
    {
     "name": "stdout",
     "output_type": "stream",
     "text": [
      "Erro na imagem 27_original.jpg: Nenhum semáforo detectado na imagem.\n"
     ]
    },
    {
     "name": "stderr",
     "output_type": "stream",
     "text": [
      "image 1/1 c:\\Users\\Thiago\\OneDrive\\Documentos\\Facul\\6 Sexto semestre\\TCC\\TCC-CDIA\\notebooks\\..\\data\\frames\\images\\28_original.jpg: 384x640 1 person, 7 cars, 518.8ms\n",
      "Speed: 2.0ms preprocess, 518.8ms inference, 1.0ms postprocess per image at shape (1, 3, 384, 640)\n",
      "\n"
     ]
    },
    {
     "name": "stdout",
     "output_type": "stream",
     "text": [
      "Erro na imagem 28_original.jpg: Nenhum semáforo detectado na imagem.\n"
     ]
    },
    {
     "name": "stderr",
     "output_type": "stream",
     "text": [
      "image 1/1 c:\\Users\\Thiago\\OneDrive\\Documentos\\Facul\\6 Sexto semestre\\TCC\\TCC-CDIA\\notebooks\\..\\data\\frames\\images\\29_original.jpg: 384x640 9 cars, 1 traffic light, 496.0ms\n",
      "Speed: 2.0ms preprocess, 496.0ms inference, 1.0ms postprocess per image at shape (1, 3, 384, 640)\n",
      "\n"
     ]
    },
    {
     "name": "stdout",
     "output_type": "stream",
     "text": [
      "Semáforo 1 da imagem 29_original já existe em ../data/processed/outputs/semafaros/standard/traffic_light_29_original.jpg. Não foi salvo novamente.\n",
      "Carro 1 da imagem 29_original já existe em ../data/processed/outputs/carros/standard/car_29_original.jpg. Não foi salvo novamente.\n",
      "Carro 2 da imagem 29_original já existe em ../data/processed/outputs/carros/standard/car_29_original(1).jpg. Não foi salvo novamente.\n",
      "Carro 3 da imagem 29_original já existe em ../data/processed/outputs/carros/standard/car_29_original(2).jpg. Não foi salvo novamente.\n",
      "Carro 4 da imagem 29_original já existe em ../data/processed/outputs/carros/standard/car_29_original(3).jpg. Não foi salvo novamente.\n",
      "Carro 5 da imagem 29_original já existe em ../data/processed/outputs/carros/standard/car_29_original(4).jpg. Não foi salvo novamente.\n",
      "Carro 6 da imagem 29_original já existe em ../data/processed/outputs/carros/standard/car_29_original(5).jpg. Não foi salvo novamente.\n",
      "Carro 7 da imagem 29_original já existe em ../data/processed/outputs/carros/standard/car_29_original(6).jpg. Não foi salvo novamente.\n",
      "Carro 8 da imagem 29_original já existe em ../data/processed/outputs/carros/standard/car_29_original(7).jpg. Não foi salvo novamente.\n",
      "Carro 9 da imagem 29_original já existe em ../data/processed/outputs/carros/standard/car_29_original(8).jpg. Não foi salvo novamente.\n",
      "Erro na imagem 29_original.jpg: Nenhum caminhão detectado na imagem.\n"
     ]
    },
    {
     "name": "stderr",
     "output_type": "stream",
     "text": [
      "image 1/1 c:\\Users\\Thiago\\OneDrive\\Documentos\\Facul\\6 Sexto semestre\\TCC\\TCC-CDIA\\notebooks\\..\\data\\frames\\images\\2_original.jpg: 384x640 10 cars, 497.9ms\n",
      "Speed: 2.0ms preprocess, 497.9ms inference, 2.0ms postprocess per image at shape (1, 3, 384, 640)\n",
      "\n"
     ]
    },
    {
     "name": "stdout",
     "output_type": "stream",
     "text": [
      "Erro na imagem 2_original.jpg: Nenhum semáforo detectado na imagem.\n"
     ]
    },
    {
     "name": "stderr",
     "output_type": "stream",
     "text": [
      "image 1/1 c:\\Users\\Thiago\\OneDrive\\Documentos\\Facul\\6 Sexto semestre\\TCC\\TCC-CDIA\\notebooks\\..\\data\\frames\\images\\30_original.jpg: 384x640 1 person, 9 cars, 500.7ms\n",
      "Speed: 2.0ms preprocess, 500.7ms inference, 2.0ms postprocess per image at shape (1, 3, 384, 640)\n",
      "\n"
     ]
    },
    {
     "name": "stdout",
     "output_type": "stream",
     "text": [
      "Erro na imagem 30_original.jpg: Nenhum semáforo detectado na imagem.\n"
     ]
    },
    {
     "name": "stderr",
     "output_type": "stream",
     "text": [
      "image 1/1 c:\\Users\\Thiago\\OneDrive\\Documentos\\Facul\\6 Sexto semestre\\TCC\\TCC-CDIA\\notebooks\\..\\data\\frames\\images\\31_original.jpg: 384x640 1 person, 6 cars, 451.8ms\n",
      "Speed: 2.0ms preprocess, 451.8ms inference, 2.0ms postprocess per image at shape (1, 3, 384, 640)\n",
      "\n"
     ]
    },
    {
     "name": "stdout",
     "output_type": "stream",
     "text": [
      "Erro na imagem 31_original.jpg: Nenhum semáforo detectado na imagem.\n"
     ]
    },
    {
     "name": "stderr",
     "output_type": "stream",
     "text": [
      "image 1/1 c:\\Users\\Thiago\\OneDrive\\Documentos\\Facul\\6 Sexto semestre\\TCC\\TCC-CDIA\\notebooks\\..\\data\\frames\\images\\32_original.jpg: 384x640 6 cars, 1 bus, 1 traffic light, 484.8ms\n",
      "Speed: 2.0ms preprocess, 484.8ms inference, 2.0ms postprocess per image at shape (1, 3, 384, 640)\n",
      "\n"
     ]
    },
    {
     "name": "stdout",
     "output_type": "stream",
     "text": [
      "Semáforo 1 da imagem 32_original já existe em ../data/processed/outputs/semafaros/standard/traffic_light_32_original.jpg. Não foi salvo novamente.\n",
      "Carro 1 da imagem 32_original já existe em ../data/processed/outputs/carros/standard/car_32_original.jpg. Não foi salvo novamente.\n",
      "Carro 2 da imagem 32_original já existe em ../data/processed/outputs/carros/standard/car_32_original(1).jpg. Não foi salvo novamente.\n",
      "Carro 3 da imagem 32_original já existe em ../data/processed/outputs/carros/standard/car_32_original(2).jpg. Não foi salvo novamente.\n",
      "Carro 4 da imagem 32_original já existe em ../data/processed/outputs/carros/standard/car_32_original(3).jpg. Não foi salvo novamente.\n",
      "Carro 5 da imagem 32_original já existe em ../data/processed/outputs/carros/standard/car_32_original(4).jpg. Não foi salvo novamente.\n",
      "Carro 6 da imagem 32_original já existe em ../data/processed/outputs/carros/standard/car_32_original(5).jpg. Não foi salvo novamente.\n",
      "Erro na imagem 32_original.jpg: Nenhum caminhão detectado na imagem.\n"
     ]
    },
    {
     "name": "stderr",
     "output_type": "stream",
     "text": [
      "image 1/1 c:\\Users\\Thiago\\OneDrive\\Documentos\\Facul\\6 Sexto semestre\\TCC\\TCC-CDIA\\notebooks\\..\\data\\frames\\images\\33_original.jpg: 384x640 7 cars, 517.0ms\n",
      "Speed: 4.0ms preprocess, 517.0ms inference, 1.0ms postprocess per image at shape (1, 3, 384, 640)\n",
      "\n"
     ]
    },
    {
     "name": "stdout",
     "output_type": "stream",
     "text": [
      "Erro na imagem 33_original.jpg: Nenhum semáforo detectado na imagem.\n"
     ]
    },
    {
     "name": "stderr",
     "output_type": "stream",
     "text": [
      "image 1/1 c:\\Users\\Thiago\\OneDrive\\Documentos\\Facul\\6 Sexto semestre\\TCC\\TCC-CDIA\\notebooks\\..\\data\\frames\\images\\34_original.jpg: 384x640 1 person, 7 cars, 1 traffic light, 506.6ms\n",
      "Speed: 2.0ms preprocess, 506.6ms inference, 2.0ms postprocess per image at shape (1, 3, 384, 640)\n",
      "\n"
     ]
    },
    {
     "name": "stdout",
     "output_type": "stream",
     "text": [
      "Semáforo 1 da imagem 34_original já existe em ../data/processed/outputs/semafaros/standard/traffic_light_34_original.jpg. Não foi salvo novamente.\n",
      "Carro 1 da imagem 34_original já existe em ../data/processed/outputs/carros/standard/car_34_original.jpg. Não foi salvo novamente.\n",
      "Carro 2 da imagem 34_original já existe em ../data/processed/outputs/carros/standard/car_34_original(1).jpg. Não foi salvo novamente.\n",
      "Carro 3 da imagem 34_original já existe em ../data/processed/outputs/carros/standard/car_34_original(2).jpg. Não foi salvo novamente.\n",
      "Carro 4 da imagem 34_original já existe em ../data/processed/outputs/carros/standard/car_34_original(3).jpg. Não foi salvo novamente.\n",
      "Carro 5 da imagem 34_original já existe em ../data/processed/outputs/carros/standard/car_34_original(4).jpg. Não foi salvo novamente.\n",
      "Carro 6 da imagem 34_original já existe em ../data/processed/outputs/carros/standard/car_34_original(5).jpg. Não foi salvo novamente.\n",
      "Carro 7 da imagem 34_original já existe em ../data/processed/outputs/carros/standard/car_34_original(6).jpg. Não foi salvo novamente.\n",
      "Erro na imagem 34_original.jpg: Nenhum caminhão detectado na imagem.\n"
     ]
    },
    {
     "name": "stderr",
     "output_type": "stream",
     "text": [
      "image 1/1 c:\\Users\\Thiago\\OneDrive\\Documentos\\Facul\\6 Sexto semestre\\TCC\\TCC-CDIA\\notebooks\\..\\data\\frames\\images\\35_original.jpg: 384x640 2 persons, 2 cars, 1 traffic light, 493.7ms\n",
      "Speed: 1.0ms preprocess, 493.7ms inference, 2.0ms postprocess per image at shape (1, 3, 384, 640)\n",
      "\n"
     ]
    },
    {
     "name": "stdout",
     "output_type": "stream",
     "text": [
      "Semáforo 1 da imagem 35_original já existe em ../data/processed/outputs/semafaros/standard/traffic_light_35_original.jpg. Não foi salvo novamente.\n",
      "Carro 1 da imagem 35_original já existe em ../data/processed/outputs/carros/standard/car_35_original.jpg. Não foi salvo novamente.\n",
      "Carro 2 da imagem 35_original já existe em ../data/processed/outputs/carros/standard/car_35_original(1).jpg. Não foi salvo novamente.\n",
      "Erro na imagem 35_original.jpg: Nenhum caminhão detectado na imagem.\n"
     ]
    },
    {
     "name": "stderr",
     "output_type": "stream",
     "text": [
      "image 1/1 c:\\Users\\Thiago\\OneDrive\\Documentos\\Facul\\6 Sexto semestre\\TCC\\TCC-CDIA\\notebooks\\..\\data\\frames\\images\\36_original.jpg: 384x640 2 persons, 6 cars, 1 motorcycle, 494.7ms\n",
      "Speed: 2.0ms preprocess, 494.7ms inference, 1.0ms postprocess per image at shape (1, 3, 384, 640)\n",
      "\n"
     ]
    },
    {
     "name": "stdout",
     "output_type": "stream",
     "text": [
      "Erro na imagem 36_original.jpg: Nenhum semáforo detectado na imagem.\n"
     ]
    },
    {
     "name": "stderr",
     "output_type": "stream",
     "text": [
      "image 1/1 c:\\Users\\Thiago\\OneDrive\\Documentos\\Facul\\6 Sexto semestre\\TCC\\TCC-CDIA\\notebooks\\..\\data\\frames\\images\\37_original.jpg: 384x640 1 person, 3 cars, 1 motorcycle, 1 bus, 1 traffic light, 502.6ms\n",
      "Speed: 2.0ms preprocess, 502.6ms inference, 1.0ms postprocess per image at shape (1, 3, 384, 640)\n",
      "\n"
     ]
    },
    {
     "name": "stdout",
     "output_type": "stream",
     "text": [
      "Semáforo 1 da imagem 37_original já existe em ../data/processed/outputs/semafaros/standard/traffic_light_37_original.jpg. Não foi salvo novamente.\n",
      "Carro 1 da imagem 37_original já existe em ../data/processed/outputs/carros/standard/car_37_original.jpg. Não foi salvo novamente.\n",
      "Carro 2 da imagem 37_original já existe em ../data/processed/outputs/carros/standard/car_37_original(1).jpg. Não foi salvo novamente.\n",
      "Carro 3 da imagem 37_original já existe em ../data/processed/outputs/carros/standard/car_37_original(2).jpg. Não foi salvo novamente.\n",
      "Erro na imagem 37_original.jpg: Nenhum caminhão detectado na imagem.\n"
     ]
    },
    {
     "name": "stderr",
     "output_type": "stream",
     "text": [
      "image 1/1 c:\\Users\\Thiago\\OneDrive\\Documentos\\Facul\\6 Sexto semestre\\TCC\\TCC-CDIA\\notebooks\\..\\data\\frames\\images\\38_original.jpg: 384x640 8 persons, 11 cars, 1 umbrella, 517.6ms\n",
      "Speed: 2.0ms preprocess, 517.6ms inference, 2.0ms postprocess per image at shape (1, 3, 384, 640)\n",
      "\n"
     ]
    },
    {
     "name": "stdout",
     "output_type": "stream",
     "text": [
      "Erro na imagem 38_original.jpg: Nenhum semáforo detectado na imagem.\n"
     ]
    },
    {
     "name": "stderr",
     "output_type": "stream",
     "text": [
      "image 1/1 c:\\Users\\Thiago\\OneDrive\\Documentos\\Facul\\6 Sexto semestre\\TCC\\TCC-CDIA\\notebooks\\..\\data\\frames\\images\\39_original.jpg: 384x640 1 person, 5 cars, 468.9ms\n",
      "Speed: 2.0ms preprocess, 468.9ms inference, 2.0ms postprocess per image at shape (1, 3, 384, 640)\n",
      "\n"
     ]
    },
    {
     "name": "stdout",
     "output_type": "stream",
     "text": [
      "Erro na imagem 39_original.jpg: Nenhum semáforo detectado na imagem.\n"
     ]
    },
    {
     "name": "stderr",
     "output_type": "stream",
     "text": [
      "image 1/1 c:\\Users\\Thiago\\OneDrive\\Documentos\\Facul\\6 Sexto semestre\\TCC\\TCC-CDIA\\notebooks\\..\\data\\frames\\images\\3_original.jpg: 384x640 7 cars, 3 traffic lights, 477.7ms\n",
      "Speed: 2.0ms preprocess, 477.7ms inference, 2.0ms postprocess per image at shape (1, 3, 384, 640)\n",
      "\n"
     ]
    },
    {
     "name": "stdout",
     "output_type": "stream",
     "text": [
      "Semáforo 1 da imagem 3_original já existe em ../data/processed/outputs/semafaros/standard/traffic_light_3_original.jpg. Não foi salvo novamente.\n",
      "Semáforo 2 da imagem 3_original já existe em ../data/processed/outputs/semafaros/standard/traffic_light_3_original(1).jpg. Não foi salvo novamente.\n",
      "Semáforo 3 da imagem 3_original já existe em ../data/processed/outputs/semafaros/standard/traffic_light_3_original(2).jpg. Não foi salvo novamente.\n",
      "Carro 1 da imagem 3_original já existe em ../data/processed/outputs/carros/standard/car_3_original.jpg. Não foi salvo novamente.\n",
      "Carro 2 da imagem 3_original já existe em ../data/processed/outputs/carros/standard/car_3_original(1).jpg. Não foi salvo novamente.\n",
      "Carro 3 da imagem 3_original já existe em ../data/processed/outputs/carros/standard/car_3_original(2).jpg. Não foi salvo novamente.\n",
      "Carro 4 da imagem 3_original já existe em ../data/processed/outputs/carros/standard/car_3_original(3).jpg. Não foi salvo novamente.\n",
      "Carro 5 da imagem 3_original já existe em ../data/processed/outputs/carros/standard/car_3_original(4).jpg. Não foi salvo novamente.\n",
      "Carro 6 da imagem 3_original já existe em ../data/processed/outputs/carros/standard/car_3_original(5).jpg. Não foi salvo novamente.\n",
      "Carro 7 da imagem 3_original já existe em ../data/processed/outputs/carros/standard/car_3_original(6).jpg. Não foi salvo novamente.\n",
      "Erro na imagem 3_original.jpg: Nenhum caminhão detectado na imagem.\n"
     ]
    },
    {
     "name": "stderr",
     "output_type": "stream",
     "text": [
      "image 1/1 c:\\Users\\Thiago\\OneDrive\\Documentos\\Facul\\6 Sexto semestre\\TCC\\TCC-CDIA\\notebooks\\..\\data\\frames\\images\\40_original.jpg: 384x640 6 cars, 498.7ms\n",
      "Speed: 2.0ms preprocess, 498.7ms inference, 1.0ms postprocess per image at shape (1, 3, 384, 640)\n",
      "\n"
     ]
    },
    {
     "name": "stdout",
     "output_type": "stream",
     "text": [
      "Erro na imagem 40_original.jpg: Nenhum semáforo detectado na imagem.\n"
     ]
    },
    {
     "name": "stderr",
     "output_type": "stream",
     "text": [
      "image 1/1 c:\\Users\\Thiago\\OneDrive\\Documentos\\Facul\\6 Sexto semestre\\TCC\\TCC-CDIA\\notebooks\\..\\data\\frames\\images\\41_original.jpg: 384x640 1 person, 2 cars, 4 traffic lights, 576.5ms\n",
      "Speed: 3.0ms preprocess, 576.5ms inference, 2.0ms postprocess per image at shape (1, 3, 384, 640)\n",
      "\n"
     ]
    },
    {
     "name": "stdout",
     "output_type": "stream",
     "text": [
      "Semáforo 1 da imagem 41_original já existe em ../data/processed/outputs/semafaros/standard/traffic_light_41_original.jpg. Não foi salvo novamente.\n",
      "Semáforo 2 da imagem 41_original já existe em ../data/processed/outputs/semafaros/standard/traffic_light_41_original(1).jpg. Não foi salvo novamente.\n",
      "Semáforo 3 da imagem 41_original já existe em ../data/processed/outputs/semafaros/standard/traffic_light_41_original(2).jpg. Não foi salvo novamente.\n",
      "Semáforo 4 da imagem 41_original já existe em ../data/processed/outputs/semafaros/standard/traffic_light_41_original(3).jpg. Não foi salvo novamente.\n",
      "Carro 1 da imagem 41_original já existe em ../data/processed/outputs/carros/standard/car_41_original.jpg. Não foi salvo novamente.\n",
      "Carro 2 da imagem 41_original já existe em ../data/processed/outputs/carros/standard/car_41_original(1).jpg. Não foi salvo novamente.\n",
      "Erro na imagem 41_original.jpg: Nenhum caminhão detectado na imagem.\n"
     ]
    },
    {
     "name": "stderr",
     "output_type": "stream",
     "text": [
      "image 1/1 c:\\Users\\Thiago\\OneDrive\\Documentos\\Facul\\6 Sexto semestre\\TCC\\TCC-CDIA\\notebooks\\..\\data\\frames\\images\\42_original.jpg: 384x640 3 cars, 2 traffic lights, 512.6ms\n",
      "Speed: 2.0ms preprocess, 512.6ms inference, 2.0ms postprocess per image at shape (1, 3, 384, 640)\n",
      "\n"
     ]
    },
    {
     "name": "stdout",
     "output_type": "stream",
     "text": [
      "Semáforo 1 da imagem 42_original já existe em ../data/processed/outputs/semafaros/standard/traffic_light_42_original.jpg. Não foi salvo novamente.\n",
      "Semáforo 2 da imagem 42_original já existe em ../data/processed/outputs/semafaros/standard/traffic_light_42_original(1).jpg. Não foi salvo novamente.\n",
      "Carro 1 da imagem 42_original já existe em ../data/processed/outputs/carros/standard/car_42_original.jpg. Não foi salvo novamente.\n",
      "Carro 2 da imagem 42_original já existe em ../data/processed/outputs/carros/standard/car_42_original(1).jpg. Não foi salvo novamente.\n",
      "Carro 3 da imagem 42_original já existe em ../data/processed/outputs/carros/standard/car_42_original(2).jpg. Não foi salvo novamente.\n",
      "Erro na imagem 42_original.jpg: Nenhum caminhão detectado na imagem.\n"
     ]
    },
    {
     "name": "stderr",
     "output_type": "stream",
     "text": [
      "image 1/1 c:\\Users\\Thiago\\OneDrive\\Documentos\\Facul\\6 Sexto semestre\\TCC\\TCC-CDIA\\notebooks\\..\\data\\frames\\images\\43_original.jpg: 384x640 1 person, 5 cars, 494.7ms\n",
      "Speed: 2.0ms preprocess, 494.7ms inference, 2.0ms postprocess per image at shape (1, 3, 384, 640)\n",
      "\n"
     ]
    },
    {
     "name": "stdout",
     "output_type": "stream",
     "text": [
      "Erro na imagem 43_original.jpg: Nenhum semáforo detectado na imagem.\n"
     ]
    },
    {
     "name": "stderr",
     "output_type": "stream",
     "text": [
      "image 1/1 c:\\Users\\Thiago\\OneDrive\\Documentos\\Facul\\6 Sexto semestre\\TCC\\TCC-CDIA\\notebooks\\..\\data\\frames\\images\\44_original.jpg: 384x640 6 cars, 2 traffic lights, 454.8ms\n",
      "Speed: 2.0ms preprocess, 454.8ms inference, 2.0ms postprocess per image at shape (1, 3, 384, 640)\n",
      "\n"
     ]
    },
    {
     "name": "stdout",
     "output_type": "stream",
     "text": [
      "Semáforo 1 da imagem 44_original já existe em ../data/processed/outputs/semafaros/standard/traffic_light_44_original.jpg. Não foi salvo novamente.\n",
      "Semáforo 2 da imagem 44_original já existe em ../data/processed/outputs/semafaros/standard/traffic_light_44_original(1).jpg. Não foi salvo novamente.\n",
      "Carro 1 da imagem 44_original já existe em ../data/processed/outputs/carros/standard/car_44_original.jpg. Não foi salvo novamente.\n",
      "Carro 2 da imagem 44_original já existe em ../data/processed/outputs/carros/standard/car_44_original(1).jpg. Não foi salvo novamente.\n",
      "Carro 3 da imagem 44_original já existe em ../data/processed/outputs/carros/standard/car_44_original(2).jpg. Não foi salvo novamente.\n",
      "Carro 4 da imagem 44_original já existe em ../data/processed/outputs/carros/standard/car_44_original(3).jpg. Não foi salvo novamente.\n",
      "Carro 5 da imagem 44_original já existe em ../data/processed/outputs/carros/standard/car_44_original(4).jpg. Não foi salvo novamente.\n",
      "Carro 6 da imagem 44_original já existe em ../data/processed/outputs/carros/standard/car_44_original(5).jpg. Não foi salvo novamente.\n",
      "Erro na imagem 44_original.jpg: Nenhum caminhão detectado na imagem.\n"
     ]
    },
    {
     "name": "stderr",
     "output_type": "stream",
     "text": [
      "image 1/1 c:\\Users\\Thiago\\OneDrive\\Documentos\\Facul\\6 Sexto semestre\\TCC\\TCC-CDIA\\notebooks\\..\\data\\frames\\images\\45_original.jpg: 384x640 4 cars, 1 truck, 1 traffic light, 442.8ms\n",
      "Speed: 1.0ms preprocess, 442.8ms inference, 2.0ms postprocess per image at shape (1, 3, 384, 640)\n",
      "\n"
     ]
    },
    {
     "name": "stdout",
     "output_type": "stream",
     "text": [
      "Semáforo 1 da imagem 45_original já existe em ../data/processed/outputs/semafaros/standard/traffic_light_45_original.jpg. Não foi salvo novamente.\n",
      "Carro 1 da imagem 45_original já existe em ../data/processed/outputs/carros/standard/car_45_original.jpg. Não foi salvo novamente.\n",
      "Carro 2 da imagem 45_original já existe em ../data/processed/outputs/carros/standard/car_45_original(1).jpg. Não foi salvo novamente.\n",
      "Carro 3 da imagem 45_original já existe em ../data/processed/outputs/carros/standard/car_45_original(2).jpg. Não foi salvo novamente.\n",
      "Carro 4 da imagem 45_original já existe em ../data/processed/outputs/carros/standard/car_45_original(3).jpg. Não foi salvo novamente.\n",
      "Caminhão 1 da imagem 45_original já existe em ../data/processed/outputs/caminhao/standard/truck_45_original.jpg. Não foi salvo novamente.\n",
      "Erro na imagem 45_original.jpg: Nenhuma pessoa detectada na imagem.\n"
     ]
    },
    {
     "name": "stderr",
     "output_type": "stream",
     "text": [
      "image 1/1 c:\\Users\\Thiago\\OneDrive\\Documentos\\Facul\\6 Sexto semestre\\TCC\\TCC-CDIA\\notebooks\\..\\data\\frames\\images\\46_original.jpg: 384x640 6 cars, 458.8ms\n",
      "Speed: 2.0ms preprocess, 458.8ms inference, 2.0ms postprocess per image at shape (1, 3, 384, 640)\n",
      "\n"
     ]
    },
    {
     "name": "stdout",
     "output_type": "stream",
     "text": [
      "Erro na imagem 46_original.jpg: Nenhum semáforo detectado na imagem.\n"
     ]
    },
    {
     "name": "stderr",
     "output_type": "stream",
     "text": [
      "image 1/1 c:\\Users\\Thiago\\OneDrive\\Documentos\\Facul\\6 Sexto semestre\\TCC\\TCC-CDIA\\notebooks\\..\\data\\frames\\images\\47_original.jpg: 384x640 4 persons, 8 cars, 1 truck, 521.6ms\n",
      "Speed: 2.0ms preprocess, 521.6ms inference, 2.0ms postprocess per image at shape (1, 3, 384, 640)\n",
      "\n"
     ]
    },
    {
     "name": "stdout",
     "output_type": "stream",
     "text": [
      "Erro na imagem 47_original.jpg: Nenhum semáforo detectado na imagem.\n"
     ]
    },
    {
     "name": "stderr",
     "output_type": "stream",
     "text": [
      "image 1/1 c:\\Users\\Thiago\\OneDrive\\Documentos\\Facul\\6 Sexto semestre\\TCC\\TCC-CDIA\\notebooks\\..\\data\\frames\\images\\48_original.jpg: 384x640 4 persons, 1 bicycle, 8 cars, 3 buss, 508.6ms\n",
      "Speed: 2.0ms preprocess, 508.6ms inference, 2.0ms postprocess per image at shape (1, 3, 384, 640)\n",
      "\n"
     ]
    },
    {
     "name": "stdout",
     "output_type": "stream",
     "text": [
      "Erro na imagem 48_original.jpg: Nenhum semáforo detectado na imagem.\n"
     ]
    },
    {
     "name": "stderr",
     "output_type": "stream",
     "text": [
      "image 1/1 c:\\Users\\Thiago\\OneDrive\\Documentos\\Facul\\6 Sexto semestre\\TCC\\TCC-CDIA\\notebooks\\..\\data\\frames\\images\\49_original.jpg: 384x640 9 cars, 1 bus, 506.6ms\n",
      "Speed: 2.0ms preprocess, 506.6ms inference, 2.0ms postprocess per image at shape (1, 3, 384, 640)\n",
      "\n"
     ]
    },
    {
     "name": "stdout",
     "output_type": "stream",
     "text": [
      "Erro na imagem 49_original.jpg: Nenhum semáforo detectado na imagem.\n"
     ]
    },
    {
     "name": "stderr",
     "output_type": "stream",
     "text": [
      "image 1/1 c:\\Users\\Thiago\\OneDrive\\Documentos\\Facul\\6 Sexto semestre\\TCC\\TCC-CDIA\\notebooks\\..\\data\\frames\\images\\4_original.jpg: 384x640 1 person, 8 cars, 2 trucks, 1 traffic light, 476.8ms\n",
      "Speed: 2.0ms preprocess, 476.8ms inference, 2.0ms postprocess per image at shape (1, 3, 384, 640)\n",
      "\n"
     ]
    },
    {
     "name": "stdout",
     "output_type": "stream",
     "text": [
      "Semáforo 1 da imagem 4_original já existe em ../data/processed/outputs/semafaros/standard/traffic_light_4_original.jpg. Não foi salvo novamente.\n",
      "Carro 1 da imagem 4_original já existe em ../data/processed/outputs/carros/standard/car_4_original.jpg. Não foi salvo novamente.\n",
      "Carro 2 da imagem 4_original já existe em ../data/processed/outputs/carros/standard/car_4_original(1).jpg. Não foi salvo novamente.\n",
      "Carro 3 da imagem 4_original já existe em ../data/processed/outputs/carros/standard/car_4_original(2).jpg. Não foi salvo novamente.\n",
      "Carro 4 da imagem 4_original já existe em ../data/processed/outputs/carros/standard/car_4_original(3).jpg. Não foi salvo novamente.\n",
      "Carro 5 da imagem 4_original já existe em ../data/processed/outputs/carros/standard/car_4_original(4).jpg. Não foi salvo novamente.\n",
      "Carro 6 da imagem 4_original já existe em ../data/processed/outputs/carros/standard/car_4_original(5).jpg. Não foi salvo novamente.\n",
      "Carro 7 da imagem 4_original já existe em ../data/processed/outputs/carros/standard/car_4_original(6).jpg. Não foi salvo novamente.\n",
      "Carro 8 da imagem 4_original já existe em ../data/processed/outputs/carros/standard/car_4_original(7).jpg. Não foi salvo novamente.\n",
      "Caminhão 1 da imagem 4_original já existe em ../data/processed/outputs/caminhao/standard/truck_4_original.jpg. Não foi salvo novamente.\n",
      "Caminhão 2 da imagem 4_original já existe em ../data/processed/outputs/caminhao/standard/truck_4_original(1).jpg. Não foi salvo novamente.\n",
      "Pessoa 1 da imagem 4_original já existe em ../data/processed/outputs/pessoas/standard/person_4_original.jpg. Não foi salva novamente.\n",
      "Erro na imagem 4_original.jpg: Nenhuma moto detectada na imagem.\n"
     ]
    },
    {
     "name": "stderr",
     "output_type": "stream",
     "text": [
      "image 1/1 c:\\Users\\Thiago\\OneDrive\\Documentos\\Facul\\6 Sexto semestre\\TCC\\TCC-CDIA\\notebooks\\..\\data\\frames\\images\\50_original.jpg: 384x640 11 cars, 1 bus, 2 traffic lights, 443.8ms\n",
      "Speed: 2.0ms preprocess, 443.8ms inference, 2.0ms postprocess per image at shape (1, 3, 384, 640)\n",
      "\n"
     ]
    },
    {
     "name": "stdout",
     "output_type": "stream",
     "text": [
      "Semáforo 1 da imagem 50_original já existe em ../data/processed/outputs/semafaros/standard/traffic_light_50_original.jpg. Não foi salvo novamente.\n",
      "Semáforo 2 da imagem 50_original já existe em ../data/processed/outputs/semafaros/standard/traffic_light_50_original(1).jpg. Não foi salvo novamente.\n",
      "Carro 1 da imagem 50_original já existe em ../data/processed/outputs/carros/standard/car_50_original.jpg. Não foi salvo novamente.\n",
      "Carro 2 da imagem 50_original já existe em ../data/processed/outputs/carros/standard/car_50_original(1).jpg. Não foi salvo novamente.\n",
      "Carro 3 da imagem 50_original já existe em ../data/processed/outputs/carros/standard/car_50_original(2).jpg. Não foi salvo novamente.\n",
      "Carro 4 da imagem 50_original já existe em ../data/processed/outputs/carros/standard/car_50_original(3).jpg. Não foi salvo novamente.\n",
      "Carro 5 da imagem 50_original já existe em ../data/processed/outputs/carros/standard/car_50_original(4).jpg. Não foi salvo novamente.\n",
      "Carro 6 da imagem 50_original já existe em ../data/processed/outputs/carros/standard/car_50_original(5).jpg. Não foi salvo novamente.\n",
      "Carro 7 da imagem 50_original já existe em ../data/processed/outputs/carros/standard/car_50_original(6).jpg. Não foi salvo novamente.\n",
      "Carro 8 da imagem 50_original já existe em ../data/processed/outputs/carros/standard/car_50_original(7).jpg. Não foi salvo novamente.\n",
      "Carro 9 da imagem 50_original já existe em ../data/processed/outputs/carros/standard/car_50_original(8).jpg. Não foi salvo novamente.\n",
      "Carro 10 da imagem 50_original já existe em ../data/processed/outputs/carros/standard/car_50_original(9).jpg. Não foi salvo novamente.\n",
      "Carro 11 da imagem 50_original já existe em ../data/processed/outputs/carros/standard/car_50_original(10).jpg. Não foi salvo novamente.\n",
      "Erro na imagem 50_original.jpg: Nenhum caminhão detectado na imagem.\n"
     ]
    },
    {
     "name": "stderr",
     "output_type": "stream",
     "text": [
      "image 1/1 c:\\Users\\Thiago\\OneDrive\\Documentos\\Facul\\6 Sexto semestre\\TCC\\TCC-CDIA\\notebooks\\..\\data\\frames\\images\\51_original.jpg: 384x640 2 persons, 1 bicycle, 7 cars, 1 motorcycle, 1133.6ms\n",
      "Speed: 2.0ms preprocess, 1133.6ms inference, 5.9ms postprocess per image at shape (1, 3, 384, 640)\n",
      "\n"
     ]
    },
    {
     "name": "stdout",
     "output_type": "stream",
     "text": [
      "Erro na imagem 51_original.jpg: Nenhum semáforo detectado na imagem.\n"
     ]
    },
    {
     "name": "stderr",
     "output_type": "stream",
     "text": [
      "image 1/1 c:\\Users\\Thiago\\OneDrive\\Documentos\\Facul\\6 Sexto semestre\\TCC\\TCC-CDIA\\notebooks\\..\\data\\frames\\images\\52_original.jpg: 384x640 12 cars, 1 traffic light, 907.7ms\n",
      "Speed: 5.0ms preprocess, 907.7ms inference, 1.0ms postprocess per image at shape (1, 3, 384, 640)\n",
      "\n"
     ]
    },
    {
     "name": "stdout",
     "output_type": "stream",
     "text": [
      "Semáforo 1 da imagem 52_original já existe em ../data/processed/outputs/semafaros/standard/traffic_light_52_original.jpg. Não foi salvo novamente.\n",
      "Carro 1 da imagem 52_original já existe em ../data/processed/outputs/carros/standard/car_52_original.jpg. Não foi salvo novamente.\n",
      "Carro 2 da imagem 52_original já existe em ../data/processed/outputs/carros/standard/car_52_original(1).jpg. Não foi salvo novamente.\n",
      "Carro 3 da imagem 52_original já existe em ../data/processed/outputs/carros/standard/car_52_original(2).jpg. Não foi salvo novamente.\n",
      "Carro 4 da imagem 52_original já existe em ../data/processed/outputs/carros/standard/car_52_original(3).jpg. Não foi salvo novamente.\n",
      "Carro 5 da imagem 52_original já existe em ../data/processed/outputs/carros/standard/car_52_original(4).jpg. Não foi salvo novamente.\n",
      "Carro 6 da imagem 52_original já existe em ../data/processed/outputs/carros/standard/car_52_original(5).jpg. Não foi salvo novamente.\n",
      "Carro 7 da imagem 52_original já existe em ../data/processed/outputs/carros/standard/car_52_original(6).jpg. Não foi salvo novamente.\n",
      "Carro 8 da imagem 52_original já existe em ../data/processed/outputs/carros/standard/car_52_original(7).jpg. Não foi salvo novamente.\n",
      "Carro 9 da imagem 52_original já existe em ../data/processed/outputs/carros/standard/car_52_original(8).jpg. Não foi salvo novamente.\n",
      "Carro 10 da imagem 52_original já existe em ../data/processed/outputs/carros/standard/car_52_original(9).jpg. Não foi salvo novamente.\n",
      "Carro 11 da imagem 52_original já existe em ../data/processed/outputs/carros/standard/car_52_original(10).jpg. Não foi salvo novamente.\n",
      "Carro 12 da imagem 52_original já existe em ../data/processed/outputs/carros/standard/car_52_original(11).jpg. Não foi salvo novamente.\n",
      "Erro na imagem 52_original.jpg: Nenhum caminhão detectado na imagem.\n"
     ]
    },
    {
     "name": "stderr",
     "output_type": "stream",
     "text": [
      "image 1/1 c:\\Users\\Thiago\\OneDrive\\Documentos\\Facul\\6 Sexto semestre\\TCC\\TCC-CDIA\\notebooks\\..\\data\\frames\\images\\53_original.jpg: 384x640 14 cars, 453.8ms\n",
      "Speed: 1.0ms preprocess, 453.8ms inference, 2.0ms postprocess per image at shape (1, 3, 384, 640)\n",
      "\n"
     ]
    },
    {
     "name": "stdout",
     "output_type": "stream",
     "text": [
      "Erro na imagem 53_original.jpg: Nenhum semáforo detectado na imagem.\n"
     ]
    },
    {
     "name": "stderr",
     "output_type": "stream",
     "text": [
      "image 1/1 c:\\Users\\Thiago\\OneDrive\\Documentos\\Facul\\6 Sexto semestre\\TCC\\TCC-CDIA\\notebooks\\..\\data\\frames\\images\\54_original.jpg: 384x640 6 persons, 9 cars, 1 motorcycle, 462.8ms\n",
      "Speed: 2.0ms preprocess, 462.8ms inference, 2.0ms postprocess per image at shape (1, 3, 384, 640)\n",
      "\n"
     ]
    },
    {
     "name": "stdout",
     "output_type": "stream",
     "text": [
      "Erro na imagem 54_original.jpg: Nenhum semáforo detectado na imagem.\n"
     ]
    },
    {
     "name": "stderr",
     "output_type": "stream",
     "text": [
      "image 1/1 c:\\Users\\Thiago\\OneDrive\\Documentos\\Facul\\6 Sexto semestre\\TCC\\TCC-CDIA\\notebooks\\..\\data\\frames\\images\\55_original.jpg: 384x640 3 cars, 3 traffic lights, 466.8ms\n",
      "Speed: 3.0ms preprocess, 466.8ms inference, 2.0ms postprocess per image at shape (1, 3, 384, 640)\n",
      "\n"
     ]
    },
    {
     "name": "stdout",
     "output_type": "stream",
     "text": [
      "Semáforo 1 da imagem 55_original já existe em ../data/processed/outputs/semafaros/standard/traffic_light_55_original.jpg. Não foi salvo novamente.\n",
      "Semáforo 2 da imagem 55_original já existe em ../data/processed/outputs/semafaros/standard/traffic_light_55_original(1).jpg. Não foi salvo novamente.\n",
      "Semáforo 3 da imagem 55_original já existe em ../data/processed/outputs/semafaros/standard/traffic_light_55_original(2).jpg. Não foi salvo novamente.\n",
      "Carro 1 da imagem 55_original já existe em ../data/processed/outputs/carros/standard/car_55_original.jpg. Não foi salvo novamente.\n",
      "Carro 2 da imagem 55_original já existe em ../data/processed/outputs/carros/standard/car_55_original(1).jpg. Não foi salvo novamente.\n",
      "Carro 3 da imagem 55_original já existe em ../data/processed/outputs/carros/standard/car_55_original(2).jpg. Não foi salvo novamente.\n",
      "Erro na imagem 55_original.jpg: Nenhum caminhão detectado na imagem.\n"
     ]
    },
    {
     "name": "stderr",
     "output_type": "stream",
     "text": [
      "image 1/1 c:\\Users\\Thiago\\OneDrive\\Documentos\\Facul\\6 Sexto semestre\\TCC\\TCC-CDIA\\notebooks\\..\\data\\frames\\images\\56_original.jpg: 384x640 3 persons, 5 cars, 502.9ms\n",
      "Speed: 2.0ms preprocess, 502.9ms inference, 2.0ms postprocess per image at shape (1, 3, 384, 640)\n",
      "\n"
     ]
    },
    {
     "name": "stdout",
     "output_type": "stream",
     "text": [
      "Erro na imagem 56_original.jpg: Nenhum semáforo detectado na imagem.\n"
     ]
    },
    {
     "name": "stderr",
     "output_type": "stream",
     "text": [
      "image 1/1 c:\\Users\\Thiago\\OneDrive\\Documentos\\Facul\\6 Sexto semestre\\TCC\\TCC-CDIA\\notebooks\\..\\data\\frames\\images\\57_original.jpg: 384x640 2 persons, 4 cars, 1 motorcycle, 1 umbrella, 512.6ms\n",
      "Speed: 2.0ms preprocess, 512.6ms inference, 2.0ms postprocess per image at shape (1, 3, 384, 640)\n",
      "\n"
     ]
    },
    {
     "name": "stdout",
     "output_type": "stream",
     "text": [
      "Erro na imagem 57_original.jpg: Nenhum semáforo detectado na imagem.\n"
     ]
    },
    {
     "name": "stderr",
     "output_type": "stream",
     "text": [
      "image 1/1 c:\\Users\\Thiago\\OneDrive\\Documentos\\Facul\\6 Sexto semestre\\TCC\\TCC-CDIA\\notebooks\\..\\data\\frames\\images\\58_original.jpg: 384x640 10 cars, 552.5ms\n",
      "Speed: 2.0ms preprocess, 552.5ms inference, 2.0ms postprocess per image at shape (1, 3, 384, 640)\n",
      "\n"
     ]
    },
    {
     "name": "stdout",
     "output_type": "stream",
     "text": [
      "Erro na imagem 58_original.jpg: Nenhum semáforo detectado na imagem.\n"
     ]
    },
    {
     "name": "stderr",
     "output_type": "stream",
     "text": [
      "image 1/1 c:\\Users\\Thiago\\OneDrive\\Documentos\\Facul\\6 Sexto semestre\\TCC\\TCC-CDIA\\notebooks\\..\\data\\frames\\images\\59_original.jpg: 384x640 4 persons, 7 cars, 1 bus, 1 truck, 507.6ms\n",
      "Speed: 2.0ms preprocess, 507.6ms inference, 1.0ms postprocess per image at shape (1, 3, 384, 640)\n",
      "\n"
     ]
    },
    {
     "name": "stdout",
     "output_type": "stream",
     "text": [
      "Erro na imagem 59_original.jpg: Nenhum semáforo detectado na imagem.\n"
     ]
    },
    {
     "name": "stderr",
     "output_type": "stream",
     "text": [
      "image 1/1 c:\\Users\\Thiago\\OneDrive\\Documentos\\Facul\\6 Sexto semestre\\TCC\\TCC-CDIA\\notebooks\\..\\data\\frames\\images\\5_original.jpg: 384x640 3 persons, 7 cars, 4 motorcycles, 527.6ms\n",
      "Speed: 2.0ms preprocess, 527.6ms inference, 2.0ms postprocess per image at shape (1, 3, 384, 640)\n",
      "\n"
     ]
    },
    {
     "name": "stdout",
     "output_type": "stream",
     "text": [
      "Erro na imagem 5_original.jpg: Nenhum semáforo detectado na imagem.\n"
     ]
    },
    {
     "name": "stderr",
     "output_type": "stream",
     "text": [
      "image 1/1 c:\\Users\\Thiago\\OneDrive\\Documentos\\Facul\\6 Sexto semestre\\TCC\\TCC-CDIA\\notebooks\\..\\data\\frames\\images\\60_original.jpg: 384x640 3 persons, 2 bicycles, 10 cars, 492.8ms\n",
      "Speed: 2.0ms preprocess, 492.8ms inference, 1.0ms postprocess per image at shape (1, 3, 384, 640)\n",
      "\n"
     ]
    },
    {
     "name": "stdout",
     "output_type": "stream",
     "text": [
      "Erro na imagem 60_original.jpg: Nenhum semáforo detectado na imagem.\n"
     ]
    },
    {
     "name": "stderr",
     "output_type": "stream",
     "text": [
      "image 1/1 c:\\Users\\Thiago\\OneDrive\\Documentos\\Facul\\6 Sexto semestre\\TCC\\TCC-CDIA\\notebooks\\..\\data\\frames\\images\\61_original.jpg: 384x640 4 persons, 4 cars, 1 motorcycle, 1 bus, 1 truck, 997.9ms\n",
      "Speed: 2.0ms preprocess, 997.9ms inference, 7.0ms postprocess per image at shape (1, 3, 384, 640)\n",
      "\n"
     ]
    },
    {
     "name": "stdout",
     "output_type": "stream",
     "text": [
      "Erro na imagem 61_original.jpg: Nenhum semáforo detectado na imagem.\n"
     ]
    },
    {
     "name": "stderr",
     "output_type": "stream",
     "text": [
      "image 1/1 c:\\Users\\Thiago\\OneDrive\\Documentos\\Facul\\6 Sexto semestre\\TCC\\TCC-CDIA\\notebooks\\..\\data\\frames\\images\\62_original.jpg: 384x640 3 persons, 7 cars, 1 motorcycle, 1474.8ms\n",
      "Speed: 5.0ms preprocess, 1474.8ms inference, 2.0ms postprocess per image at shape (1, 3, 384, 640)\n",
      "\n"
     ]
    },
    {
     "name": "stdout",
     "output_type": "stream",
     "text": [
      "Erro na imagem 62_original.jpg: Nenhum semáforo detectado na imagem.\n"
     ]
    },
    {
     "name": "stderr",
     "output_type": "stream",
     "text": [
      "image 1/1 c:\\Users\\Thiago\\OneDrive\\Documentos\\Facul\\6 Sexto semestre\\TCC\\TCC-CDIA\\notebooks\\..\\data\\frames\\images\\63_original.jpg: 384x640 11 persons, 8 cars, 580.8ms\n",
      "Speed: 2.0ms preprocess, 580.8ms inference, 1.0ms postprocess per image at shape (1, 3, 384, 640)\n",
      "\n"
     ]
    },
    {
     "name": "stdout",
     "output_type": "stream",
     "text": [
      "Erro na imagem 63_original.jpg: Nenhum semáforo detectado na imagem.\n"
     ]
    },
    {
     "name": "stderr",
     "output_type": "stream",
     "text": [
      "image 1/1 c:\\Users\\Thiago\\OneDrive\\Documentos\\Facul\\6 Sexto semestre\\TCC\\TCC-CDIA\\notebooks\\..\\data\\frames\\images\\64_original.jpg: 384x640 1 person, 10 cars, 2 traffic lights, 508.7ms\n",
      "Speed: 2.0ms preprocess, 508.7ms inference, 1.0ms postprocess per image at shape (1, 3, 384, 640)\n",
      "\n"
     ]
    },
    {
     "name": "stdout",
     "output_type": "stream",
     "text": [
      "Semáforo 1 da imagem 64_original já existe em ../data/processed/outputs/semafaros/standard/traffic_light_64_original.jpg. Não foi salvo novamente.\n",
      "Semáforo 2 da imagem 64_original já existe em ../data/processed/outputs/semafaros/standard/traffic_light_64_original(1).jpg. Não foi salvo novamente.\n",
      "Carro 1 da imagem 64_original já existe em ../data/processed/outputs/carros/standard/car_64_original.jpg. Não foi salvo novamente.\n",
      "Carro 2 da imagem 64_original já existe em ../data/processed/outputs/carros/standard/car_64_original(1).jpg. Não foi salvo novamente.\n",
      "Carro 3 da imagem 64_original já existe em ../data/processed/outputs/carros/standard/car_64_original(2).jpg. Não foi salvo novamente.\n",
      "Carro 4 da imagem 64_original já existe em ../data/processed/outputs/carros/standard/car_64_original(3).jpg. Não foi salvo novamente.\n",
      "Carro 5 da imagem 64_original já existe em ../data/processed/outputs/carros/standard/car_64_original(4).jpg. Não foi salvo novamente.\n",
      "Carro 6 da imagem 64_original já existe em ../data/processed/outputs/carros/standard/car_64_original(5).jpg. Não foi salvo novamente.\n",
      "Carro 7 da imagem 64_original já existe em ../data/processed/outputs/carros/standard/car_64_original(6).jpg. Não foi salvo novamente.\n",
      "Carro 8 da imagem 64_original já existe em ../data/processed/outputs/carros/standard/car_64_original(7).jpg. Não foi salvo novamente.\n",
      "Carro 9 da imagem 64_original já existe em ../data/processed/outputs/carros/standard/car_64_original(8).jpg. Não foi salvo novamente.\n",
      "Carro 10 da imagem 64_original já existe em ../data/processed/outputs/carros/standard/car_64_original(9).jpg. Não foi salvo novamente.\n",
      "Erro na imagem 64_original.jpg: Nenhum caminhão detectado na imagem.\n"
     ]
    },
    {
     "name": "stderr",
     "output_type": "stream",
     "text": [
      "image 1/1 c:\\Users\\Thiago\\OneDrive\\Documentos\\Facul\\6 Sexto semestre\\TCC\\TCC-CDIA\\notebooks\\..\\data\\frames\\images\\65_original.jpg: 384x640 6 persons, 2 bicycles, 5 cars, 504.2ms\n",
      "Speed: 2.0ms preprocess, 504.2ms inference, 2.0ms postprocess per image at shape (1, 3, 384, 640)\n",
      "\n"
     ]
    },
    {
     "name": "stdout",
     "output_type": "stream",
     "text": [
      "Erro na imagem 65_original.jpg: Nenhum semáforo detectado na imagem.\n"
     ]
    },
    {
     "name": "stderr",
     "output_type": "stream",
     "text": [
      "image 1/1 c:\\Users\\Thiago\\OneDrive\\Documentos\\Facul\\6 Sexto semestre\\TCC\\TCC-CDIA\\notebooks\\..\\data\\frames\\images\\66_original.jpg: 384x640 3 cars, 6 traffic lights, 521.5ms\n",
      "Speed: 2.0ms preprocess, 521.5ms inference, 2.0ms postprocess per image at shape (1, 3, 384, 640)\n",
      "\n"
     ]
    },
    {
     "name": "stdout",
     "output_type": "stream",
     "text": [
      "Semáforo 1 da imagem 66_original já existe em ../data/processed/outputs/semafaros/standard/traffic_light_66_original.jpg. Não foi salvo novamente.\n",
      "Semáforo 2 da imagem 66_original já existe em ../data/processed/outputs/semafaros/standard/traffic_light_66_original(1).jpg. Não foi salvo novamente.\n",
      "Semáforo 3 da imagem 66_original já existe em ../data/processed/outputs/semafaros/standard/traffic_light_66_original(2).jpg. Não foi salvo novamente.\n",
      "Semáforo 4 da imagem 66_original já existe em ../data/processed/outputs/semafaros/standard/traffic_light_66_original(3).jpg. Não foi salvo novamente.\n",
      "Semáforo 5 da imagem 66_original já existe em ../data/processed/outputs/semafaros/standard/traffic_light_66_original(4).jpg. Não foi salvo novamente.\n",
      "Semáforo 6 da imagem 66_original já existe em ../data/processed/outputs/semafaros/standard/traffic_light_66_original(5).jpg. Não foi salvo novamente.\n",
      "Carro 1 da imagem 66_original já existe em ../data/processed/outputs/carros/standard/car_66_original.jpg. Não foi salvo novamente.\n",
      "Carro 2 da imagem 66_original já existe em ../data/processed/outputs/carros/standard/car_66_original(1).jpg. Não foi salvo novamente.\n",
      "Carro 3 da imagem 66_original já existe em ../data/processed/outputs/carros/standard/car_66_original(2).jpg. Não foi salvo novamente.\n",
      "Erro na imagem 66_original.jpg: Nenhum caminhão detectado na imagem.\n"
     ]
    },
    {
     "name": "stderr",
     "output_type": "stream",
     "text": [
      "image 1/1 c:\\Users\\Thiago\\OneDrive\\Documentos\\Facul\\6 Sexto semestre\\TCC\\TCC-CDIA\\notebooks\\..\\data\\frames\\images\\67_original.jpg: 384x640 4 persons, 1 bicycle, 5 cars, 1 truck, 522.7ms\n",
      "Speed: 2.0ms preprocess, 522.7ms inference, 2.0ms postprocess per image at shape (1, 3, 384, 640)\n",
      "\n"
     ]
    },
    {
     "name": "stdout",
     "output_type": "stream",
     "text": [
      "Erro na imagem 67_original.jpg: Nenhum semáforo detectado na imagem.\n"
     ]
    },
    {
     "name": "stderr",
     "output_type": "stream",
     "text": [
      "image 1/1 c:\\Users\\Thiago\\OneDrive\\Documentos\\Facul\\6 Sexto semestre\\TCC\\TCC-CDIA\\notebooks\\..\\data\\frames\\images\\68_original.jpg: 384x640 1 person, 7 cars, 1 truck, 481.8ms\n",
      "Speed: 2.0ms preprocess, 481.8ms inference, 1.0ms postprocess per image at shape (1, 3, 384, 640)\n",
      "\n"
     ]
    },
    {
     "name": "stdout",
     "output_type": "stream",
     "text": [
      "Erro na imagem 68_original.jpg: Nenhum semáforo detectado na imagem.\n"
     ]
    },
    {
     "name": "stderr",
     "output_type": "stream",
     "text": [
      "image 1/1 c:\\Users\\Thiago\\OneDrive\\Documentos\\Facul\\6 Sexto semestre\\TCC\\TCC-CDIA\\notebooks\\..\\data\\frames\\images\\69_original.jpg: 384x640 1 person, 6 cars, 1 motorcycle, 1 truck, 444.3ms\n",
      "Speed: 2.0ms preprocess, 444.3ms inference, 2.0ms postprocess per image at shape (1, 3, 384, 640)\n",
      "\n"
     ]
    },
    {
     "name": "stdout",
     "output_type": "stream",
     "text": [
      "Erro na imagem 69_original.jpg: Nenhum semáforo detectado na imagem.\n"
     ]
    },
    {
     "name": "stderr",
     "output_type": "stream",
     "text": [
      "image 1/1 c:\\Users\\Thiago\\OneDrive\\Documentos\\Facul\\6 Sexto semestre\\TCC\\TCC-CDIA\\notebooks\\..\\data\\frames\\images\\6_original.jpg: 384x640 5 cars, 1 truck, 481.7ms\n",
      "Speed: 2.0ms preprocess, 481.7ms inference, 2.0ms postprocess per image at shape (1, 3, 384, 640)\n",
      "\n"
     ]
    },
    {
     "name": "stdout",
     "output_type": "stream",
     "text": [
      "Erro na imagem 6_original.jpg: Nenhum semáforo detectado na imagem.\n"
     ]
    },
    {
     "name": "stderr",
     "output_type": "stream",
     "text": [
      "image 1/1 c:\\Users\\Thiago\\OneDrive\\Documentos\\Facul\\6 Sexto semestre\\TCC\\TCC-CDIA\\notebooks\\..\\data\\frames\\images\\70_original.jpg: 384x640 9 cars, 507.6ms\n",
      "Speed: 2.0ms preprocess, 507.6ms inference, 2.0ms postprocess per image at shape (1, 3, 384, 640)\n",
      "\n"
     ]
    },
    {
     "name": "stdout",
     "output_type": "stream",
     "text": [
      "Erro na imagem 70_original.jpg: Nenhum semáforo detectado na imagem.\n"
     ]
    },
    {
     "name": "stderr",
     "output_type": "stream",
     "text": [
      "image 1/1 c:\\Users\\Thiago\\OneDrive\\Documentos\\Facul\\6 Sexto semestre\\TCC\\TCC-CDIA\\notebooks\\..\\data\\frames\\images\\71_original.jpg: 384x640 7 persons, 1 bicycle, 5 cars, 1 truck, 558.5ms\n",
      "Speed: 2.0ms preprocess, 558.5ms inference, 2.0ms postprocess per image at shape (1, 3, 384, 640)\n",
      "\n"
     ]
    },
    {
     "name": "stdout",
     "output_type": "stream",
     "text": [
      "Erro na imagem 71_original.jpg: Nenhum semáforo detectado na imagem.\n"
     ]
    },
    {
     "name": "stderr",
     "output_type": "stream",
     "text": [
      "image 1/1 c:\\Users\\Thiago\\OneDrive\\Documentos\\Facul\\6 Sexto semestre\\TCC\\TCC-CDIA\\notebooks\\..\\data\\frames\\images\\72_original.jpg: 384x640 9 cars, 2 buss, 1 truck, 2 traffic lights, 1 fire hydrant, 527.6ms\n",
      "Speed: 3.0ms preprocess, 527.6ms inference, 2.0ms postprocess per image at shape (1, 3, 384, 640)\n",
      "\n"
     ]
    },
    {
     "name": "stdout",
     "output_type": "stream",
     "text": [
      "Semáforo 1 da imagem 72_original já existe em ../data/processed/outputs/semafaros/standard/traffic_light_72_original.jpg. Não foi salvo novamente.\n",
      "Semáforo 2 da imagem 72_original já existe em ../data/processed/outputs/semafaros/standard/traffic_light_72_original(1).jpg. Não foi salvo novamente.\n",
      "Carro 1 da imagem 72_original já existe em ../data/processed/outputs/carros/standard/car_72_original.jpg. Não foi salvo novamente.\n",
      "Carro 2 da imagem 72_original já existe em ../data/processed/outputs/carros/standard/car_72_original(1).jpg. Não foi salvo novamente.\n",
      "Carro 3 da imagem 72_original já existe em ../data/processed/outputs/carros/standard/car_72_original(2).jpg. Não foi salvo novamente.\n",
      "Carro 4 da imagem 72_original já existe em ../data/processed/outputs/carros/standard/car_72_original(3).jpg. Não foi salvo novamente.\n",
      "Carro 5 da imagem 72_original já existe em ../data/processed/outputs/carros/standard/car_72_original(4).jpg. Não foi salvo novamente.\n",
      "Carro 6 da imagem 72_original já existe em ../data/processed/outputs/carros/standard/car_72_original(5).jpg. Não foi salvo novamente.\n",
      "Carro 7 da imagem 72_original já existe em ../data/processed/outputs/carros/standard/car_72_original(6).jpg. Não foi salvo novamente.\n",
      "Carro 8 da imagem 72_original já existe em ../data/processed/outputs/carros/standard/car_72_original(7).jpg. Não foi salvo novamente.\n",
      "Carro 9 da imagem 72_original já existe em ../data/processed/outputs/carros/standard/car_72_original(8).jpg. Não foi salvo novamente.\n",
      "Caminhão 1 da imagem 72_original já existe em ../data/processed/outputs/caminhao/standard/truck_72_original.jpg. Não foi salvo novamente.\n",
      "Erro na imagem 72_original.jpg: Nenhuma pessoa detectada na imagem.\n"
     ]
    },
    {
     "name": "stderr",
     "output_type": "stream",
     "text": [
      "image 1/1 c:\\Users\\Thiago\\OneDrive\\Documentos\\Facul\\6 Sexto semestre\\TCC\\TCC-CDIA\\notebooks\\..\\data\\frames\\images\\73_original.jpg: 384x640 3 persons, 1 bicycle, 9 cars, 1 bus, 1 train, 484.8ms\n",
      "Speed: 2.0ms preprocess, 484.8ms inference, 1.0ms postprocess per image at shape (1, 3, 384, 640)\n",
      "\n"
     ]
    },
    {
     "name": "stdout",
     "output_type": "stream",
     "text": [
      "Erro na imagem 73_original.jpg: Nenhum semáforo detectado na imagem.\n"
     ]
    },
    {
     "name": "stderr",
     "output_type": "stream",
     "text": [
      "image 1/1 c:\\Users\\Thiago\\OneDrive\\Documentos\\Facul\\6 Sexto semestre\\TCC\\TCC-CDIA\\notebooks\\..\\data\\frames\\images\\74_original.jpg: 384x640 2 persons, 8 cars, 456.8ms\n",
      "Speed: 2.0ms preprocess, 456.8ms inference, 1.0ms postprocess per image at shape (1, 3, 384, 640)\n",
      "\n"
     ]
    },
    {
     "name": "stdout",
     "output_type": "stream",
     "text": [
      "Erro na imagem 74_original.jpg: Nenhum semáforo detectado na imagem.\n"
     ]
    },
    {
     "name": "stderr",
     "output_type": "stream",
     "text": [
      "image 1/1 c:\\Users\\Thiago\\OneDrive\\Documentos\\Facul\\6 Sexto semestre\\TCC\\TCC-CDIA\\notebooks\\..\\data\\frames\\images\\75_original.jpg: 384x640 1 person, 9 cars, 1 motorcycle, 1 truck, 2 traffic lights, 448.8ms\n",
      "Speed: 3.0ms preprocess, 448.8ms inference, 2.0ms postprocess per image at shape (1, 3, 384, 640)\n",
      "\n"
     ]
    },
    {
     "name": "stdout",
     "output_type": "stream",
     "text": [
      "Semáforo 1 da imagem 75_original já existe em ../data/processed/outputs/semafaros/standard/traffic_light_75_original.jpg. Não foi salvo novamente.\n",
      "Semáforo 2 da imagem 75_original já existe em ../data/processed/outputs/semafaros/standard/traffic_light_75_original(1).jpg. Não foi salvo novamente.\n",
      "Carro 1 da imagem 75_original já existe em ../data/processed/outputs/carros/standard/car_75_original.jpg. Não foi salvo novamente.\n",
      "Carro 2 da imagem 75_original já existe em ../data/processed/outputs/carros/standard/car_75_original(1).jpg. Não foi salvo novamente.\n",
      "Carro 3 da imagem 75_original já existe em ../data/processed/outputs/carros/standard/car_75_original(2).jpg. Não foi salvo novamente.\n",
      "Carro 4 da imagem 75_original já existe em ../data/processed/outputs/carros/standard/car_75_original(3).jpg. Não foi salvo novamente.\n",
      "Carro 5 da imagem 75_original já existe em ../data/processed/outputs/carros/standard/car_75_original(4).jpg. Não foi salvo novamente.\n",
      "Carro 6 da imagem 75_original já existe em ../data/processed/outputs/carros/standard/car_75_original(5).jpg. Não foi salvo novamente.\n",
      "Carro 7 da imagem 75_original já existe em ../data/processed/outputs/carros/standard/car_75_original(6).jpg. Não foi salvo novamente.\n",
      "Carro 8 da imagem 75_original já existe em ../data/processed/outputs/carros/standard/car_75_original(7).jpg. Não foi salvo novamente.\n",
      "Carro 9 da imagem 75_original já existe em ../data/processed/outputs/carros/standard/car_75_original(8).jpg. Não foi salvo novamente.\n",
      "Caminhão 1 da imagem 75_original já existe em ../data/processed/outputs/caminhao/standard/truck_75_original.jpg. Não foi salvo novamente.\n",
      "Pessoa 1 da imagem 75_original já existe em ../data/processed/outputs/pessoas/standard/person_75_original.jpg. Não foi salva novamente.\n",
      "Moto 1 da imagem 75_original já existe em ../data/processed/outputs/motos/standard/motorcycle_75_original.jpg. Não foi salva novamente.\n"
     ]
    },
    {
     "name": "stderr",
     "output_type": "stream",
     "text": [
      "image 1/1 c:\\Users\\Thiago\\OneDrive\\Documentos\\Facul\\6 Sexto semestre\\TCC\\TCC-CDIA\\notebooks\\..\\data\\frames\\images\\76_original.jpg: 384x640 2 persons, 2 cars, 1 motorcycle, 1 truck, 493.9ms\n",
      "Speed: 5.0ms preprocess, 493.9ms inference, 2.0ms postprocess per image at shape (1, 3, 384, 640)\n",
      "\n"
     ]
    },
    {
     "name": "stdout",
     "output_type": "stream",
     "text": [
      "Erro na imagem 76_original.jpg: Nenhum semáforo detectado na imagem.\n"
     ]
    },
    {
     "name": "stderr",
     "output_type": "stream",
     "text": [
      "image 1/1 c:\\Users\\Thiago\\OneDrive\\Documentos\\Facul\\6 Sexto semestre\\TCC\\TCC-CDIA\\notebooks\\..\\data\\frames\\images\\77_original.jpg: 384x640 11 cars, 516.8ms\n",
      "Speed: 4.0ms preprocess, 516.8ms inference, 2.0ms postprocess per image at shape (1, 3, 384, 640)\n",
      "\n"
     ]
    },
    {
     "name": "stdout",
     "output_type": "stream",
     "text": [
      "Erro na imagem 77_original.jpg: Nenhum semáforo detectado na imagem.\n"
     ]
    },
    {
     "name": "stderr",
     "output_type": "stream",
     "text": [
      "image 1/1 c:\\Users\\Thiago\\OneDrive\\Documentos\\Facul\\6 Sexto semestre\\TCC\\TCC-CDIA\\notebooks\\..\\data\\frames\\images\\78_original.jpg: 384x640 12 persons, 2 cars, 2 motorcycles, 6 traffic lights, 1 dog, 1 backpack, 502.8ms\n",
      "Speed: 3.0ms preprocess, 502.8ms inference, 2.0ms postprocess per image at shape (1, 3, 384, 640)\n",
      "\n"
     ]
    },
    {
     "name": "stdout",
     "output_type": "stream",
     "text": [
      "Semáforo 1 da imagem 78_original já existe em ../data/processed/outputs/semafaros/standard/traffic_light_78_original.jpg. Não foi salvo novamente.\n",
      "Semáforo 2 da imagem 78_original já existe em ../data/processed/outputs/semafaros/standard/traffic_light_78_original(1).jpg. Não foi salvo novamente.\n",
      "Semáforo 3 da imagem 78_original já existe em ../data/processed/outputs/semafaros/standard/traffic_light_78_original(2).jpg. Não foi salvo novamente.\n",
      "Semáforo 4 da imagem 78_original já existe em ../data/processed/outputs/semafaros/standard/traffic_light_78_original(3).jpg. Não foi salvo novamente.\n",
      "Semáforo 5 da imagem 78_original já existe em ../data/processed/outputs/semafaros/standard/traffic_light_78_original(4).jpg. Não foi salvo novamente.\n",
      "Semáforo 6 da imagem 78_original já existe em ../data/processed/outputs/semafaros/standard/traffic_light_78_original(5).jpg. Não foi salvo novamente.\n",
      "Carro 1 da imagem 78_original já existe em ../data/processed/outputs/carros/standard/car_78_original.jpg. Não foi salvo novamente.\n",
      "Carro 2 da imagem 78_original já existe em ../data/processed/outputs/carros/standard/car_78_original(1).jpg. Não foi salvo novamente.\n",
      "Erro na imagem 78_original.jpg: Nenhum caminhão detectado na imagem.\n"
     ]
    },
    {
     "name": "stderr",
     "output_type": "stream",
     "text": [
      "image 1/1 c:\\Users\\Thiago\\OneDrive\\Documentos\\Facul\\6 Sexto semestre\\TCC\\TCC-CDIA\\notebooks\\..\\data\\frames\\images\\79_original.jpg: 384x640 3 persons, 1 car, 1 truck, 1 potted plant, 547.5ms\n",
      "Speed: 4.0ms preprocess, 547.5ms inference, 2.0ms postprocess per image at shape (1, 3, 384, 640)\n",
      "\n"
     ]
    },
    {
     "name": "stdout",
     "output_type": "stream",
     "text": [
      "Erro na imagem 79_original.jpg: Nenhum semáforo detectado na imagem.\n"
     ]
    },
    {
     "name": "stderr",
     "output_type": "stream",
     "text": [
      "image 1/1 c:\\Users\\Thiago\\OneDrive\\Documentos\\Facul\\6 Sexto semestre\\TCC\\TCC-CDIA\\notebooks\\..\\data\\frames\\images\\7_original.jpg: 384x640 5 cars, 1 truck, 529.6ms\n",
      "Speed: 2.0ms preprocess, 529.6ms inference, 2.0ms postprocess per image at shape (1, 3, 384, 640)\n",
      "\n"
     ]
    },
    {
     "name": "stdout",
     "output_type": "stream",
     "text": [
      "Erro na imagem 7_original.jpg: Nenhum semáforo detectado na imagem.\n"
     ]
    },
    {
     "name": "stderr",
     "output_type": "stream",
     "text": [
      "image 1/1 c:\\Users\\Thiago\\OneDrive\\Documentos\\Facul\\6 Sexto semestre\\TCC\\TCC-CDIA\\notebooks\\..\\data\\frames\\images\\80_original.jpg: 384x640 7 cars, 495.8ms\n",
      "Speed: 3.0ms preprocess, 495.8ms inference, 2.0ms postprocess per image at shape (1, 3, 384, 640)\n",
      "\n"
     ]
    },
    {
     "name": "stdout",
     "output_type": "stream",
     "text": [
      "Erro na imagem 80_original.jpg: Nenhum semáforo detectado na imagem.\n"
     ]
    },
    {
     "name": "stderr",
     "output_type": "stream",
     "text": [
      "image 1/1 c:\\Users\\Thiago\\OneDrive\\Documentos\\Facul\\6 Sexto semestre\\TCC\\TCC-CDIA\\notebooks\\..\\data\\frames\\images\\81_original.jpg: 384x640 5 cars, 1 stop sign, 511.6ms\n",
      "Speed: 4.0ms preprocess, 511.6ms inference, 2.0ms postprocess per image at shape (1, 3, 384, 640)\n",
      "\n"
     ]
    },
    {
     "name": "stdout",
     "output_type": "stream",
     "text": [
      "Erro na imagem 81_original.jpg: Nenhum semáforo detectado na imagem.\n"
     ]
    },
    {
     "name": "stderr",
     "output_type": "stream",
     "text": [
      "image 1/1 c:\\Users\\Thiago\\OneDrive\\Documentos\\Facul\\6 Sexto semestre\\TCC\\TCC-CDIA\\notebooks\\..\\data\\frames\\images\\82_original.jpg: 384x640 3 cars, 1 traffic light, 497.7ms\n",
      "Speed: 3.0ms preprocess, 497.7ms inference, 1.0ms postprocess per image at shape (1, 3, 384, 640)\n",
      "\n"
     ]
    },
    {
     "name": "stdout",
     "output_type": "stream",
     "text": [
      "Semáforo 1 da imagem 82_original já existe em ../data/processed/outputs/semafaros/standard/traffic_light_82_original.jpg. Não foi salvo novamente.\n",
      "Carro 1 da imagem 82_original já existe em ../data/processed/outputs/carros/standard/car_82_original.jpg. Não foi salvo novamente.\n",
      "Carro 2 da imagem 82_original já existe em ../data/processed/outputs/carros/standard/car_82_original(1).jpg. Não foi salvo novamente.\n",
      "Carro 3 da imagem 82_original já existe em ../data/processed/outputs/carros/standard/car_82_original(2).jpg. Não foi salvo novamente.\n",
      "Erro na imagem 82_original.jpg: Nenhum caminhão detectado na imagem.\n"
     ]
    },
    {
     "name": "stderr",
     "output_type": "stream",
     "text": [
      "image 1/1 c:\\Users\\Thiago\\OneDrive\\Documentos\\Facul\\6 Sexto semestre\\TCC\\TCC-CDIA\\notebooks\\..\\data\\frames\\images\\83_original.jpg: 384x640 1 person, 1 bicycle, 5 cars, 516.7ms\n",
      "Speed: 3.0ms preprocess, 516.7ms inference, 3.0ms postprocess per image at shape (1, 3, 384, 640)\n",
      "\n"
     ]
    },
    {
     "name": "stdout",
     "output_type": "stream",
     "text": [
      "Erro na imagem 83_original.jpg: Nenhum semáforo detectado na imagem.\n"
     ]
    },
    {
     "name": "stderr",
     "output_type": "stream",
     "text": [
      "image 1/1 c:\\Users\\Thiago\\OneDrive\\Documentos\\Facul\\6 Sexto semestre\\TCC\\TCC-CDIA\\notebooks\\..\\data\\frames\\images\\84_original.jpg: 384x640 9 cars, 1 truck, 521.6ms\n",
      "Speed: 3.0ms preprocess, 521.6ms inference, 2.0ms postprocess per image at shape (1, 3, 384, 640)\n",
      "\n"
     ]
    },
    {
     "name": "stdout",
     "output_type": "stream",
     "text": [
      "Erro na imagem 84_original.jpg: Nenhum semáforo detectado na imagem.\n"
     ]
    },
    {
     "name": "stderr",
     "output_type": "stream",
     "text": [
      "image 1/1 c:\\Users\\Thiago\\OneDrive\\Documentos\\Facul\\6 Sexto semestre\\TCC\\TCC-CDIA\\notebooks\\..\\data\\frames\\images\\85_original.jpg: 384x640 10 cars, 498.7ms\n",
      "Speed: 2.0ms preprocess, 498.7ms inference, 1.0ms postprocess per image at shape (1, 3, 384, 640)\n",
      "\n"
     ]
    },
    {
     "name": "stdout",
     "output_type": "stream",
     "text": [
      "Erro na imagem 85_original.jpg: Nenhum semáforo detectado na imagem.\n"
     ]
    },
    {
     "name": "stderr",
     "output_type": "stream",
     "text": [
      "image 1/1 c:\\Users\\Thiago\\OneDrive\\Documentos\\Facul\\6 Sexto semestre\\TCC\\TCC-CDIA\\notebooks\\..\\data\\frames\\images\\86_original.jpg: 384x640 9 persons, 4 cars, 3 traffic lights, 1 handbag, 501.7ms\n",
      "Speed: 3.0ms preprocess, 501.7ms inference, 4.0ms postprocess per image at shape (1, 3, 384, 640)\n",
      "\n"
     ]
    },
    {
     "name": "stdout",
     "output_type": "stream",
     "text": [
      "Semáforo 1 da imagem 86_original já existe em ../data/processed/outputs/semafaros/standard/traffic_light_86_original.jpg. Não foi salvo novamente.\n",
      "Semáforo 2 da imagem 86_original já existe em ../data/processed/outputs/semafaros/standard/traffic_light_86_original(1).jpg. Não foi salvo novamente.\n",
      "Semáforo 3 da imagem 86_original já existe em ../data/processed/outputs/semafaros/standard/traffic_light_86_original(2).jpg. Não foi salvo novamente.\n",
      "Carro 1 da imagem 86_original já existe em ../data/processed/outputs/carros/standard/car_86_original.jpg. Não foi salvo novamente.\n",
      "Carro 2 da imagem 86_original já existe em ../data/processed/outputs/carros/standard/car_86_original(1).jpg. Não foi salvo novamente.\n",
      "Carro 3 da imagem 86_original já existe em ../data/processed/outputs/carros/standard/car_86_original(2).jpg. Não foi salvo novamente.\n",
      "Carro 4 da imagem 86_original já existe em ../data/processed/outputs/carros/standard/car_86_original(3).jpg. Não foi salvo novamente.\n",
      "Erro na imagem 86_original.jpg: Nenhum caminhão detectado na imagem.\n"
     ]
    },
    {
     "name": "stderr",
     "output_type": "stream",
     "text": [
      "image 1/1 c:\\Users\\Thiago\\OneDrive\\Documentos\\Facul\\6 Sexto semestre\\TCC\\TCC-CDIA\\notebooks\\..\\data\\frames\\images\\87_original.jpg: 384x640 2 persons, 8 cars, 525.7ms\n",
      "Speed: 3.0ms preprocess, 525.7ms inference, 2.0ms postprocess per image at shape (1, 3, 384, 640)\n",
      "\n"
     ]
    },
    {
     "name": "stdout",
     "output_type": "stream",
     "text": [
      "Erro na imagem 87_original.jpg: Nenhum semáforo detectado na imagem.\n"
     ]
    },
    {
     "name": "stderr",
     "output_type": "stream",
     "text": [
      "image 1/1 c:\\Users\\Thiago\\OneDrive\\Documentos\\Facul\\6 Sexto semestre\\TCC\\TCC-CDIA\\notebooks\\..\\data\\frames\\images\\88_original.jpg: 384x640 3 cars, 1 fire hydrant, 492.1ms\n",
      "Speed: 2.0ms preprocess, 492.1ms inference, 3.0ms postprocess per image at shape (1, 3, 384, 640)\n",
      "\n"
     ]
    },
    {
     "name": "stdout",
     "output_type": "stream",
     "text": [
      "Erro na imagem 88_original.jpg: Nenhum semáforo detectado na imagem.\n"
     ]
    },
    {
     "name": "stderr",
     "output_type": "stream",
     "text": [
      "image 1/1 c:\\Users\\Thiago\\OneDrive\\Documentos\\Facul\\6 Sexto semestre\\TCC\\TCC-CDIA\\notebooks\\..\\data\\frames\\images\\89_original.jpg: 384x640 1 person, 2 cars, 1 boat, 1 fire hydrant, 511.8ms\n",
      "Speed: 2.0ms preprocess, 511.8ms inference, 2.0ms postprocess per image at shape (1, 3, 384, 640)\n",
      "\n"
     ]
    },
    {
     "name": "stdout",
     "output_type": "stream",
     "text": [
      "Erro na imagem 89_original.jpg: Nenhum semáforo detectado na imagem.\n"
     ]
    },
    {
     "name": "stderr",
     "output_type": "stream",
     "text": [
      "image 1/1 c:\\Users\\Thiago\\OneDrive\\Documentos\\Facul\\6 Sexto semestre\\TCC\\TCC-CDIA\\notebooks\\..\\data\\frames\\images\\8_original.jpg: 384x640 1 person, 9 cars, 1 truck, 1 traffic light, 502.0ms\n",
      "Speed: 1.0ms preprocess, 502.0ms inference, 2.0ms postprocess per image at shape (1, 3, 384, 640)\n",
      "\n"
     ]
    },
    {
     "name": "stdout",
     "output_type": "stream",
     "text": [
      "Semáforo 1 da imagem 8_original já existe em ../data/processed/outputs/semafaros/standard/traffic_light_8_original.jpg. Não foi salvo novamente.\n",
      "Carro 1 da imagem 8_original já existe em ../data/processed/outputs/carros/standard/car_8_original.jpg. Não foi salvo novamente.\n",
      "Carro 2 da imagem 8_original já existe em ../data/processed/outputs/carros/standard/car_8_original(1).jpg. Não foi salvo novamente.\n",
      "Carro 3 da imagem 8_original já existe em ../data/processed/outputs/carros/standard/car_8_original(2).jpg. Não foi salvo novamente.\n",
      "Carro 4 da imagem 8_original já existe em ../data/processed/outputs/carros/standard/car_8_original(3).jpg. Não foi salvo novamente.\n",
      "Carro 5 da imagem 8_original já existe em ../data/processed/outputs/carros/standard/car_8_original(4).jpg. Não foi salvo novamente.\n",
      "Carro 6 da imagem 8_original já existe em ../data/processed/outputs/carros/standard/car_8_original(5).jpg. Não foi salvo novamente.\n",
      "Carro 7 da imagem 8_original já existe em ../data/processed/outputs/carros/standard/car_8_original(6).jpg. Não foi salvo novamente.\n",
      "Carro 8 da imagem 8_original já existe em ../data/processed/outputs/carros/standard/car_8_original(7).jpg. Não foi salvo novamente.\n",
      "Carro 9 da imagem 8_original já existe em ../data/processed/outputs/carros/standard/car_8_original(8).jpg. Não foi salvo novamente.\n",
      "Caminhão 1 da imagem 8_original já existe em ../data/processed/outputs/caminhao/standard/truck_8_original.jpg. Não foi salvo novamente.\n",
      "Pessoa 1 da imagem 8_original já existe em ../data/processed/outputs/pessoas/standard/person_8_original.jpg. Não foi salva novamente.\n",
      "Erro na imagem 8_original.jpg: Nenhuma moto detectada na imagem.\n"
     ]
    },
    {
     "name": "stderr",
     "output_type": "stream",
     "text": [
      "image 1/1 c:\\Users\\Thiago\\OneDrive\\Documentos\\Facul\\6 Sexto semestre\\TCC\\TCC-CDIA\\notebooks\\..\\data\\frames\\images\\90_original.jpg: 384x640 6 persons, 6 cars, 4 traffic lights, 1 backpack, 454.8ms\n",
      "Speed: 3.0ms preprocess, 454.8ms inference, 1.0ms postprocess per image at shape (1, 3, 384, 640)\n",
      "\n"
     ]
    },
    {
     "name": "stdout",
     "output_type": "stream",
     "text": [
      "Semáforo 1 da imagem 90_original já existe em ../data/processed/outputs/semafaros/standard/traffic_light_90_original.jpg. Não foi salvo novamente.\n",
      "Semáforo 2 da imagem 90_original já existe em ../data/processed/outputs/semafaros/standard/traffic_light_90_original(1).jpg. Não foi salvo novamente.\n",
      "Semáforo 3 da imagem 90_original já existe em ../data/processed/outputs/semafaros/standard/traffic_light_90_original(2).jpg. Não foi salvo novamente.\n",
      "Semáforo 4 da imagem 90_original já existe em ../data/processed/outputs/semafaros/standard/traffic_light_90_original(3).jpg. Não foi salvo novamente.\n",
      "Carro 1 da imagem 90_original já existe em ../data/processed/outputs/carros/standard/car_90_original.jpg. Não foi salvo novamente.\n",
      "Carro 2 da imagem 90_original já existe em ../data/processed/outputs/carros/standard/car_90_original(1).jpg. Não foi salvo novamente.\n",
      "Carro 3 da imagem 90_original já existe em ../data/processed/outputs/carros/standard/car_90_original(2).jpg. Não foi salvo novamente.\n",
      "Carro 4 da imagem 90_original já existe em ../data/processed/outputs/carros/standard/car_90_original(3).jpg. Não foi salvo novamente.\n",
      "Carro 5 da imagem 90_original já existe em ../data/processed/outputs/carros/standard/car_90_original(4).jpg. Não foi salvo novamente.\n",
      "Carro 6 da imagem 90_original já existe em ../data/processed/outputs/carros/standard/car_90_original(5).jpg. Não foi salvo novamente.\n",
      "Erro na imagem 90_original.jpg: Nenhum caminhão detectado na imagem.\n"
     ]
    },
    {
     "name": "stderr",
     "output_type": "stream",
     "text": [
      "image 1/1 c:\\Users\\Thiago\\OneDrive\\Documentos\\Facul\\6 Sexto semestre\\TCC\\TCC-CDIA\\notebooks\\..\\data\\frames\\images\\91_original.jpg: 384x640 1 person, 4 cars, 442.8ms\n",
      "Speed: 3.0ms preprocess, 442.8ms inference, 2.0ms postprocess per image at shape (1, 3, 384, 640)\n",
      "\n"
     ]
    },
    {
     "name": "stdout",
     "output_type": "stream",
     "text": [
      "Erro na imagem 91_original.jpg: Nenhum semáforo detectado na imagem.\n"
     ]
    },
    {
     "name": "stderr",
     "output_type": "stream",
     "text": [
      "image 1/1 c:\\Users\\Thiago\\OneDrive\\Documentos\\Facul\\6 Sexto semestre\\TCC\\TCC-CDIA\\notebooks\\..\\data\\frames\\images\\92_original.jpg: 384x640 6 cars, 1 boat, 503.8ms\n",
      "Speed: 4.0ms preprocess, 503.8ms inference, 3.0ms postprocess per image at shape (1, 3, 384, 640)\n",
      "\n"
     ]
    },
    {
     "name": "stdout",
     "output_type": "stream",
     "text": [
      "Erro na imagem 92_original.jpg: Nenhum semáforo detectado na imagem.\n"
     ]
    },
    {
     "name": "stderr",
     "output_type": "stream",
     "text": [
      "image 1/1 c:\\Users\\Thiago\\OneDrive\\Documentos\\Facul\\6 Sexto semestre\\TCC\\TCC-CDIA\\notebooks\\..\\data\\frames\\images\\93_original.jpg: 384x640 5 cars, 524.6ms\n",
      "Speed: 3.0ms preprocess, 524.6ms inference, 2.0ms postprocess per image at shape (1, 3, 384, 640)\n",
      "\n"
     ]
    },
    {
     "name": "stdout",
     "output_type": "stream",
     "text": [
      "Erro na imagem 93_original.jpg: Nenhum semáforo detectado na imagem.\n"
     ]
    },
    {
     "name": "stderr",
     "output_type": "stream",
     "text": [
      "image 1/1 c:\\Users\\Thiago\\OneDrive\\Documentos\\Facul\\6 Sexto semestre\\TCC\\TCC-CDIA\\notebooks\\..\\data\\frames\\images\\94_original.jpg: 384x640 9 cars, 1 truck, 494.8ms\n",
      "Speed: 3.0ms preprocess, 494.8ms inference, 3.0ms postprocess per image at shape (1, 3, 384, 640)\n",
      "\n"
     ]
    },
    {
     "name": "stdout",
     "output_type": "stream",
     "text": [
      "Erro na imagem 94_original.jpg: Nenhum semáforo detectado na imagem.\n"
     ]
    },
    {
     "name": "stderr",
     "output_type": "stream",
     "text": [
      "image 1/1 c:\\Users\\Thiago\\OneDrive\\Documentos\\Facul\\6 Sexto semestre\\TCC\\TCC-CDIA\\notebooks\\..\\data\\frames\\images\\95_original.jpg: 384x640 3 persons, 5 cars, 2 motorcycles, 4 traffic lights, 464.8ms\n",
      "Speed: 2.0ms preprocess, 464.8ms inference, 2.0ms postprocess per image at shape (1, 3, 384, 640)\n",
      "\n"
     ]
    },
    {
     "name": "stdout",
     "output_type": "stream",
     "text": [
      "Semáforo 1 da imagem 95_original já existe em ../data/processed/outputs/semafaros/standard/traffic_light_95_original.jpg. Não foi salvo novamente.\n",
      "Semáforo 2 da imagem 95_original já existe em ../data/processed/outputs/semafaros/standard/traffic_light_95_original(1).jpg. Não foi salvo novamente.\n",
      "Semáforo 3 da imagem 95_original já existe em ../data/processed/outputs/semafaros/standard/traffic_light_95_original(2).jpg. Não foi salvo novamente.\n",
      "Semáforo 4 da imagem 95_original já existe em ../data/processed/outputs/semafaros/standard/traffic_light_95_original(3).jpg. Não foi salvo novamente.\n",
      "Carro 1 da imagem 95_original já existe em ../data/processed/outputs/carros/standard/car_95_original.jpg. Não foi salvo novamente.\n",
      "Carro 2 da imagem 95_original já existe em ../data/processed/outputs/carros/standard/car_95_original(1).jpg. Não foi salvo novamente.\n",
      "Carro 3 da imagem 95_original já existe em ../data/processed/outputs/carros/standard/car_95_original(2).jpg. Não foi salvo novamente.\n",
      "Carro 4 da imagem 95_original já existe em ../data/processed/outputs/carros/standard/car_95_original(3).jpg. Não foi salvo novamente.\n",
      "Carro 5 da imagem 95_original já existe em ../data/processed/outputs/carros/standard/car_95_original(4).jpg. Não foi salvo novamente.\n",
      "Erro na imagem 95_original.jpg: Nenhum caminhão detectado na imagem.\n"
     ]
    },
    {
     "name": "stderr",
     "output_type": "stream",
     "text": [
      "image 1/1 c:\\Users\\Thiago\\OneDrive\\Documentos\\Facul\\6 Sexto semestre\\TCC\\TCC-CDIA\\notebooks\\..\\data\\frames\\images\\96_original.jpg: 384x640 8 cars, 445.8ms\n",
      "Speed: 2.0ms preprocess, 445.8ms inference, 2.0ms postprocess per image at shape (1, 3, 384, 640)\n",
      "\n"
     ]
    },
    {
     "name": "stdout",
     "output_type": "stream",
     "text": [
      "Erro na imagem 96_original.jpg: Nenhum semáforo detectado na imagem.\n"
     ]
    },
    {
     "name": "stderr",
     "output_type": "stream",
     "text": [
      "image 1/1 c:\\Users\\Thiago\\OneDrive\\Documentos\\Facul\\6 Sexto semestre\\TCC\\TCC-CDIA\\notebooks\\..\\data\\frames\\images\\97_original.jpg: 384x640 2 persons, 6 cars, 2 trucks, 2 traffic lights, 486.7ms\n",
      "Speed: 3.0ms preprocess, 486.7ms inference, 2.0ms postprocess per image at shape (1, 3, 384, 640)\n",
      "\n"
     ]
    },
    {
     "name": "stdout",
     "output_type": "stream",
     "text": [
      "Semáforo 1 da imagem 97_original já existe em ../data/processed/outputs/semafaros/standard/traffic_light_97_original.jpg. Não foi salvo novamente.\n",
      "Semáforo 2 da imagem 97_original já existe em ../data/processed/outputs/semafaros/standard/traffic_light_97_original(1).jpg. Não foi salvo novamente.\n",
      "Carro 1 da imagem 97_original já existe em ../data/processed/outputs/carros/standard/car_97_original.jpg. Não foi salvo novamente.\n",
      "Carro 2 da imagem 97_original já existe em ../data/processed/outputs/carros/standard/car_97_original(1).jpg. Não foi salvo novamente.\n",
      "Carro 3 da imagem 97_original já existe em ../data/processed/outputs/carros/standard/car_97_original(2).jpg. Não foi salvo novamente.\n",
      "Carro 4 da imagem 97_original já existe em ../data/processed/outputs/carros/standard/car_97_original(3).jpg. Não foi salvo novamente.\n",
      "Carro 5 da imagem 97_original já existe em ../data/processed/outputs/carros/standard/car_97_original(4).jpg. Não foi salvo novamente.\n",
      "Carro 6 da imagem 97_original já existe em ../data/processed/outputs/carros/standard/car_97_original(5).jpg. Não foi salvo novamente.\n",
      "Caminhão 1 da imagem 97_original já existe em ../data/processed/outputs/caminhao/standard/truck_97_original.jpg. Não foi salvo novamente.\n",
      "Caminhão 2 da imagem 97_original já existe em ../data/processed/outputs/caminhao/standard/truck_97_original(1).jpg. Não foi salvo novamente.\n",
      "Pessoa 1 da imagem 97_original já existe em ../data/processed/outputs/pessoas/standard/person_97_original.jpg. Não foi salva novamente.\n",
      "Pessoa 2 da imagem 97_original já existe em ../data/processed/outputs/pessoas/standard/person_97_original(1).jpg. Não foi salva novamente.\n",
      "Erro na imagem 97_original.jpg: Nenhuma moto detectada na imagem.\n"
     ]
    },
    {
     "name": "stderr",
     "output_type": "stream",
     "text": [
      "image 1/1 c:\\Users\\Thiago\\OneDrive\\Documentos\\Facul\\6 Sexto semestre\\TCC\\TCC-CDIA\\notebooks\\..\\data\\frames\\images\\98_original.jpg: 384x640 2 persons, 6 cars, 2 traffic lights, 532.6ms\n",
      "Speed: 2.0ms preprocess, 532.6ms inference, 3.0ms postprocess per image at shape (1, 3, 384, 640)\n",
      "\n"
     ]
    },
    {
     "name": "stdout",
     "output_type": "stream",
     "text": [
      "Semáforo 1 da imagem 98_original já existe em ../data/processed/outputs/semafaros/standard/traffic_light_98_original.jpg. Não foi salvo novamente.\n",
      "Semáforo 2 da imagem 98_original já existe em ../data/processed/outputs/semafaros/standard/traffic_light_98_original(1).jpg. Não foi salvo novamente.\n",
      "Carro 1 da imagem 98_original já existe em ../data/processed/outputs/carros/standard/car_98_original.jpg. Não foi salvo novamente.\n",
      "Carro 2 da imagem 98_original já existe em ../data/processed/outputs/carros/standard/car_98_original(1).jpg. Não foi salvo novamente.\n",
      "Carro 3 da imagem 98_original já existe em ../data/processed/outputs/carros/standard/car_98_original(2).jpg. Não foi salvo novamente.\n",
      "Carro 4 da imagem 98_original já existe em ../data/processed/outputs/carros/standard/car_98_original(3).jpg. Não foi salvo novamente.\n",
      "Carro 5 da imagem 98_original já existe em ../data/processed/outputs/carros/standard/car_98_original(4).jpg. Não foi salvo novamente.\n",
      "Carro 6 da imagem 98_original já existe em ../data/processed/outputs/carros/standard/car_98_original(5).jpg. Não foi salvo novamente.\n",
      "Erro na imagem 98_original.jpg: Nenhum caminhão detectado na imagem.\n"
     ]
    },
    {
     "name": "stderr",
     "output_type": "stream",
     "text": [
      "image 1/1 c:\\Users\\Thiago\\OneDrive\\Documentos\\Facul\\6 Sexto semestre\\TCC\\TCC-CDIA\\notebooks\\..\\data\\frames\\images\\99_original.jpg: 384x640 4 cars, 3 traffic lights, 521.7ms\n",
      "Speed: 3.0ms preprocess, 521.7ms inference, 2.0ms postprocess per image at shape (1, 3, 384, 640)\n",
      "\n"
     ]
    },
    {
     "name": "stdout",
     "output_type": "stream",
     "text": [
      "Semáforo 1 da imagem 99_original já existe em ../data/processed/outputs/semafaros/standard/traffic_light_99_original.jpg. Não foi salvo novamente.\n",
      "Semáforo 2 da imagem 99_original já existe em ../data/processed/outputs/semafaros/standard/traffic_light_99_original(1).jpg. Não foi salvo novamente.\n",
      "Semáforo 3 da imagem 99_original já existe em ../data/processed/outputs/semafaros/standard/traffic_light_99_original(2).jpg. Não foi salvo novamente.\n",
      "Carro 1 da imagem 99_original já existe em ../data/processed/outputs/carros/standard/car_99_original.jpg. Não foi salvo novamente.\n",
      "Carro 2 da imagem 99_original já existe em ../data/processed/outputs/carros/standard/car_99_original(1).jpg. Não foi salvo novamente.\n",
      "Carro 3 da imagem 99_original já existe em ../data/processed/outputs/carros/standard/car_99_original(2).jpg. Não foi salvo novamente.\n",
      "Carro 4 da imagem 99_original já existe em ../data/processed/outputs/carros/standard/car_99_original(3).jpg. Não foi salvo novamente.\n",
      "Erro na imagem 99_original.jpg: Nenhum caminhão detectado na imagem.\n"
     ]
    },
    {
     "name": "stderr",
     "output_type": "stream",
     "text": [
      "image 1/1 c:\\Users\\Thiago\\OneDrive\\Documentos\\Facul\\6 Sexto semestre\\TCC\\TCC-CDIA\\notebooks\\..\\data\\frames\\images\\9_original.jpg: 384x640 9 cars, 1 bus, 1 truck, 487.8ms\n",
      "Speed: 2.0ms preprocess, 487.8ms inference, 2.0ms postprocess per image at shape (1, 3, 384, 640)\n"
     ]
    },
    {
     "name": "stdout",
     "output_type": "stream",
     "text": [
      "Erro na imagem 9_original.jpg: Nenhum semáforo detectado na imagem.\n"
     ]
    }
   ],
   "source": [
    "image_directory = '../data/frames/images'\n",
    "\n",
    "for filename in os.listdir(image_directory):\n",
    "    if filename.endswith(\"_original.jpg\"):\n",
    "        image_path = os.path.join(image_directory, filename)\n",
    "        pred = PredPipe(model, image_path, 0, 0)\n",
    "        \n",
    "        try:\n",
    "            # Tente predizer os semáforos na imagem\n",
    "            pred.predict_image(add_noise=False)\n",
    "        except ValueError as e:\n",
    "            # Se nenhum semáforo for encontrado, imprima o erro\n",
    "            print(f\"Erro na imagem {filename}: {str(e)}\")"
   ]
  },
  {
   "cell_type": "code",
   "execution_count": 10,
   "metadata": {},
   "outputs": [],
   "source": [
    "import os\n",
    "import cv2\n",
    "import numpy as np\n",
    "\n",
    "def add_noise_to_images(input_folder, output_folder, noise_pctg, suffix='noisy'):\n",
    "    # Certifique-se de que a pasta de saída exista\n",
    "    if not os.path.exists(output_folder):\n",
    "        os.makedirs(output_folder)\n",
    "\n",
    "    # Listar arquivos na pasta de entrada\n",
    "    image_files = os.listdir(input_folder)\n",
    "\n",
    "    for image_file in image_files:\n",
    "        if image_file.endswith('.jpg'):\n",
    "            # Carregar a imagem original\n",
    "            image_path = os.path.join(input_folder, image_file)\n",
    "            image = cv2.imread(image_path)\n",
    "            \n",
    "            # Aplicar ruído à imagem inteira\n",
    "            image = cv2.cvtColor(image, cv2.COLOR_BGR2RGB)\n",
    "            image = image.astype(np.float32) / 255.0\n",
    "            noise = np.random.uniform(low=0.0, high=1.0, size=image.shape)\n",
    "            noise_mask = np.random.binomial(1, noise_pctg, size=image.shape[:-1])\n",
    "            noise_mask = np.expand_dims(noise_mask, axis=-1)\n",
    "            noise_mask = np.repeat(noise_mask, 3, axis=-1)\n",
    "            image = noise_mask * noise + (1 - noise_mask) * image\n",
    "            image = (image * 255.0).astype(np.uint8)\n",
    "\n",
    "            # Salvar a imagem com o novo nome\n",
    "            noisy_image_file = f\"{os.path.splitext(image_file)[0]}_{suffix}.jpg\"\n",
    "            noisy_image_path = os.path.join(output_folder, noisy_image_file)\n",
    "            cv2.imwrite(noisy_image_path, cv2.cvtColor(image, cv2.COLOR_RGB2BGR))\n",
    "            print(f\"Imagem {image_file} com ruído aplicado e salva como {noisy_image_file}\")"
   ]
  },
  {
   "cell_type": "code",
   "execution_count": 11,
   "metadata": {},
   "outputs": [
    {
     "name": "stdout",
     "output_type": "stream",
     "text": [
      "Imagem car_100_original(1).jpg com ruído aplicado e salva como car_100_original(1)_noisy.jpg\n",
      "Imagem car_100_original(2).jpg com ruído aplicado e salva como car_100_original(2)_noisy.jpg\n",
      "Imagem car_100_original(3).jpg com ruído aplicado e salva como car_100_original(3)_noisy.jpg\n",
      "Imagem car_100_original(4).jpg com ruído aplicado e salva como car_100_original(4)_noisy.jpg\n",
      "Imagem car_100_original(5).jpg com ruído aplicado e salva como car_100_original(5)_noisy.jpg\n",
      "Imagem car_100_original.jpg com ruído aplicado e salva como car_100_original_noisy.jpg\n",
      "Imagem car_101_original(1).jpg com ruído aplicado e salva como car_101_original(1)_noisy.jpg\n",
      "Imagem car_101_original(2).jpg com ruído aplicado e salva como car_101_original(2)_noisy.jpg\n",
      "Imagem car_101_original(3).jpg com ruído aplicado e salva como car_101_original(3)_noisy.jpg\n",
      "Imagem car_101_original.jpg com ruído aplicado e salva como car_101_original_noisy.jpg\n",
      "Imagem car_102_original(1).jpg com ruído aplicado e salva como car_102_original(1)_noisy.jpg\n",
      "Imagem car_102_original(2).jpg com ruído aplicado e salva como car_102_original(2)_noisy.jpg\n",
      "Imagem car_102_original(3).jpg com ruído aplicado e salva como car_102_original(3)_noisy.jpg\n",
      "Imagem car_102_original(4).jpg com ruído aplicado e salva como car_102_original(4)_noisy.jpg\n",
      "Imagem car_102_original(5).jpg com ruído aplicado e salva como car_102_original(5)_noisy.jpg\n",
      "Imagem car_102_original.jpg com ruído aplicado e salva como car_102_original_noisy.jpg\n",
      "Imagem car_103_original(1).jpg com ruído aplicado e salva como car_103_original(1)_noisy.jpg\n",
      "Imagem car_103_original(2).jpg com ruído aplicado e salva como car_103_original(2)_noisy.jpg\n",
      "Imagem car_103_original(3).jpg com ruído aplicado e salva como car_103_original(3)_noisy.jpg\n",
      "Imagem car_103_original(4).jpg com ruído aplicado e salva como car_103_original(4)_noisy.jpg\n",
      "Imagem car_103_original(5).jpg com ruído aplicado e salva como car_103_original(5)_noisy.jpg\n",
      "Imagem car_103_original(6).jpg com ruído aplicado e salva como car_103_original(6)_noisy.jpg\n",
      "Imagem car_103_original(7).jpg com ruído aplicado e salva como car_103_original(7)_noisy.jpg\n",
      "Imagem car_103_original.jpg com ruído aplicado e salva como car_103_original_noisy.jpg\n",
      "Imagem car_104_original(1).jpg com ruído aplicado e salva como car_104_original(1)_noisy.jpg\n",
      "Imagem car_104_original(2).jpg com ruído aplicado e salva como car_104_original(2)_noisy.jpg\n",
      "Imagem car_104_original(3).jpg com ruído aplicado e salva como car_104_original(3)_noisy.jpg\n",
      "Imagem car_104_original(4).jpg com ruído aplicado e salva como car_104_original(4)_noisy.jpg\n",
      "Imagem car_104_original(5).jpg com ruído aplicado e salva como car_104_original(5)_noisy.jpg\n",
      "Imagem car_104_original.jpg com ruído aplicado e salva como car_104_original_noisy.jpg\n",
      "Imagem car_105_original(1).jpg com ruído aplicado e salva como car_105_original(1)_noisy.jpg\n",
      "Imagem car_105_original(2).jpg com ruído aplicado e salva como car_105_original(2)_noisy.jpg\n",
      "Imagem car_105_original(3).jpg com ruído aplicado e salva como car_105_original(3)_noisy.jpg\n",
      "Imagem car_105_original.jpg com ruído aplicado e salva como car_105_original_noisy.jpg\n",
      "Imagem car_106_original(1).jpg com ruído aplicado e salva como car_106_original(1)_noisy.jpg\n",
      "Imagem car_106_original(2).jpg com ruído aplicado e salva como car_106_original(2)_noisy.jpg\n",
      "Imagem car_106_original(3).jpg com ruído aplicado e salva como car_106_original(3)_noisy.jpg\n",
      "Imagem car_106_original(4).jpg com ruído aplicado e salva como car_106_original(4)_noisy.jpg\n",
      "Imagem car_106_original.jpg com ruído aplicado e salva como car_106_original_noisy.jpg\n",
      "Imagem car_108_original(1).jpg com ruído aplicado e salva como car_108_original(1)_noisy.jpg\n",
      "Imagem car_108_original(2).jpg com ruído aplicado e salva como car_108_original(2)_noisy.jpg\n",
      "Imagem car_108_original(3).jpg com ruído aplicado e salva como car_108_original(3)_noisy.jpg\n",
      "Imagem car_108_original(4).jpg com ruído aplicado e salva como car_108_original(4)_noisy.jpg\n",
      "Imagem car_108_original(5).jpg com ruído aplicado e salva como car_108_original(5)_noisy.jpg\n",
      "Imagem car_108_original(6).jpg com ruído aplicado e salva como car_108_original(6)_noisy.jpg\n",
      "Imagem car_108_original.jpg com ruído aplicado e salva como car_108_original_noisy.jpg\n",
      "Imagem car_109_original(1).jpg com ruído aplicado e salva como car_109_original(1)_noisy.jpg\n",
      "Imagem car_109_original(2).jpg com ruído aplicado e salva como car_109_original(2)_noisy.jpg\n",
      "Imagem car_109_original(3).jpg com ruído aplicado e salva como car_109_original(3)_noisy.jpg\n",
      "Imagem car_109_original(4).jpg com ruído aplicado e salva como car_109_original(4)_noisy.jpg\n",
      "Imagem car_109_original.jpg com ruído aplicado e salva como car_109_original_noisy.jpg\n",
      "Imagem car_110_original(1).jpg com ruído aplicado e salva como car_110_original(1)_noisy.jpg\n",
      "Imagem car_110_original(2).jpg com ruído aplicado e salva como car_110_original(2)_noisy.jpg\n",
      "Imagem car_110_original(3).jpg com ruído aplicado e salva como car_110_original(3)_noisy.jpg\n",
      "Imagem car_110_original(4).jpg com ruído aplicado e salva como car_110_original(4)_noisy.jpg\n",
      "Imagem car_110_original(5).jpg com ruído aplicado e salva como car_110_original(5)_noisy.jpg\n",
      "Imagem car_110_original.jpg com ruído aplicado e salva como car_110_original_noisy.jpg\n",
      "Imagem car_112_original(1).jpg com ruído aplicado e salva como car_112_original(1)_noisy.jpg\n",
      "Imagem car_112_original(2).jpg com ruído aplicado e salva como car_112_original(2)_noisy.jpg\n",
      "Imagem car_112_original(3).jpg com ruído aplicado e salva como car_112_original(3)_noisy.jpg\n",
      "Imagem car_112_original(4).jpg com ruído aplicado e salva como car_112_original(4)_noisy.jpg\n",
      "Imagem car_112_original.jpg com ruído aplicado e salva como car_112_original_noisy.jpg\n",
      "Imagem car_117_original(1).jpg com ruído aplicado e salva como car_117_original(1)_noisy.jpg\n",
      "Imagem car_117_original(2).jpg com ruído aplicado e salva como car_117_original(2)_noisy.jpg\n",
      "Imagem car_117_original(3).jpg com ruído aplicado e salva como car_117_original(3)_noisy.jpg\n",
      "Imagem car_117_original(4).jpg com ruído aplicado e salva como car_117_original(4)_noisy.jpg\n",
      "Imagem car_117_original(5).jpg com ruído aplicado e salva como car_117_original(5)_noisy.jpg\n",
      "Imagem car_117_original(6).jpg com ruído aplicado e salva como car_117_original(6)_noisy.jpg\n",
      "Imagem car_117_original(7).jpg com ruído aplicado e salva como car_117_original(7)_noisy.jpg\n",
      "Imagem car_117_original(8).jpg com ruído aplicado e salva como car_117_original(8)_noisy.jpg\n",
      "Imagem car_117_original.jpg com ruído aplicado e salva como car_117_original_noisy.jpg\n",
      "Imagem car_118_original(1).jpg com ruído aplicado e salva como car_118_original(1)_noisy.jpg\n",
      "Imagem car_118_original(2).jpg com ruído aplicado e salva como car_118_original(2)_noisy.jpg\n",
      "Imagem car_118_original(3).jpg com ruído aplicado e salva como car_118_original(3)_noisy.jpg\n",
      "Imagem car_118_original(4).jpg com ruído aplicado e salva como car_118_original(4)_noisy.jpg\n",
      "Imagem car_118_original(5).jpg com ruído aplicado e salva como car_118_original(5)_noisy.jpg\n",
      "Imagem car_118_original(6).jpg com ruído aplicado e salva como car_118_original(6)_noisy.jpg\n",
      "Imagem car_118_original.jpg com ruído aplicado e salva como car_118_original_noisy.jpg\n",
      "Imagem car_119_original(1).jpg com ruído aplicado e salva como car_119_original(1)_noisy.jpg\n",
      "Imagem car_119_original(10).jpg com ruído aplicado e salva como car_119_original(10)_noisy.jpg\n",
      "Imagem car_119_original(2).jpg com ruído aplicado e salva como car_119_original(2)_noisy.jpg\n",
      "Imagem car_119_original(3).jpg com ruído aplicado e salva como car_119_original(3)_noisy.jpg\n",
      "Imagem car_119_original(4).jpg com ruído aplicado e salva como car_119_original(4)_noisy.jpg\n",
      "Imagem car_119_original(5).jpg com ruído aplicado e salva como car_119_original(5)_noisy.jpg\n",
      "Imagem car_119_original(6).jpg com ruído aplicado e salva como car_119_original(6)_noisy.jpg\n",
      "Imagem car_119_original(7).jpg com ruído aplicado e salva como car_119_original(7)_noisy.jpg\n",
      "Imagem car_119_original(8).jpg com ruído aplicado e salva como car_119_original(8)_noisy.jpg\n",
      "Imagem car_119_original(9).jpg com ruído aplicado e salva como car_119_original(9)_noisy.jpg\n",
      "Imagem car_119_original.jpg com ruído aplicado e salva como car_119_original_noisy.jpg\n",
      "Imagem car_120_original(1).jpg com ruído aplicado e salva como car_120_original(1)_noisy.jpg\n",
      "Imagem car_120_original(2).jpg com ruído aplicado e salva como car_120_original(2)_noisy.jpg\n",
      "Imagem car_120_original(3).jpg com ruído aplicado e salva como car_120_original(3)_noisy.jpg\n",
      "Imagem car_120_original(4).jpg com ruído aplicado e salva como car_120_original(4)_noisy.jpg\n",
      "Imagem car_120_original(5).jpg com ruído aplicado e salva como car_120_original(5)_noisy.jpg\n",
      "Imagem car_120_original(6).jpg com ruído aplicado e salva como car_120_original(6)_noisy.jpg\n",
      "Imagem car_120_original.jpg com ruído aplicado e salva como car_120_original_noisy.jpg\n",
      "Imagem car_123_original(1).jpg com ruído aplicado e salva como car_123_original(1)_noisy.jpg\n",
      "Imagem car_123_original(2).jpg com ruído aplicado e salva como car_123_original(2)_noisy.jpg\n",
      "Imagem car_123_original.jpg com ruído aplicado e salva como car_123_original_noisy.jpg\n",
      "Imagem car_125_original(1).jpg com ruído aplicado e salva como car_125_original(1)_noisy.jpg\n",
      "Imagem car_125_original(2).jpg com ruído aplicado e salva como car_125_original(2)_noisy.jpg\n",
      "Imagem car_125_original(3).jpg com ruído aplicado e salva como car_125_original(3)_noisy.jpg\n",
      "Imagem car_125_original(4).jpg com ruído aplicado e salva como car_125_original(4)_noisy.jpg\n",
      "Imagem car_125_original(5).jpg com ruído aplicado e salva como car_125_original(5)_noisy.jpg\n",
      "Imagem car_125_original(6).jpg com ruído aplicado e salva como car_125_original(6)_noisy.jpg\n",
      "Imagem car_125_original(7).jpg com ruído aplicado e salva como car_125_original(7)_noisy.jpg\n",
      "Imagem car_125_original.jpg com ruído aplicado e salva como car_125_original_noisy.jpg\n",
      "Imagem car_126_original(1).jpg com ruído aplicado e salva como car_126_original(1)_noisy.jpg\n",
      "Imagem car_126_original(2).jpg com ruído aplicado e salva como car_126_original(2)_noisy.jpg\n",
      "Imagem car_126_original(3).jpg com ruído aplicado e salva como car_126_original(3)_noisy.jpg\n",
      "Imagem car_126_original(4).jpg com ruído aplicado e salva como car_126_original(4)_noisy.jpg\n",
      "Imagem car_126_original(5).jpg com ruído aplicado e salva como car_126_original(5)_noisy.jpg\n",
      "Imagem car_126_original.jpg com ruído aplicado e salva como car_126_original_noisy.jpg\n",
      "Imagem car_127_original(1).jpg com ruído aplicado e salva como car_127_original(1)_noisy.jpg\n",
      "Imagem car_127_original(2).jpg com ruído aplicado e salva como car_127_original(2)_noisy.jpg\n",
      "Imagem car_127_original(3).jpg com ruído aplicado e salva como car_127_original(3)_noisy.jpg\n",
      "Imagem car_127_original(4).jpg com ruído aplicado e salva como car_127_original(4)_noisy.jpg\n",
      "Imagem car_127_original(5).jpg com ruído aplicado e salva como car_127_original(5)_noisy.jpg\n",
      "Imagem car_127_original(6).jpg com ruído aplicado e salva como car_127_original(6)_noisy.jpg\n",
      "Imagem car_127_original(7).jpg com ruído aplicado e salva como car_127_original(7)_noisy.jpg\n",
      "Imagem car_127_original(8).jpg com ruído aplicado e salva como car_127_original(8)_noisy.jpg\n",
      "Imagem car_127_original.jpg com ruído aplicado e salva como car_127_original_noisy.jpg\n",
      "Imagem car_129_original(1).jpg com ruído aplicado e salva como car_129_original(1)_noisy.jpg\n",
      "Imagem car_129_original.jpg com ruído aplicado e salva como car_129_original_noisy.jpg\n",
      "Imagem car_12_original(1).jpg com ruído aplicado e salva como car_12_original(1)_noisy.jpg\n",
      "Imagem car_12_original(2).jpg com ruído aplicado e salva como car_12_original(2)_noisy.jpg\n",
      "Imagem car_12_original(3).jpg com ruído aplicado e salva como car_12_original(3)_noisy.jpg\n",
      "Imagem car_12_original(4).jpg com ruído aplicado e salva como car_12_original(4)_noisy.jpg\n",
      "Imagem car_12_original(5).jpg com ruído aplicado e salva como car_12_original(5)_noisy.jpg\n",
      "Imagem car_12_original.jpg com ruído aplicado e salva como car_12_original_noisy.jpg\n",
      "Imagem car_131_original(1).jpg com ruído aplicado e salva como car_131_original(1)_noisy.jpg\n",
      "Imagem car_131_original(2).jpg com ruído aplicado e salva como car_131_original(2)_noisy.jpg\n",
      "Imagem car_131_original(3).jpg com ruído aplicado e salva como car_131_original(3)_noisy.jpg\n",
      "Imagem car_131_original(4).jpg com ruído aplicado e salva como car_131_original(4)_noisy.jpg\n",
      "Imagem car_131_original(5).jpg com ruído aplicado e salva como car_131_original(5)_noisy.jpg\n",
      "Imagem car_131_original(6).jpg com ruído aplicado e salva como car_131_original(6)_noisy.jpg\n",
      "Imagem car_131_original(7).jpg com ruído aplicado e salva como car_131_original(7)_noisy.jpg\n",
      "Imagem car_131_original.jpg com ruído aplicado e salva como car_131_original_noisy.jpg\n",
      "Imagem car_132_original(1).jpg com ruído aplicado e salva como car_132_original(1)_noisy.jpg\n",
      "Imagem car_132_original(2).jpg com ruído aplicado e salva como car_132_original(2)_noisy.jpg\n",
      "Imagem car_132_original(3).jpg com ruído aplicado e salva como car_132_original(3)_noisy.jpg\n",
      "Imagem car_132_original(4).jpg com ruído aplicado e salva como car_132_original(4)_noisy.jpg\n",
      "Imagem car_132_original(5).jpg com ruído aplicado e salva como car_132_original(5)_noisy.jpg\n",
      "Imagem car_132_original(6).jpg com ruído aplicado e salva como car_132_original(6)_noisy.jpg\n",
      "Imagem car_132_original.jpg com ruído aplicado e salva como car_132_original_noisy.jpg\n",
      "Imagem car_138_original(1).jpg com ruído aplicado e salva como car_138_original(1)_noisy.jpg\n",
      "Imagem car_138_original(2).jpg com ruído aplicado e salva como car_138_original(2)_noisy.jpg\n",
      "Imagem car_138_original(3).jpg com ruído aplicado e salva como car_138_original(3)_noisy.jpg\n",
      "Imagem car_138_original.jpg com ruído aplicado e salva como car_138_original_noisy.jpg\n",
      "Imagem car_139_original(1).jpg com ruído aplicado e salva como car_139_original(1)_noisy.jpg\n",
      "Imagem car_139_original(2).jpg com ruído aplicado e salva como car_139_original(2)_noisy.jpg\n",
      "Imagem car_139_original(3).jpg com ruído aplicado e salva como car_139_original(3)_noisy.jpg\n",
      "Imagem car_139_original(4).jpg com ruído aplicado e salva como car_139_original(4)_noisy.jpg\n",
      "Imagem car_139_original(5).jpg com ruído aplicado e salva como car_139_original(5)_noisy.jpg\n",
      "Imagem car_139_original(6).jpg com ruído aplicado e salva como car_139_original(6)_noisy.jpg\n",
      "Imagem car_139_original.jpg com ruído aplicado e salva como car_139_original_noisy.jpg\n",
      "Imagem car_13_original(1).jpg com ruído aplicado e salva como car_13_original(1)_noisy.jpg\n",
      "Imagem car_13_original(10).jpg com ruído aplicado e salva como car_13_original(10)_noisy.jpg\n",
      "Imagem car_13_original(2).jpg com ruído aplicado e salva como car_13_original(2)_noisy.jpg\n",
      "Imagem car_13_original(3).jpg com ruído aplicado e salva como car_13_original(3)_noisy.jpg\n",
      "Imagem car_13_original(4).jpg com ruído aplicado e salva como car_13_original(4)_noisy.jpg\n",
      "Imagem car_13_original(5).jpg com ruído aplicado e salva como car_13_original(5)_noisy.jpg\n",
      "Imagem car_13_original(6).jpg com ruído aplicado e salva como car_13_original(6)_noisy.jpg\n",
      "Imagem car_13_original(7).jpg com ruído aplicado e salva como car_13_original(7)_noisy.jpg\n",
      "Imagem car_13_original(8).jpg com ruído aplicado e salva como car_13_original(8)_noisy.jpg\n",
      "Imagem car_13_original(9).jpg com ruído aplicado e salva como car_13_original(9)_noisy.jpg\n",
      "Imagem car_13_original.jpg com ruído aplicado e salva como car_13_original_noisy.jpg\n",
      "Imagem car_140_original(1).jpg com ruído aplicado e salva como car_140_original(1)_noisy.jpg\n",
      "Imagem car_140_original(2).jpg com ruído aplicado e salva como car_140_original(2)_noisy.jpg\n",
      "Imagem car_140_original(3).jpg com ruído aplicado e salva como car_140_original(3)_noisy.jpg\n",
      "Imagem car_140_original(4).jpg com ruído aplicado e salva como car_140_original(4)_noisy.jpg\n",
      "Imagem car_140_original(5).jpg com ruído aplicado e salva como car_140_original(5)_noisy.jpg\n",
      "Imagem car_140_original.jpg com ruído aplicado e salva como car_140_original_noisy.jpg\n",
      "Imagem car_142_original(1).jpg com ruído aplicado e salva como car_142_original(1)_noisy.jpg\n",
      "Imagem car_142_original(2).jpg com ruído aplicado e salva como car_142_original(2)_noisy.jpg\n",
      "Imagem car_142_original.jpg com ruído aplicado e salva como car_142_original_noisy.jpg\n",
      "Imagem car_143_original(1).jpg com ruído aplicado e salva como car_143_original(1)_noisy.jpg\n",
      "Imagem car_143_original(2).jpg com ruído aplicado e salva como car_143_original(2)_noisy.jpg\n",
      "Imagem car_143_original(3).jpg com ruído aplicado e salva como car_143_original(3)_noisy.jpg\n",
      "Imagem car_143_original(4).jpg com ruído aplicado e salva como car_143_original(4)_noisy.jpg\n",
      "Imagem car_143_original(5).jpg com ruído aplicado e salva como car_143_original(5)_noisy.jpg\n",
      "Imagem car_143_original(6).jpg com ruído aplicado e salva como car_143_original(6)_noisy.jpg\n",
      "Imagem car_143_original(7).jpg com ruído aplicado e salva como car_143_original(7)_noisy.jpg\n",
      "Imagem car_143_original(8).jpg com ruído aplicado e salva como car_143_original(8)_noisy.jpg\n",
      "Imagem car_143_original.jpg com ruído aplicado e salva como car_143_original_noisy.jpg\n",
      "Imagem car_144_original(1).jpg com ruído aplicado e salva como car_144_original(1)_noisy.jpg\n",
      "Imagem car_144_original(2).jpg com ruído aplicado e salva como car_144_original(2)_noisy.jpg\n",
      "Imagem car_144_original(3).jpg com ruído aplicado e salva como car_144_original(3)_noisy.jpg\n",
      "Imagem car_144_original(4).jpg com ruído aplicado e salva como car_144_original(4)_noisy.jpg\n",
      "Imagem car_144_original(5).jpg com ruído aplicado e salva como car_144_original(5)_noisy.jpg\n",
      "Imagem car_144_original(6).jpg com ruído aplicado e salva como car_144_original(6)_noisy.jpg\n",
      "Imagem car_144_original(7).jpg com ruído aplicado e salva como car_144_original(7)_noisy.jpg\n",
      "Imagem car_144_original.jpg com ruído aplicado e salva como car_144_original_noisy.jpg\n",
      "Imagem car_146_original(1).jpg com ruído aplicado e salva como car_146_original(1)_noisy.jpg\n",
      "Imagem car_146_original(2).jpg com ruído aplicado e salva como car_146_original(2)_noisy.jpg\n",
      "Imagem car_146_original(3).jpg com ruído aplicado e salva como car_146_original(3)_noisy.jpg\n",
      "Imagem car_146_original(4).jpg com ruído aplicado e salva como car_146_original(4)_noisy.jpg\n",
      "Imagem car_146_original(5).jpg com ruído aplicado e salva como car_146_original(5)_noisy.jpg\n",
      "Imagem car_146_original(6).jpg com ruído aplicado e salva como car_146_original(6)_noisy.jpg\n",
      "Imagem car_146_original.jpg com ruído aplicado e salva como car_146_original_noisy.jpg\n",
      "Imagem car_148_original(1).jpg com ruído aplicado e salva como car_148_original(1)_noisy.jpg\n",
      "Imagem car_148_original(2).jpg com ruído aplicado e salva como car_148_original(2)_noisy.jpg\n",
      "Imagem car_148_original(3).jpg com ruído aplicado e salva como car_148_original(3)_noisy.jpg\n",
      "Imagem car_148_original(4).jpg com ruído aplicado e salva como car_148_original(4)_noisy.jpg\n",
      "Imagem car_148_original(5).jpg com ruído aplicado e salva como car_148_original(5)_noisy.jpg\n",
      "Imagem car_148_original(6).jpg com ruído aplicado e salva como car_148_original(6)_noisy.jpg\n",
      "Imagem car_148_original.jpg com ruído aplicado e salva como car_148_original_noisy.jpg\n",
      "Imagem car_149_original(1).jpg com ruído aplicado e salva como car_149_original(1)_noisy.jpg\n",
      "Imagem car_149_original(2).jpg com ruído aplicado e salva como car_149_original(2)_noisy.jpg\n",
      "Imagem car_149_original(3).jpg com ruído aplicado e salva como car_149_original(3)_noisy.jpg\n",
      "Imagem car_149_original(4).jpg com ruído aplicado e salva como car_149_original(4)_noisy.jpg\n",
      "Imagem car_149_original(5).jpg com ruído aplicado e salva como car_149_original(5)_noisy.jpg\n",
      "Imagem car_149_original(6).jpg com ruído aplicado e salva como car_149_original(6)_noisy.jpg\n",
      "Imagem car_149_original(7).jpg com ruído aplicado e salva como car_149_original(7)_noisy.jpg\n",
      "Imagem car_149_original(8).jpg com ruído aplicado e salva como car_149_original(8)_noisy.jpg\n",
      "Imagem car_149_original(9).jpg com ruído aplicado e salva como car_149_original(9)_noisy.jpg\n",
      "Imagem car_149_original.jpg com ruído aplicado e salva como car_149_original_noisy.jpg\n",
      "Imagem car_14_original(1).jpg com ruído aplicado e salva como car_14_original(1)_noisy.jpg\n",
      "Imagem car_14_original(2).jpg com ruído aplicado e salva como car_14_original(2)_noisy.jpg\n",
      "Imagem car_14_original(3).jpg com ruído aplicado e salva como car_14_original(3)_noisy.jpg\n",
      "Imagem car_14_original(4).jpg com ruído aplicado e salva como car_14_original(4)_noisy.jpg\n",
      "Imagem car_14_original(5).jpg com ruído aplicado e salva como car_14_original(5)_noisy.jpg\n",
      "Imagem car_14_original(6).jpg com ruído aplicado e salva como car_14_original(6)_noisy.jpg\n",
      "Imagem car_14_original(7).jpg com ruído aplicado e salva como car_14_original(7)_noisy.jpg\n",
      "Imagem car_14_original.jpg com ruído aplicado e salva como car_14_original_noisy.jpg\n",
      "Imagem car_150_original(1).jpg com ruído aplicado e salva como car_150_original(1)_noisy.jpg\n",
      "Imagem car_150_original(2).jpg com ruído aplicado e salva como car_150_original(2)_noisy.jpg\n",
      "Imagem car_150_original(3).jpg com ruído aplicado e salva como car_150_original(3)_noisy.jpg\n",
      "Imagem car_150_original(4).jpg com ruído aplicado e salva como car_150_original(4)_noisy.jpg\n",
      "Imagem car_150_original(5).jpg com ruído aplicado e salva como car_150_original(5)_noisy.jpg\n",
      "Imagem car_150_original(6).jpg com ruído aplicado e salva como car_150_original(6)_noisy.jpg\n",
      "Imagem car_150_original.jpg com ruído aplicado e salva como car_150_original_noisy.jpg\n",
      "Imagem car_153_original(1).jpg com ruído aplicado e salva como car_153_original(1)_noisy.jpg\n",
      "Imagem car_153_original(2).jpg com ruído aplicado e salva como car_153_original(2)_noisy.jpg\n",
      "Imagem car_153_original(3).jpg com ruído aplicado e salva como car_153_original(3)_noisy.jpg\n",
      "Imagem car_153_original(4).jpg com ruído aplicado e salva como car_153_original(4)_noisy.jpg\n",
      "Imagem car_153_original.jpg com ruído aplicado e salva como car_153_original_noisy.jpg\n",
      "Imagem car_155_original(1).jpg com ruído aplicado e salva como car_155_original(1)_noisy.jpg\n",
      "Imagem car_155_original(10).jpg com ruído aplicado e salva como car_155_original(10)_noisy.jpg\n",
      "Imagem car_155_original(2).jpg com ruído aplicado e salva como car_155_original(2)_noisy.jpg\n",
      "Imagem car_155_original(3).jpg com ruído aplicado e salva como car_155_original(3)_noisy.jpg\n",
      "Imagem car_155_original(4).jpg com ruído aplicado e salva como car_155_original(4)_noisy.jpg\n",
      "Imagem car_155_original(5).jpg com ruído aplicado e salva como car_155_original(5)_noisy.jpg\n",
      "Imagem car_155_original(6).jpg com ruído aplicado e salva como car_155_original(6)_noisy.jpg\n",
      "Imagem car_155_original(7).jpg com ruído aplicado e salva como car_155_original(7)_noisy.jpg\n",
      "Imagem car_155_original(8).jpg com ruído aplicado e salva como car_155_original(8)_noisy.jpg\n",
      "Imagem car_155_original(9).jpg com ruído aplicado e salva como car_155_original(9)_noisy.jpg\n",
      "Imagem car_155_original.jpg com ruído aplicado e salva como car_155_original_noisy.jpg\n",
      "Imagem car_157_original(1).jpg com ruído aplicado e salva como car_157_original(1)_noisy.jpg\n",
      "Imagem car_157_original(2).jpg com ruído aplicado e salva como car_157_original(2)_noisy.jpg\n",
      "Imagem car_157_original(3).jpg com ruído aplicado e salva como car_157_original(3)_noisy.jpg\n",
      "Imagem car_157_original(4).jpg com ruído aplicado e salva como car_157_original(4)_noisy.jpg\n",
      "Imagem car_157_original(5).jpg com ruído aplicado e salva como car_157_original(5)_noisy.jpg\n",
      "Imagem car_157_original(6).jpg com ruído aplicado e salva como car_157_original(6)_noisy.jpg\n",
      "Imagem car_157_original(7).jpg com ruído aplicado e salva como car_157_original(7)_noisy.jpg\n",
      "Imagem car_157_original(8).jpg com ruído aplicado e salva como car_157_original(8)_noisy.jpg\n",
      "Imagem car_157_original(9).jpg com ruído aplicado e salva como car_157_original(9)_noisy.jpg\n",
      "Imagem car_157_original.jpg com ruído aplicado e salva como car_157_original_noisy.jpg\n",
      "Imagem car_158_original(1).jpg com ruído aplicado e salva como car_158_original(1)_noisy.jpg\n",
      "Imagem car_158_original(2).jpg com ruído aplicado e salva como car_158_original(2)_noisy.jpg\n",
      "Imagem car_158_original(3).jpg com ruído aplicado e salva como car_158_original(3)_noisy.jpg\n",
      "Imagem car_158_original(4).jpg com ruído aplicado e salva como car_158_original(4)_noisy.jpg\n",
      "Imagem car_158_original(5).jpg com ruído aplicado e salva como car_158_original(5)_noisy.jpg\n",
      "Imagem car_158_original(6).jpg com ruído aplicado e salva como car_158_original(6)_noisy.jpg\n",
      "Imagem car_158_original(7).jpg com ruído aplicado e salva como car_158_original(7)_noisy.jpg\n",
      "Imagem car_158_original(8).jpg com ruído aplicado e salva como car_158_original(8)_noisy.jpg\n",
      "Imagem car_158_original(9).jpg com ruído aplicado e salva como car_158_original(9)_noisy.jpg\n",
      "Imagem car_158_original.jpg com ruído aplicado e salva como car_158_original_noisy.jpg\n",
      "Imagem car_159_original(1).jpg com ruído aplicado e salva como car_159_original(1)_noisy.jpg\n",
      "Imagem car_159_original(2).jpg com ruído aplicado e salva como car_159_original(2)_noisy.jpg\n",
      "Imagem car_159_original(3).jpg com ruído aplicado e salva como car_159_original(3)_noisy.jpg\n",
      "Imagem car_159_original(4).jpg com ruído aplicado e salva como car_159_original(4)_noisy.jpg\n",
      "Imagem car_159_original(5).jpg com ruído aplicado e salva como car_159_original(5)_noisy.jpg\n",
      "Imagem car_159_original(6).jpg com ruído aplicado e salva como car_159_original(6)_noisy.jpg\n",
      "Imagem car_159_original(7).jpg com ruído aplicado e salva como car_159_original(7)_noisy.jpg\n",
      "Imagem car_159_original(8).jpg com ruído aplicado e salva como car_159_original(8)_noisy.jpg\n",
      "Imagem car_159_original(9).jpg com ruído aplicado e salva como car_159_original(9)_noisy.jpg\n",
      "Imagem car_159_original.jpg com ruído aplicado e salva como car_159_original_noisy.jpg\n",
      "Imagem car_161_original(1).jpg com ruído aplicado e salva como car_161_original(1)_noisy.jpg\n",
      "Imagem car_161_original(2).jpg com ruído aplicado e salva como car_161_original(2)_noisy.jpg\n",
      "Imagem car_161_original(3).jpg com ruído aplicado e salva como car_161_original(3)_noisy.jpg\n",
      "Imagem car_161_original.jpg com ruído aplicado e salva como car_161_original_noisy.jpg\n",
      "Imagem car_162_original(1).jpg com ruído aplicado e salva como car_162_original(1)_noisy.jpg\n",
      "Imagem car_162_original(2).jpg com ruído aplicado e salva como car_162_original(2)_noisy.jpg\n",
      "Imagem car_162_original(3).jpg com ruído aplicado e salva como car_162_original(3)_noisy.jpg\n",
      "Imagem car_162_original(4).jpg com ruído aplicado e salva como car_162_original(4)_noisy.jpg\n",
      "Imagem car_162_original.jpg com ruído aplicado e salva como car_162_original_noisy.jpg\n",
      "Imagem car_166_original(1).jpg com ruído aplicado e salva como car_166_original(1)_noisy.jpg\n",
      "Imagem car_166_original(2).jpg com ruído aplicado e salva como car_166_original(2)_noisy.jpg\n",
      "Imagem car_166_original(3).jpg com ruído aplicado e salva como car_166_original(3)_noisy.jpg\n",
      "Imagem car_166_original(4).jpg com ruído aplicado e salva como car_166_original(4)_noisy.jpg\n",
      "Imagem car_166_original(5).jpg com ruído aplicado e salva como car_166_original(5)_noisy.jpg\n",
      "Imagem car_166_original(6).jpg com ruído aplicado e salva como car_166_original(6)_noisy.jpg\n",
      "Imagem car_166_original(7).jpg com ruído aplicado e salva como car_166_original(7)_noisy.jpg\n",
      "Imagem car_166_original(8).jpg com ruído aplicado e salva como car_166_original(8)_noisy.jpg\n",
      "Imagem car_166_original.jpg com ruído aplicado e salva como car_166_original_noisy.jpg\n",
      "Imagem car_17_original(1).jpg com ruído aplicado e salva como car_17_original(1)_noisy.jpg\n",
      "Imagem car_17_original(10).jpg com ruído aplicado e salva como car_17_original(10)_noisy.jpg\n",
      "Imagem car_17_original(2).jpg com ruído aplicado e salva como car_17_original(2)_noisy.jpg\n",
      "Imagem car_17_original(3).jpg com ruído aplicado e salva como car_17_original(3)_noisy.jpg\n",
      "Imagem car_17_original(4).jpg com ruído aplicado e salva como car_17_original(4)_noisy.jpg\n",
      "Imagem car_17_original(5).jpg com ruído aplicado e salva como car_17_original(5)_noisy.jpg\n",
      "Imagem car_17_original(6).jpg com ruído aplicado e salva como car_17_original(6)_noisy.jpg\n",
      "Imagem car_17_original(7).jpg com ruído aplicado e salva como car_17_original(7)_noisy.jpg\n",
      "Imagem car_17_original(8).jpg com ruído aplicado e salva como car_17_original(8)_noisy.jpg\n",
      "Imagem car_17_original(9).jpg com ruído aplicado e salva como car_17_original(9)_noisy.jpg\n",
      "Imagem car_17_original.jpg com ruído aplicado e salva como car_17_original_noisy.jpg\n",
      "Imagem car_18_original(1).jpg com ruído aplicado e salva como car_18_original(1)_noisy.jpg\n",
      "Imagem car_18_original(2).jpg com ruído aplicado e salva como car_18_original(2)_noisy.jpg\n",
      "Imagem car_18_original(3).jpg com ruído aplicado e salva como car_18_original(3)_noisy.jpg\n",
      "Imagem car_18_original(4).jpg com ruído aplicado e salva como car_18_original(4)_noisy.jpg\n",
      "Imagem car_18_original(5).jpg com ruído aplicado e salva como car_18_original(5)_noisy.jpg\n",
      "Imagem car_18_original(6).jpg com ruído aplicado e salva como car_18_original(6)_noisy.jpg\n",
      "Imagem car_18_original(7).jpg com ruído aplicado e salva como car_18_original(7)_noisy.jpg\n",
      "Imagem car_18_original.jpg com ruído aplicado e salva como car_18_original_noisy.jpg\n",
      "Imagem car_19_original(1).jpg com ruído aplicado e salva como car_19_original(1)_noisy.jpg\n",
      "Imagem car_19_original(10).jpg com ruído aplicado e salva como car_19_original(10)_noisy.jpg\n",
      "Imagem car_19_original(11).jpg com ruído aplicado e salva como car_19_original(11)_noisy.jpg\n",
      "Imagem car_19_original(2).jpg com ruído aplicado e salva como car_19_original(2)_noisy.jpg\n",
      "Imagem car_19_original(3).jpg com ruído aplicado e salva como car_19_original(3)_noisy.jpg\n",
      "Imagem car_19_original(4).jpg com ruído aplicado e salva como car_19_original(4)_noisy.jpg\n",
      "Imagem car_19_original(5).jpg com ruído aplicado e salva como car_19_original(5)_noisy.jpg\n",
      "Imagem car_19_original(6).jpg com ruído aplicado e salva como car_19_original(6)_noisy.jpg\n",
      "Imagem car_19_original(7).jpg com ruído aplicado e salva como car_19_original(7)_noisy.jpg\n",
      "Imagem car_19_original(8).jpg com ruído aplicado e salva como car_19_original(8)_noisy.jpg\n",
      "Imagem car_19_original(9).jpg com ruído aplicado e salva como car_19_original(9)_noisy.jpg\n",
      "Imagem car_19_original.jpg com ruído aplicado e salva como car_19_original_noisy.jpg\n",
      "Imagem car_1_original(1).jpg com ruído aplicado e salva como car_1_original(1)_noisy.jpg\n",
      "Imagem car_1_original(2).jpg com ruído aplicado e salva como car_1_original(2)_noisy.jpg\n",
      "Imagem car_1_original(3).jpg com ruído aplicado e salva como car_1_original(3)_noisy.jpg\n",
      "Imagem car_1_original(4).jpg com ruído aplicado e salva como car_1_original(4)_noisy.jpg\n",
      "Imagem car_1_original(5).jpg com ruído aplicado e salva como car_1_original(5)_noisy.jpg\n",
      "Imagem car_1_original(6).jpg com ruído aplicado e salva como car_1_original(6)_noisy.jpg\n",
      "Imagem car_1_original.jpg com ruído aplicado e salva como car_1_original_noisy.jpg\n",
      "Imagem car_21_original(1).jpg com ruído aplicado e salva como car_21_original(1)_noisy.jpg\n",
      "Imagem car_21_original(2).jpg com ruído aplicado e salva como car_21_original(2)_noisy.jpg\n",
      "Imagem car_21_original(3).jpg com ruído aplicado e salva como car_21_original(3)_noisy.jpg\n",
      "Imagem car_21_original(4).jpg com ruído aplicado e salva como car_21_original(4)_noisy.jpg\n",
      "Imagem car_21_original(5).jpg com ruído aplicado e salva como car_21_original(5)_noisy.jpg\n",
      "Imagem car_21_original.jpg com ruído aplicado e salva como car_21_original_noisy.jpg\n",
      "Imagem car_29_original(1).jpg com ruído aplicado e salva como car_29_original(1)_noisy.jpg\n",
      "Imagem car_29_original(2).jpg com ruído aplicado e salva como car_29_original(2)_noisy.jpg\n",
      "Imagem car_29_original(3).jpg com ruído aplicado e salva como car_29_original(3)_noisy.jpg\n",
      "Imagem car_29_original(4).jpg com ruído aplicado e salva como car_29_original(4)_noisy.jpg\n",
      "Imagem car_29_original(5).jpg com ruído aplicado e salva como car_29_original(5)_noisy.jpg\n",
      "Imagem car_29_original(6).jpg com ruído aplicado e salva como car_29_original(6)_noisy.jpg\n",
      "Imagem car_29_original(7).jpg com ruído aplicado e salva como car_29_original(7)_noisy.jpg\n",
      "Imagem car_29_original(8).jpg com ruído aplicado e salva como car_29_original(8)_noisy.jpg\n",
      "Imagem car_29_original.jpg com ruído aplicado e salva como car_29_original_noisy.jpg\n",
      "Imagem car_32_original(1).jpg com ruído aplicado e salva como car_32_original(1)_noisy.jpg\n",
      "Imagem car_32_original(2).jpg com ruído aplicado e salva como car_32_original(2)_noisy.jpg\n",
      "Imagem car_32_original(3).jpg com ruído aplicado e salva como car_32_original(3)_noisy.jpg\n",
      "Imagem car_32_original(4).jpg com ruído aplicado e salva como car_32_original(4)_noisy.jpg\n",
      "Imagem car_32_original(5).jpg com ruído aplicado e salva como car_32_original(5)_noisy.jpg\n",
      "Imagem car_32_original.jpg com ruído aplicado e salva como car_32_original_noisy.jpg\n",
      "Imagem car_34_original(1).jpg com ruído aplicado e salva como car_34_original(1)_noisy.jpg\n",
      "Imagem car_34_original(2).jpg com ruído aplicado e salva como car_34_original(2)_noisy.jpg\n",
      "Imagem car_34_original(3).jpg com ruído aplicado e salva como car_34_original(3)_noisy.jpg\n",
      "Imagem car_34_original(4).jpg com ruído aplicado e salva como car_34_original(4)_noisy.jpg\n",
      "Imagem car_34_original(5).jpg com ruído aplicado e salva como car_34_original(5)_noisy.jpg\n",
      "Imagem car_34_original(6).jpg com ruído aplicado e salva como car_34_original(6)_noisy.jpg\n",
      "Imagem car_34_original.jpg com ruído aplicado e salva como car_34_original_noisy.jpg\n",
      "Imagem car_35_original(1).jpg com ruído aplicado e salva como car_35_original(1)_noisy.jpg\n",
      "Imagem car_35_original.jpg com ruído aplicado e salva como car_35_original_noisy.jpg\n",
      "Imagem car_37_original(1).jpg com ruído aplicado e salva como car_37_original(1)_noisy.jpg\n",
      "Imagem car_37_original(2).jpg com ruído aplicado e salva como car_37_original(2)_noisy.jpg\n",
      "Imagem car_37_original.jpg com ruído aplicado e salva como car_37_original_noisy.jpg\n",
      "Imagem car_3_original(1).jpg com ruído aplicado e salva como car_3_original(1)_noisy.jpg\n",
      "Imagem car_3_original(2).jpg com ruído aplicado e salva como car_3_original(2)_noisy.jpg\n",
      "Imagem car_3_original(3).jpg com ruído aplicado e salva como car_3_original(3)_noisy.jpg\n",
      "Imagem car_3_original(4).jpg com ruído aplicado e salva como car_3_original(4)_noisy.jpg\n",
      "Imagem car_3_original(5).jpg com ruído aplicado e salva como car_3_original(5)_noisy.jpg\n",
      "Imagem car_3_original(6).jpg com ruído aplicado e salva como car_3_original(6)_noisy.jpg\n",
      "Imagem car_3_original.jpg com ruído aplicado e salva como car_3_original_noisy.jpg\n",
      "Imagem car_41_original(1).jpg com ruído aplicado e salva como car_41_original(1)_noisy.jpg\n",
      "Imagem car_41_original.jpg com ruído aplicado e salva como car_41_original_noisy.jpg\n",
      "Imagem car_42_original(1).jpg com ruído aplicado e salva como car_42_original(1)_noisy.jpg\n",
      "Imagem car_42_original(2).jpg com ruído aplicado e salva como car_42_original(2)_noisy.jpg\n",
      "Imagem car_42_original.jpg com ruído aplicado e salva como car_42_original_noisy.jpg\n",
      "Imagem car_44_original(1).jpg com ruído aplicado e salva como car_44_original(1)_noisy.jpg\n",
      "Imagem car_44_original(2).jpg com ruído aplicado e salva como car_44_original(2)_noisy.jpg\n",
      "Imagem car_44_original(3).jpg com ruído aplicado e salva como car_44_original(3)_noisy.jpg\n",
      "Imagem car_44_original(4).jpg com ruído aplicado e salva como car_44_original(4)_noisy.jpg\n",
      "Imagem car_44_original(5).jpg com ruído aplicado e salva como car_44_original(5)_noisy.jpg\n",
      "Imagem car_44_original.jpg com ruído aplicado e salva como car_44_original_noisy.jpg\n",
      "Imagem car_45_original(1).jpg com ruído aplicado e salva como car_45_original(1)_noisy.jpg\n",
      "Imagem car_45_original(2).jpg com ruído aplicado e salva como car_45_original(2)_noisy.jpg\n",
      "Imagem car_45_original(3).jpg com ruído aplicado e salva como car_45_original(3)_noisy.jpg\n",
      "Imagem car_45_original.jpg com ruído aplicado e salva como car_45_original_noisy.jpg\n",
      "Imagem car_4_original(1).jpg com ruído aplicado e salva como car_4_original(1)_noisy.jpg\n",
      "Imagem car_4_original(2).jpg com ruído aplicado e salva como car_4_original(2)_noisy.jpg\n",
      "Imagem car_4_original(3).jpg com ruído aplicado e salva como car_4_original(3)_noisy.jpg\n",
      "Imagem car_4_original(4).jpg com ruído aplicado e salva como car_4_original(4)_noisy.jpg\n",
      "Imagem car_4_original(5).jpg com ruído aplicado e salva como car_4_original(5)_noisy.jpg\n",
      "Imagem car_4_original(6).jpg com ruído aplicado e salva como car_4_original(6)_noisy.jpg\n",
      "Imagem car_4_original(7).jpg com ruído aplicado e salva como car_4_original(7)_noisy.jpg\n",
      "Imagem car_4_original.jpg com ruído aplicado e salva como car_4_original_noisy.jpg\n",
      "Imagem car_50_original(1).jpg com ruído aplicado e salva como car_50_original(1)_noisy.jpg\n",
      "Imagem car_50_original(10).jpg com ruído aplicado e salva como car_50_original(10)_noisy.jpg\n",
      "Imagem car_50_original(2).jpg com ruído aplicado e salva como car_50_original(2)_noisy.jpg\n",
      "Imagem car_50_original(3).jpg com ruído aplicado e salva como car_50_original(3)_noisy.jpg\n",
      "Imagem car_50_original(4).jpg com ruído aplicado e salva como car_50_original(4)_noisy.jpg\n",
      "Imagem car_50_original(5).jpg com ruído aplicado e salva como car_50_original(5)_noisy.jpg\n",
      "Imagem car_50_original(6).jpg com ruído aplicado e salva como car_50_original(6)_noisy.jpg\n",
      "Imagem car_50_original(7).jpg com ruído aplicado e salva como car_50_original(7)_noisy.jpg\n",
      "Imagem car_50_original(8).jpg com ruído aplicado e salva como car_50_original(8)_noisy.jpg\n",
      "Imagem car_50_original(9).jpg com ruído aplicado e salva como car_50_original(9)_noisy.jpg\n",
      "Imagem car_50_original.jpg com ruído aplicado e salva como car_50_original_noisy.jpg\n",
      "Imagem car_52_original(1).jpg com ruído aplicado e salva como car_52_original(1)_noisy.jpg\n",
      "Imagem car_52_original(10).jpg com ruído aplicado e salva como car_52_original(10)_noisy.jpg\n",
      "Imagem car_52_original(11).jpg com ruído aplicado e salva como car_52_original(11)_noisy.jpg\n",
      "Imagem car_52_original(2).jpg com ruído aplicado e salva como car_52_original(2)_noisy.jpg\n",
      "Imagem car_52_original(3).jpg com ruído aplicado e salva como car_52_original(3)_noisy.jpg\n",
      "Imagem car_52_original(4).jpg com ruído aplicado e salva como car_52_original(4)_noisy.jpg\n",
      "Imagem car_52_original(5).jpg com ruído aplicado e salva como car_52_original(5)_noisy.jpg\n",
      "Imagem car_52_original(6).jpg com ruído aplicado e salva como car_52_original(6)_noisy.jpg\n",
      "Imagem car_52_original(7).jpg com ruído aplicado e salva como car_52_original(7)_noisy.jpg\n",
      "Imagem car_52_original(8).jpg com ruído aplicado e salva como car_52_original(8)_noisy.jpg\n",
      "Imagem car_52_original(9).jpg com ruído aplicado e salva como car_52_original(9)_noisy.jpg\n",
      "Imagem car_52_original.jpg com ruído aplicado e salva como car_52_original_noisy.jpg\n",
      "Imagem car_55_original(1).jpg com ruído aplicado e salva como car_55_original(1)_noisy.jpg\n",
      "Imagem car_55_original(2).jpg com ruído aplicado e salva como car_55_original(2)_noisy.jpg\n",
      "Imagem car_55_original.jpg com ruído aplicado e salva como car_55_original_noisy.jpg\n",
      "Imagem car_64_original(1).jpg com ruído aplicado e salva como car_64_original(1)_noisy.jpg\n",
      "Imagem car_64_original(2).jpg com ruído aplicado e salva como car_64_original(2)_noisy.jpg\n",
      "Imagem car_64_original(3).jpg com ruído aplicado e salva como car_64_original(3)_noisy.jpg\n",
      "Imagem car_64_original(4).jpg com ruído aplicado e salva como car_64_original(4)_noisy.jpg\n",
      "Imagem car_64_original(5).jpg com ruído aplicado e salva como car_64_original(5)_noisy.jpg\n",
      "Imagem car_64_original(6).jpg com ruído aplicado e salva como car_64_original(6)_noisy.jpg\n",
      "Imagem car_64_original(7).jpg com ruído aplicado e salva como car_64_original(7)_noisy.jpg\n",
      "Imagem car_64_original(8).jpg com ruído aplicado e salva como car_64_original(8)_noisy.jpg\n",
      "Imagem car_64_original(9).jpg com ruído aplicado e salva como car_64_original(9)_noisy.jpg\n",
      "Imagem car_64_original.jpg com ruído aplicado e salva como car_64_original_noisy.jpg\n",
      "Imagem car_66_original(1).jpg com ruído aplicado e salva como car_66_original(1)_noisy.jpg\n",
      "Imagem car_66_original(2).jpg com ruído aplicado e salva como car_66_original(2)_noisy.jpg\n",
      "Imagem car_66_original.jpg com ruído aplicado e salva como car_66_original_noisy.jpg\n",
      "Imagem car_72_original(1).jpg com ruído aplicado e salva como car_72_original(1)_noisy.jpg\n",
      "Imagem car_72_original(2).jpg com ruído aplicado e salva como car_72_original(2)_noisy.jpg\n",
      "Imagem car_72_original(3).jpg com ruído aplicado e salva como car_72_original(3)_noisy.jpg\n",
      "Imagem car_72_original(4).jpg com ruído aplicado e salva como car_72_original(4)_noisy.jpg\n",
      "Imagem car_72_original(5).jpg com ruído aplicado e salva como car_72_original(5)_noisy.jpg\n",
      "Imagem car_72_original(6).jpg com ruído aplicado e salva como car_72_original(6)_noisy.jpg\n",
      "Imagem car_72_original(7).jpg com ruído aplicado e salva como car_72_original(7)_noisy.jpg\n",
      "Imagem car_72_original(8).jpg com ruído aplicado e salva como car_72_original(8)_noisy.jpg\n",
      "Imagem car_72_original.jpg com ruído aplicado e salva como car_72_original_noisy.jpg\n",
      "Imagem car_75_original(1).jpg com ruído aplicado e salva como car_75_original(1)_noisy.jpg\n",
      "Imagem car_75_original(2).jpg com ruído aplicado e salva como car_75_original(2)_noisy.jpg\n",
      "Imagem car_75_original(3).jpg com ruído aplicado e salva como car_75_original(3)_noisy.jpg\n",
      "Imagem car_75_original(4).jpg com ruído aplicado e salva como car_75_original(4)_noisy.jpg\n",
      "Imagem car_75_original(5).jpg com ruído aplicado e salva como car_75_original(5)_noisy.jpg\n",
      "Imagem car_75_original(6).jpg com ruído aplicado e salva como car_75_original(6)_noisy.jpg\n",
      "Imagem car_75_original(7).jpg com ruído aplicado e salva como car_75_original(7)_noisy.jpg\n",
      "Imagem car_75_original(8).jpg com ruído aplicado e salva como car_75_original(8)_noisy.jpg\n",
      "Imagem car_75_original.jpg com ruído aplicado e salva como car_75_original_noisy.jpg\n",
      "Imagem car_78_original(1).jpg com ruído aplicado e salva como car_78_original(1)_noisy.jpg\n",
      "Imagem car_78_original.jpg com ruído aplicado e salva como car_78_original_noisy.jpg\n",
      "Imagem car_82_original(1).jpg com ruído aplicado e salva como car_82_original(1)_noisy.jpg\n",
      "Imagem car_82_original(2).jpg com ruído aplicado e salva como car_82_original(2)_noisy.jpg\n",
      "Imagem car_82_original.jpg com ruído aplicado e salva como car_82_original_noisy.jpg\n",
      "Imagem car_86_original(1).jpg com ruído aplicado e salva como car_86_original(1)_noisy.jpg\n",
      "Imagem car_86_original(2).jpg com ruído aplicado e salva como car_86_original(2)_noisy.jpg\n",
      "Imagem car_86_original(3).jpg com ruído aplicado e salva como car_86_original(3)_noisy.jpg\n",
      "Imagem car_86_original.jpg com ruído aplicado e salva como car_86_original_noisy.jpg\n",
      "Imagem car_8_original(1).jpg com ruído aplicado e salva como car_8_original(1)_noisy.jpg\n",
      "Imagem car_8_original(2).jpg com ruído aplicado e salva como car_8_original(2)_noisy.jpg\n",
      "Imagem car_8_original(3).jpg com ruído aplicado e salva como car_8_original(3)_noisy.jpg\n",
      "Imagem car_8_original(4).jpg com ruído aplicado e salva como car_8_original(4)_noisy.jpg\n",
      "Imagem car_8_original(5).jpg com ruído aplicado e salva como car_8_original(5)_noisy.jpg\n",
      "Imagem car_8_original(6).jpg com ruído aplicado e salva como car_8_original(6)_noisy.jpg\n",
      "Imagem car_8_original(7).jpg com ruído aplicado e salva como car_8_original(7)_noisy.jpg\n",
      "Imagem car_8_original(8).jpg com ruído aplicado e salva como car_8_original(8)_noisy.jpg\n",
      "Imagem car_8_original.jpg com ruído aplicado e salva como car_8_original_noisy.jpg\n",
      "Imagem car_90_original(1).jpg com ruído aplicado e salva como car_90_original(1)_noisy.jpg\n",
      "Imagem car_90_original(2).jpg com ruído aplicado e salva como car_90_original(2)_noisy.jpg\n",
      "Imagem car_90_original(3).jpg com ruído aplicado e salva como car_90_original(3)_noisy.jpg\n",
      "Imagem car_90_original(4).jpg com ruído aplicado e salva como car_90_original(4)_noisy.jpg\n",
      "Imagem car_90_original(5).jpg com ruído aplicado e salva como car_90_original(5)_noisy.jpg\n",
      "Imagem car_90_original.jpg com ruído aplicado e salva como car_90_original_noisy.jpg\n",
      "Imagem car_95_original(1).jpg com ruído aplicado e salva como car_95_original(1)_noisy.jpg\n",
      "Imagem car_95_original(2).jpg com ruído aplicado e salva como car_95_original(2)_noisy.jpg\n",
      "Imagem car_95_original(3).jpg com ruído aplicado e salva como car_95_original(3)_noisy.jpg\n",
      "Imagem car_95_original(4).jpg com ruído aplicado e salva como car_95_original(4)_noisy.jpg\n",
      "Imagem car_95_original.jpg com ruído aplicado e salva como car_95_original_noisy.jpg\n",
      "Imagem car_97_original(1).jpg com ruído aplicado e salva como car_97_original(1)_noisy.jpg\n",
      "Imagem car_97_original(2).jpg com ruído aplicado e salva como car_97_original(2)_noisy.jpg\n",
      "Imagem car_97_original(3).jpg com ruído aplicado e salva como car_97_original(3)_noisy.jpg\n",
      "Imagem car_97_original(4).jpg com ruído aplicado e salva como car_97_original(4)_noisy.jpg\n",
      "Imagem car_97_original(5).jpg com ruído aplicado e salva como car_97_original(5)_noisy.jpg\n",
      "Imagem car_97_original.jpg com ruído aplicado e salva como car_97_original_noisy.jpg\n",
      "Imagem car_98_original(1).jpg com ruído aplicado e salva como car_98_original(1)_noisy.jpg\n",
      "Imagem car_98_original(2).jpg com ruído aplicado e salva como car_98_original(2)_noisy.jpg\n",
      "Imagem car_98_original(3).jpg com ruído aplicado e salva como car_98_original(3)_noisy.jpg\n",
      "Imagem car_98_original(4).jpg com ruído aplicado e salva como car_98_original(4)_noisy.jpg\n",
      "Imagem car_98_original(5).jpg com ruído aplicado e salva como car_98_original(5)_noisy.jpg\n",
      "Imagem car_98_original.jpg com ruído aplicado e salva como car_98_original_noisy.jpg\n",
      "Imagem car_99_original(1).jpg com ruído aplicado e salva como car_99_original(1)_noisy.jpg\n",
      "Imagem car_99_original(2).jpg com ruído aplicado e salva como car_99_original(2)_noisy.jpg\n",
      "Imagem car_99_original(3).jpg com ruído aplicado e salva como car_99_original(3)_noisy.jpg\n",
      "Imagem car_99_original.jpg com ruído aplicado e salva como car_99_original_noisy.jpg\n",
      "Imagem person_110_original(1).jpg com ruído aplicado e salva como person_110_original(1)_noisy.jpg\n",
      "Imagem person_110_original(2).jpg com ruído aplicado e salva como person_110_original(2)_noisy.jpg\n",
      "Imagem person_110_original(3).jpg com ruído aplicado e salva como person_110_original(3)_noisy.jpg\n",
      "Imagem person_110_original(4).jpg com ruído aplicado e salva como person_110_original(4)_noisy.jpg\n",
      "Imagem person_110_original.jpg com ruído aplicado e salva como person_110_original_noisy.jpg\n",
      "Imagem person_118_original(1).jpg com ruído aplicado e salva como person_118_original(1)_noisy.jpg\n",
      "Imagem person_118_original.jpg com ruído aplicado e salva como person_118_original_noisy.jpg\n",
      "Imagem person_125_original.jpg com ruído aplicado e salva como person_125_original_noisy.jpg\n",
      "Imagem person_12_original.jpg com ruído aplicado e salva como person_12_original_noisy.jpg\n",
      "Imagem person_13_original.jpg com ruído aplicado e salva como person_13_original_noisy.jpg\n",
      "Imagem person_142_original.jpg com ruído aplicado e salva como person_142_original_noisy.jpg\n",
      "Imagem person_143_original.jpg com ruído aplicado e salva como person_143_original_noisy.jpg\n",
      "Imagem person_144_original(1).jpg com ruído aplicado e salva como person_144_original(1)_noisy.jpg\n",
      "Imagem person_144_original.jpg com ruído aplicado e salva como person_144_original_noisy.jpg\n",
      "Imagem person_146_original.jpg com ruído aplicado e salva como person_146_original_noisy.jpg\n",
      "Imagem person_153_original.jpg com ruído aplicado e salva como person_153_original_noisy.jpg\n",
      "Imagem person_21_original.jpg com ruído aplicado e salva como person_21_original_noisy.jpg\n",
      "Imagem person_4_original.jpg com ruído aplicado e salva como person_4_original_noisy.jpg\n",
      "Imagem person_75_original.jpg com ruído aplicado e salva como person_75_original_noisy.jpg\n",
      "Imagem person_8_original.jpg com ruído aplicado e salva como person_8_original_noisy.jpg\n",
      "Imagem person_97_original(1).jpg com ruído aplicado e salva como person_97_original(1)_noisy.jpg\n",
      "Imagem person_97_original.jpg com ruído aplicado e salva como person_97_original_noisy.jpg\n",
      "Imagem truck_110_original(1).jpg com ruído aplicado e salva como truck_110_original(1)_noisy.jpg\n",
      "Imagem truck_110_original.jpg com ruído aplicado e salva como truck_110_original_noisy.jpg\n",
      "Imagem truck_118_original.jpg com ruído aplicado e salva como truck_118_original_noisy.jpg\n",
      "Imagem truck_125_original.jpg com ruído aplicado e salva como truck_125_original_noisy.jpg\n",
      "Imagem truck_127_original.jpg com ruído aplicado e salva como truck_127_original_noisy.jpg\n",
      "Imagem truck_12_original.jpg com ruído aplicado e salva como truck_12_original_noisy.jpg\n",
      "Imagem truck_13_original.jpg com ruído aplicado e salva como truck_13_original_noisy.jpg\n",
      "Imagem truck_142_original.jpg com ruído aplicado e salva como truck_142_original_noisy.jpg\n",
      "Imagem truck_143_original.jpg com ruído aplicado e salva como truck_143_original_noisy.jpg\n",
      "Imagem truck_144_original.jpg com ruído aplicado e salva como truck_144_original_noisy.jpg\n",
      "Imagem truck_146_original.jpg com ruído aplicado e salva como truck_146_original_noisy.jpg\n",
      "Imagem truck_14_original.jpg com ruído aplicado e salva como truck_14_original_noisy.jpg\n",
      "Imagem truck_153_original.jpg com ruído aplicado e salva como truck_153_original_noisy.jpg\n",
      "Imagem truck_18_original.jpg com ruído aplicado e salva como truck_18_original_noisy.jpg\n",
      "Imagem truck_1_original.jpg com ruído aplicado e salva como truck_1_original_noisy.jpg\n",
      "Imagem truck_21_original(1).jpg com ruído aplicado e salva como truck_21_original(1)_noisy.jpg\n",
      "Imagem truck_21_original.jpg com ruído aplicado e salva como truck_21_original_noisy.jpg\n",
      "Imagem truck_45_original.jpg com ruído aplicado e salva como truck_45_original_noisy.jpg\n",
      "Imagem truck_4_original(1).jpg com ruído aplicado e salva como truck_4_original(1)_noisy.jpg\n",
      "Imagem truck_4_original.jpg com ruído aplicado e salva como truck_4_original_noisy.jpg\n",
      "Imagem truck_72_original.jpg com ruído aplicado e salva como truck_72_original_noisy.jpg\n",
      "Imagem truck_75_original.jpg com ruído aplicado e salva como truck_75_original_noisy.jpg\n",
      "Imagem truck_8_original.jpg com ruído aplicado e salva como truck_8_original_noisy.jpg\n",
      "Imagem truck_97_original(1).jpg com ruído aplicado e salva como truck_97_original(1)_noisy.jpg\n",
      "Imagem truck_97_original.jpg com ruído aplicado e salva como truck_97_original_noisy.jpg\n",
      "Imagem traffic_light_100_original(1).jpg com ruído aplicado e salva como traffic_light_100_original(1)_noisy.jpg\n",
      "Imagem traffic_light_100_original.jpg com ruído aplicado e salva como traffic_light_100_original_noisy.jpg\n",
      "Imagem traffic_light_101_original(1).jpg com ruído aplicado e salva como traffic_light_101_original(1)_noisy.jpg\n",
      "Imagem traffic_light_101_original(2).jpg com ruído aplicado e salva como traffic_light_101_original(2)_noisy.jpg\n",
      "Imagem traffic_light_101_original.jpg com ruído aplicado e salva como traffic_light_101_original_noisy.jpg\n",
      "Imagem traffic_light_102_original(1).jpg com ruído aplicado e salva como traffic_light_102_original(1)_noisy.jpg\n",
      "Imagem traffic_light_102_original(2).jpg com ruído aplicado e salva como traffic_light_102_original(2)_noisy.jpg\n",
      "Imagem traffic_light_102_original.jpg com ruído aplicado e salva como traffic_light_102_original_noisy.jpg\n",
      "Imagem traffic_light_103_original(1).jpg com ruído aplicado e salva como traffic_light_103_original(1)_noisy.jpg\n",
      "Imagem traffic_light_103_original.jpg com ruído aplicado e salva como traffic_light_103_original_noisy.jpg\n",
      "Imagem traffic_light_104_original.jpg com ruído aplicado e salva como traffic_light_104_original_noisy.jpg\n",
      "Imagem traffic_light_105_original.jpg com ruído aplicado e salva como traffic_light_105_original_noisy.jpg\n",
      "Imagem traffic_light_106_original.jpg com ruído aplicado e salva como traffic_light_106_original_noisy.jpg\n",
      "Imagem traffic_light_108_original.jpg com ruído aplicado e salva como traffic_light_108_original_noisy.jpg\n",
      "Imagem traffic_light_109_original(1).jpg com ruído aplicado e salva como traffic_light_109_original(1)_noisy.jpg\n",
      "Imagem traffic_light_109_original.jpg com ruído aplicado e salva como traffic_light_109_original_noisy.jpg\n",
      "Imagem traffic_light_110_original(1).jpg com ruído aplicado e salva como traffic_light_110_original(1)_noisy.jpg\n",
      "Imagem traffic_light_110_original(2).jpg com ruído aplicado e salva como traffic_light_110_original(2)_noisy.jpg\n",
      "Imagem traffic_light_110_original.jpg com ruído aplicado e salva como traffic_light_110_original_noisy.jpg\n",
      "Imagem traffic_light_112_original(1).jpg com ruído aplicado e salva como traffic_light_112_original(1)_noisy.jpg\n",
      "Imagem traffic_light_112_original(2).jpg com ruído aplicado e salva como traffic_light_112_original(2)_noisy.jpg\n",
      "Imagem traffic_light_112_original.jpg com ruído aplicado e salva como traffic_light_112_original_noisy.jpg\n",
      "Imagem traffic_light_117_original.jpg com ruído aplicado e salva como traffic_light_117_original_noisy.jpg\n",
      "Imagem traffic_light_118_original(1).jpg com ruído aplicado e salva como traffic_light_118_original(1)_noisy.jpg\n",
      "Imagem traffic_light_118_original(2).jpg com ruído aplicado e salva como traffic_light_118_original(2)_noisy.jpg\n",
      "Imagem traffic_light_118_original.jpg com ruído aplicado e salva como traffic_light_118_original_noisy.jpg\n",
      "Imagem traffic_light_119_original.jpg com ruído aplicado e salva como traffic_light_119_original_noisy.jpg\n",
      "Imagem traffic_light_120_original.jpg com ruído aplicado e salva como traffic_light_120_original_noisy.jpg\n",
      "Imagem traffic_light_123_original.jpg com ruído aplicado e salva como traffic_light_123_original_noisy.jpg\n",
      "Imagem traffic_light_125_original.jpg com ruído aplicado e salva como traffic_light_125_original_noisy.jpg\n",
      "Imagem traffic_light_126_original(1).jpg com ruído aplicado e salva como traffic_light_126_original(1)_noisy.jpg\n",
      "Imagem traffic_light_126_original.jpg com ruído aplicado e salva como traffic_light_126_original_noisy.jpg\n",
      "Imagem traffic_light_127_original.jpg com ruído aplicado e salva como traffic_light_127_original_noisy.jpg\n",
      "Imagem traffic_light_129_original(1).jpg com ruído aplicado e salva como traffic_light_129_original(1)_noisy.jpg\n",
      "Imagem traffic_light_129_original(2).jpg com ruído aplicado e salva como traffic_light_129_original(2)_noisy.jpg\n",
      "Imagem traffic_light_129_original(3).jpg com ruído aplicado e salva como traffic_light_129_original(3)_noisy.jpg\n",
      "Imagem traffic_light_129_original(4).jpg com ruído aplicado e salva como traffic_light_129_original(4)_noisy.jpg\n",
      "Imagem traffic_light_129_original.jpg com ruído aplicado e salva como traffic_light_129_original_noisy.jpg\n",
      "Imagem traffic_light_12_original.jpg com ruído aplicado e salva como traffic_light_12_original_noisy.jpg\n",
      "Imagem traffic_light_131_original.jpg com ruído aplicado e salva como traffic_light_131_original_noisy.jpg\n",
      "Imagem traffic_light_132_original.jpg com ruído aplicado e salva como traffic_light_132_original_noisy.jpg\n",
      "Imagem traffic_light_138_original(1).jpg com ruído aplicado e salva como traffic_light_138_original(1)_noisy.jpg\n",
      "Imagem traffic_light_138_original.jpg com ruído aplicado e salva como traffic_light_138_original_noisy.jpg\n",
      "Imagem traffic_light_139_original(1).jpg com ruído aplicado e salva como traffic_light_139_original(1)_noisy.jpg\n",
      "Imagem traffic_light_139_original.jpg com ruído aplicado e salva como traffic_light_139_original_noisy.jpg\n",
      "Imagem traffic_light_13_original.jpg com ruído aplicado e salva como traffic_light_13_original_noisy.jpg\n",
      "Imagem traffic_light_140_original.jpg com ruído aplicado e salva como traffic_light_140_original_noisy.jpg\n",
      "Imagem traffic_light_142_original(1).jpg com ruído aplicado e salva como traffic_light_142_original(1)_noisy.jpg\n",
      "Imagem traffic_light_142_original.jpg com ruído aplicado e salva como traffic_light_142_original_noisy.jpg\n",
      "Imagem traffic_light_143_original(1).jpg com ruído aplicado e salva como traffic_light_143_original(1)_noisy.jpg\n",
      "Imagem traffic_light_143_original.jpg com ruído aplicado e salva como traffic_light_143_original_noisy.jpg\n",
      "Imagem traffic_light_144_original(1).jpg com ruído aplicado e salva como traffic_light_144_original(1)_noisy.jpg\n",
      "Imagem traffic_light_144_original.jpg com ruído aplicado e salva como traffic_light_144_original_noisy.jpg\n",
      "Imagem traffic_light_146_original.jpg com ruído aplicado e salva como traffic_light_146_original_noisy.jpg\n",
      "Imagem traffic_light_148_original.jpg com ruído aplicado e salva como traffic_light_148_original_noisy.jpg\n",
      "Imagem traffic_light_149_original.jpg com ruído aplicado e salva como traffic_light_149_original_noisy.jpg\n",
      "Imagem traffic_light_14_original(1).jpg com ruído aplicado e salva como traffic_light_14_original(1)_noisy.jpg\n",
      "Imagem traffic_light_14_original.jpg com ruído aplicado e salva como traffic_light_14_original_noisy.jpg\n",
      "Imagem traffic_light_150_original.jpg com ruído aplicado e salva como traffic_light_150_original_noisy.jpg\n",
      "Imagem traffic_light_153_original.jpg com ruído aplicado e salva como traffic_light_153_original_noisy.jpg\n",
      "Imagem traffic_light_155_original.jpg com ruído aplicado e salva como traffic_light_155_original_noisy.jpg\n",
      "Imagem traffic_light_157_original(1).jpg com ruído aplicado e salva como traffic_light_157_original(1)_noisy.jpg\n",
      "Imagem traffic_light_157_original.jpg com ruído aplicado e salva como traffic_light_157_original_noisy.jpg\n",
      "Imagem traffic_light_158_original(1).jpg com ruído aplicado e salva como traffic_light_158_original(1)_noisy.jpg\n",
      "Imagem traffic_light_158_original.jpg com ruído aplicado e salva como traffic_light_158_original_noisy.jpg\n",
      "Imagem traffic_light_159_original(1).jpg com ruído aplicado e salva como traffic_light_159_original(1)_noisy.jpg\n",
      "Imagem traffic_light_159_original(2).jpg com ruído aplicado e salva como traffic_light_159_original(2)_noisy.jpg\n",
      "Imagem traffic_light_159_original.jpg com ruído aplicado e salva como traffic_light_159_original_noisy.jpg\n",
      "Imagem traffic_light_161_original(1).jpg com ruído aplicado e salva como traffic_light_161_original(1)_noisy.jpg\n",
      "Imagem traffic_light_161_original(2).jpg com ruído aplicado e salva como traffic_light_161_original(2)_noisy.jpg\n",
      "Imagem traffic_light_161_original.jpg com ruído aplicado e salva como traffic_light_161_original_noisy.jpg\n",
      "Imagem traffic_light_162_original(1).jpg com ruído aplicado e salva como traffic_light_162_original(1)_noisy.jpg\n",
      "Imagem traffic_light_162_original(2).jpg com ruído aplicado e salva como traffic_light_162_original(2)_noisy.jpg\n",
      "Imagem traffic_light_162_original(3).jpg com ruído aplicado e salva como traffic_light_162_original(3)_noisy.jpg\n",
      "Imagem traffic_light_162_original.jpg com ruído aplicado e salva como traffic_light_162_original_noisy.jpg\n",
      "Imagem traffic_light_166_original.jpg com ruído aplicado e salva como traffic_light_166_original_noisy.jpg\n",
      "Imagem traffic_light_167_original.jpg com ruído aplicado e salva como traffic_light_167_original_noisy.jpg\n",
      "Imagem traffic_light_17_original(1).jpg com ruído aplicado e salva como traffic_light_17_original(1)_noisy.jpg\n",
      "Imagem traffic_light_17_original(2).jpg com ruído aplicado e salva como traffic_light_17_original(2)_noisy.jpg\n",
      "Imagem traffic_light_17_original.jpg com ruído aplicado e salva como traffic_light_17_original_noisy.jpg\n",
      "Imagem traffic_light_18_original(1).jpg com ruído aplicado e salva como traffic_light_18_original(1)_noisy.jpg\n",
      "Imagem traffic_light_18_original(2).jpg com ruído aplicado e salva como traffic_light_18_original(2)_noisy.jpg\n",
      "Imagem traffic_light_18_original.jpg com ruído aplicado e salva como traffic_light_18_original_noisy.jpg\n",
      "Imagem traffic_light_19_original.jpg com ruído aplicado e salva como traffic_light_19_original_noisy.jpg\n",
      "Imagem traffic_light_1_original(1).jpg com ruído aplicado e salva como traffic_light_1_original(1)_noisy.jpg\n",
      "Imagem traffic_light_1_original.jpg com ruído aplicado e salva como traffic_light_1_original_noisy.jpg\n",
      "Imagem traffic_light_21_original(1).jpg com ruído aplicado e salva como traffic_light_21_original(1)_noisy.jpg\n",
      "Imagem traffic_light_21_original(2).jpg com ruído aplicado e salva como traffic_light_21_original(2)_noisy.jpg\n",
      "Imagem traffic_light_21_original.jpg com ruído aplicado e salva como traffic_light_21_original_noisy.jpg\n",
      "Imagem traffic_light_29_original.jpg com ruído aplicado e salva como traffic_light_29_original_noisy.jpg\n",
      "Imagem traffic_light_32_original.jpg com ruído aplicado e salva como traffic_light_32_original_noisy.jpg\n",
      "Imagem traffic_light_34_original.jpg com ruído aplicado e salva como traffic_light_34_original_noisy.jpg\n",
      "Imagem traffic_light_35_original.jpg com ruído aplicado e salva como traffic_light_35_original_noisy.jpg\n",
      "Imagem traffic_light_37_original.jpg com ruído aplicado e salva como traffic_light_37_original_noisy.jpg\n",
      "Imagem traffic_light_3_original(1).jpg com ruído aplicado e salva como traffic_light_3_original(1)_noisy.jpg\n",
      "Imagem traffic_light_3_original(2).jpg com ruído aplicado e salva como traffic_light_3_original(2)_noisy.jpg\n",
      "Imagem traffic_light_3_original.jpg com ruído aplicado e salva como traffic_light_3_original_noisy.jpg\n",
      "Imagem traffic_light_41_original(1).jpg com ruído aplicado e salva como traffic_light_41_original(1)_noisy.jpg\n",
      "Imagem traffic_light_41_original(2).jpg com ruído aplicado e salva como traffic_light_41_original(2)_noisy.jpg\n",
      "Imagem traffic_light_41_original(3).jpg com ruído aplicado e salva como traffic_light_41_original(3)_noisy.jpg\n",
      "Imagem traffic_light_41_original.jpg com ruído aplicado e salva como traffic_light_41_original_noisy.jpg\n",
      "Imagem traffic_light_42_original(1).jpg com ruído aplicado e salva como traffic_light_42_original(1)_noisy.jpg\n",
      "Imagem traffic_light_42_original.jpg com ruído aplicado e salva como traffic_light_42_original_noisy.jpg\n",
      "Imagem traffic_light_44_original(1).jpg com ruído aplicado e salva como traffic_light_44_original(1)_noisy.jpg\n",
      "Imagem traffic_light_44_original.jpg com ruído aplicado e salva como traffic_light_44_original_noisy.jpg\n",
      "Imagem traffic_light_45_original.jpg com ruído aplicado e salva como traffic_light_45_original_noisy.jpg\n",
      "Imagem traffic_light_4_original.jpg com ruído aplicado e salva como traffic_light_4_original_noisy.jpg\n",
      "Imagem traffic_light_50_original(1).jpg com ruído aplicado e salva como traffic_light_50_original(1)_noisy.jpg\n",
      "Imagem traffic_light_50_original.jpg com ruído aplicado e salva como traffic_light_50_original_noisy.jpg\n",
      "Imagem traffic_light_52_original.jpg com ruído aplicado e salva como traffic_light_52_original_noisy.jpg\n",
      "Imagem traffic_light_55_original(1).jpg com ruído aplicado e salva como traffic_light_55_original(1)_noisy.jpg\n",
      "Imagem traffic_light_55_original(2).jpg com ruído aplicado e salva como traffic_light_55_original(2)_noisy.jpg\n",
      "Imagem traffic_light_55_original.jpg com ruído aplicado e salva como traffic_light_55_original_noisy.jpg\n",
      "Imagem traffic_light_64_original(1).jpg com ruído aplicado e salva como traffic_light_64_original(1)_noisy.jpg\n",
      "Imagem traffic_light_64_original.jpg com ruído aplicado e salva como traffic_light_64_original_noisy.jpg\n",
      "Imagem traffic_light_66_original(1).jpg com ruído aplicado e salva como traffic_light_66_original(1)_noisy.jpg\n",
      "Imagem traffic_light_66_original(2).jpg com ruído aplicado e salva como traffic_light_66_original(2)_noisy.jpg\n",
      "Imagem traffic_light_66_original(3).jpg com ruído aplicado e salva como traffic_light_66_original(3)_noisy.jpg\n",
      "Imagem traffic_light_66_original(4).jpg com ruído aplicado e salva como traffic_light_66_original(4)_noisy.jpg\n",
      "Imagem traffic_light_66_original(5).jpg com ruído aplicado e salva como traffic_light_66_original(5)_noisy.jpg\n",
      "Imagem traffic_light_66_original.jpg com ruído aplicado e salva como traffic_light_66_original_noisy.jpg\n",
      "Imagem traffic_light_72_original(1).jpg com ruído aplicado e salva como traffic_light_72_original(1)_noisy.jpg\n",
      "Imagem traffic_light_72_original.jpg com ruído aplicado e salva como traffic_light_72_original_noisy.jpg\n",
      "Imagem traffic_light_75_original(1).jpg com ruído aplicado e salva como traffic_light_75_original(1)_noisy.jpg\n",
      "Imagem traffic_light_75_original.jpg com ruído aplicado e salva como traffic_light_75_original_noisy.jpg\n",
      "Imagem traffic_light_78_original(1).jpg com ruído aplicado e salva como traffic_light_78_original(1)_noisy.jpg\n",
      "Imagem traffic_light_78_original(2).jpg com ruído aplicado e salva como traffic_light_78_original(2)_noisy.jpg\n",
      "Imagem traffic_light_78_original(3).jpg com ruído aplicado e salva como traffic_light_78_original(3)_noisy.jpg\n",
      "Imagem traffic_light_78_original(4).jpg com ruído aplicado e salva como traffic_light_78_original(4)_noisy.jpg\n",
      "Imagem traffic_light_78_original(5).jpg com ruído aplicado e salva como traffic_light_78_original(5)_noisy.jpg\n",
      "Imagem traffic_light_78_original.jpg com ruído aplicado e salva como traffic_light_78_original_noisy.jpg\n",
      "Imagem traffic_light_82_original.jpg com ruído aplicado e salva como traffic_light_82_original_noisy.jpg\n",
      "Imagem traffic_light_86_original(1).jpg com ruído aplicado e salva como traffic_light_86_original(1)_noisy.jpg\n",
      "Imagem traffic_light_86_original(2).jpg com ruído aplicado e salva como traffic_light_86_original(2)_noisy.jpg\n",
      "Imagem traffic_light_86_original.jpg com ruído aplicado e salva como traffic_light_86_original_noisy.jpg\n",
      "Imagem traffic_light_8_original.jpg com ruído aplicado e salva como traffic_light_8_original_noisy.jpg\n",
      "Imagem traffic_light_90_original(1).jpg com ruído aplicado e salva como traffic_light_90_original(1)_noisy.jpg\n",
      "Imagem traffic_light_90_original(2).jpg com ruído aplicado e salva como traffic_light_90_original(2)_noisy.jpg\n",
      "Imagem traffic_light_90_original(3).jpg com ruído aplicado e salva como traffic_light_90_original(3)_noisy.jpg\n",
      "Imagem traffic_light_90_original.jpg com ruído aplicado e salva como traffic_light_90_original_noisy.jpg\n",
      "Imagem traffic_light_95_original(1).jpg com ruído aplicado e salva como traffic_light_95_original(1)_noisy.jpg\n",
      "Imagem traffic_light_95_original(2).jpg com ruído aplicado e salva como traffic_light_95_original(2)_noisy.jpg\n",
      "Imagem traffic_light_95_original(3).jpg com ruído aplicado e salva como traffic_light_95_original(3)_noisy.jpg\n",
      "Imagem traffic_light_95_original.jpg com ruído aplicado e salva como traffic_light_95_original_noisy.jpg\n",
      "Imagem traffic_light_97_original(1).jpg com ruído aplicado e salva como traffic_light_97_original(1)_noisy.jpg\n",
      "Imagem traffic_light_97_original.jpg com ruído aplicado e salva como traffic_light_97_original_noisy.jpg\n",
      "Imagem traffic_light_98_original(1).jpg com ruído aplicado e salva como traffic_light_98_original(1)_noisy.jpg\n",
      "Imagem traffic_light_98_original.jpg com ruído aplicado e salva como traffic_light_98_original_noisy.jpg\n",
      "Imagem traffic_light_99_original(1).jpg com ruído aplicado e salva como traffic_light_99_original(1)_noisy.jpg\n",
      "Imagem traffic_light_99_original(2).jpg com ruído aplicado e salva como traffic_light_99_original(2)_noisy.jpg\n",
      "Imagem traffic_light_99_original.jpg com ruído aplicado e salva como traffic_light_99_original_noisy.jpg\n",
      "Imagem motorcycle_125_original.jpg com ruído aplicado e salva como motorcycle_125_original_noisy.jpg\n",
      "Imagem motorcycle_13_original.jpg com ruído aplicado e salva como motorcycle_13_original_noisy.jpg\n",
      "Imagem motorcycle_75_original.jpg com ruído aplicado e salva como motorcycle_75_original_noisy.jpg\n"
     ]
    }
   ],
   "source": [
    "objetos = ['carros', 'pessoas', 'caminhao', 'semafaros', 'motos']\n",
    "for i in range(len(objetos)):\n",
    "    input_folder = f\"../data/processed/outputs/{objetos[i]}/standard\"\n",
    "    output_folder = f\"../data/processed/outputs/{objetos[i]}/noisy\"\n",
    "    noise_pctg = 0.3  # Porcentagem de ruído a ser aplicada\n",
    "    add_noise_to_images(input_folder, output_folder, noise_pctg)"
   ]
  },
  {
   "cell_type": "code",
   "execution_count": 12,
   "metadata": {},
   "outputs": [
    {
     "name": "stdout",
     "output_type": "stream",
     "text": [
      "Total de elementos na pasta ../data/processed/outputs/caminhao/noisy/: 25\n",
      "Total de elementos na pasta ../data/processed/outputs/carros/noisy/: 499\n",
      "Total de elementos na pasta ../data/processed/outputs/motos/noisy/: 3\n",
      "Total de elementos na pasta ../data/processed/outputs/pessoas/noisy/: 22\n",
      "Total de elementos na pasta ../data/processed/outputs/semafaros/noisy/: 151\n"
     ]
    }
   ],
   "source": [
    "def contar_elementos_em_pasta(pasta):\n",
    "    contador = 0\n",
    "    for root, dirs, files in os.walk(pasta):\n",
    "        contador += len(dirs)  # Conta subpastas\n",
    "        contador += len(files)  # Conta arquivos\n",
    "    return contador\n",
    "\n",
    "pastas = [\"../data/processed/outputs/caminhao/noisy/\", \"../data/processed/outputs/carros/noisy/\", \"../data/processed/outputs/motos/noisy/\", \"../data/processed/outputs/pessoas/noisy/\", \"../data/processed/outputs/semafaros/noisy/\"]\n",
    "\n",
    "for pasta in pastas:\n",
    "    elementos = contar_elementos_em_pasta(pasta)\n",
    "    print(f\"Total de elementos na pasta {pasta}: {elementos}\")\n"
   ]
  }
 ],
 "metadata": {
  "kernelspec": {
   "display_name": "Python 3",
   "language": "python",
   "name": "python3"
  },
  "language_info": {
   "codemirror_mode": {
    "name": "ipython",
    "version": 3
   },
   "file_extension": ".py",
   "mimetype": "text/x-python",
   "name": "python",
   "nbconvert_exporter": "python",
   "pygments_lexer": "ipython3",
   "version": "3.11.5"
  },
  "orig_nbformat": 4
 },
 "nbformat": 4,
 "nbformat_minor": 2
}
