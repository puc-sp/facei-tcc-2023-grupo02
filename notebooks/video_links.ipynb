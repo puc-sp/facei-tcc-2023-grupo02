{
 "cells": [
  {
   "cell_type": "code",
   "execution_count": 27,
   "metadata": {},
   "outputs": [],
   "source": [
    "links = [\"https://www.youtube.com/watch?v=i2_sdST1DCc&ab_channel=DrivingAround\", \n",
    "         \"https://www.youtube.com/watch?v=39eKuBwiOv0&ab_channel=JUtah\",\n",
    "         \"https://www.youtube.com/watch?v=Ov20nnpYDns&ab_channel=S%C3%A3oPauloUrbana\",\n",
    "         \"https://www.youtube.com/watch?v=7YzhCSci64I&ab_channel=Paponovolante\",\n",
    "         \"https://www.youtube.com/watch?v=7w9ObmZS1Sc\",\n",
    "         \"https://www.youtube.com/watch?v=7VpZOsB7dv0\",\n",
    "         \"https://www.youtube.com/watch?v=nVN67upcQeY\",\n",
    "         \"https://www.youtube.com/watch?v=ipJx41IOc9Y\", #começar em 30s\n",
    "         \"https://www.youtube.com/watch?v=b6AY4J90nVE\", #começar em 30s\n",
    "         \"https://www.youtube.com/watch?v=i2_sdST1DCc\",\n",
    "         \"https://www.youtube.com/watch?v=mmV9mJoDX0U\",\n",
    "         \"https://www.youtube.com/watch?v=eIqQybgpko8\"\n",
    "\n",
    "         ]"
   ]
  },
  {
   "cell_type": "code",
   "execution_count": 28,
   "metadata": {},
   "outputs": [
    {
     "name": "stdout",
     "output_type": "stream",
     "text": [
      "https://www.youtube.com/watch?v=i2_sdST1DCc&ab_channel=DrivingAround\n",
      "https://www.youtube.com/watch?v=39eKuBwiOv0&ab_channel=JUtah\n",
      "https://www.youtube.com/watch?v=Ov20nnpYDns&ab_channel=S%C3%A3oPauloUrbana\n",
      "https://www.youtube.com/watch?v=7YzhCSci64I&ab_channel=Paponovolante\n",
      "https://www.youtube.com/watch?v=7w9ObmZS1Sc\n",
      "https://www.youtube.com/watch?v=7VpZOsB7dv0\n",
      "https://www.youtube.com/watch?v=nVN67upcQeY\n",
      "https://www.youtube.com/watch?v=ipJx41IOc9Y\n",
      "https://www.youtube.com/watch?v=b6AY4J90nVE\n",
      "https://www.youtube.com/watch?v=i2_sdST1DCc\n",
      "https://www.youtube.com/watch?v=mmV9mJoDX0U\n",
      "https://www.youtube.com/watch?v=eIqQybgpko8\n"
     ]
    }
   ],
   "source": [
    "for link in links:\n",
    "    print(link)"
   ]
  },
  {
   "cell_type": "code",
   "execution_count": 29,
   "metadata": {},
   "outputs": [
    {
     "data": {
      "text/plain": [
       "True"
      ]
     },
     "execution_count": 29,
     "metadata": {},
     "output_type": "execute_result"
    }
   ],
   "source": [
    "\"https://www.youtube.com/watch?v=eIqQybgpko8\" in links"
   ]
  },
  {
   "cell_type": "code",
   "execution_count": null,
   "metadata": {},
   "outputs": [],
   "source": []
  }
 ],
 "metadata": {
  "kernelspec": {
   "display_name": "Python 3",
   "language": "python",
   "name": "python3"
  },
  "language_info": {
   "codemirror_mode": {
    "name": "ipython",
    "version": 3
   },
   "file_extension": ".py",
   "mimetype": "text/x-python",
   "name": "python",
   "nbconvert_exporter": "python",
   "pygments_lexer": "ipython3",
   "version": "3.11.4"
  },
  "orig_nbformat": 4
 },
 "nbformat": 4,
 "nbformat_minor": 2
}
