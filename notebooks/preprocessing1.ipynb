{
 "cells": [
  {
   "cell_type": "markdown",
   "metadata": {},
   "source": [
    "# Exploring solution for dataset"
   ]
  },
  {
   "cell_type": "code",
   "execution_count": 4,
   "metadata": {},
   "outputs": [],
   "source": [
    "import pandas as pd\n",
    "import numpy as np\n",
    "import cv2\n",
    "import os\n",
    "from ultralytics import YOLO\n",
    "#import sys\n",
    "#from ..src.pipeline import PredPipe"
   ]
  },
  {
   "cell_type": "code",
   "execution_count": 5,
   "metadata": {},
   "outputs": [],
   "source": [
    "def extract_frames(video_path, output_folder, interval_seconds=5):\n",
    "    cap = cv2.VideoCapture(video_path)\n",
    "    frame_rate = int(cap.get(cv2.CAP_PROP_FPS))\n",
    "    interval_frames = frame_rate * interval_seconds\n",
    "\n",
    "    frame_count = 0\n",
    "    while True:\n",
    "        ret, frame = cap.read()\n",
    "        if not ret:\n",
    "            break\n",
    "        \n",
    "        if frame_count % interval_frames == 0:\n",
    "            output_filename = f\"{output_folder}/frame_{frame_count}.jpg\"\n",
    "            cv2.imwrite(output_filename, frame)\n",
    "            print(f\"Saved {output_filename}\")\n",
    "        \n",
    "        frame_count += 1\n",
    "\n",
    "    cap.release()\n",
    "    cv2.destroyAllWindows()"
   ]
  },
  {
   "cell_type": "code",
   "execution_count": 6,
   "metadata": {},
   "outputs": [],
   "source": [
    "import cv2\n",
    "import numpy as np\n",
    "\n",
    "def add_noise_to_image(image_path, noise_pctg=0.1, blur_pctg=0.1):\n",
    "    image = cv2.imread(image_path)\n",
    "    image = cv2.cvtColor(image, cv2.COLOR_BGR2RGB)\n",
    "    image = image.astype(np.float32) / 255.0\n",
    "\n",
    "    # Add noise\n",
    "    noise = np.random.uniform(low=0.0, high=1.0, size=image.shape)\n",
    "    noise_mask = np.random.binomial(1, noise_pctg, size=image.shape[:-1])\n",
    "    noise_mask = np.expand_dims(noise_mask, axis=-1)\n",
    "    noise_mask = np.repeat(noise_mask, 3, axis=-1)\n",
    "    image = noise_mask * noise + (1 - noise_mask) * image\n",
    "\n",
    "    # Add blur\n",
    "    blur_mask = np.random.binomial(1, blur_pctg, size=image.shape[:-1])\n",
    "    blur_mask = np.expand_dims(blur_mask, axis=-1)\n",
    "    blur_mask = np.repeat(blur_mask, 3, axis=-1)\n",
    "    image = blur_mask * cv2.blur(image, (5, 5)) + (1 - blur_mask) * image\n",
    "\n",
    "    image = (image * 255.0).astype(np.uint8)\n",
    "    image = cv2.cvtColor(image, cv2.COLOR_RGB2BGR)\n",
    "    return image\n",
    "\n"
   ]
  },
  {
   "cell_type": "code",
   "execution_count": 7,
   "metadata": {},
   "outputs": [],
   "source": [
    "def predict_image(image_path, model=YOLO(\"../models/yolo/yolov8m.pt\"), add_noise=False, noise_pctg=0.1, blur_pctg=0.04):\n",
    "    if add_noise:\n",
    "        image = cv2.imread(image_path)\n",
    "        noisy_image = add_noise_to_image(image_path, noise_pctg, blur_pctg)\n",
    "        noisy_image_path = f\"../data/processed/noisy/{image_path.split('.')[0]}_noisy.jpg\"\n",
    "        cv2.imwrite(noisy_image_path, noisy_image)\n",
    "        image_path = noisy_image_path\n",
    "    \n",
    "    results = model.predict(image_path)\n",
    "    result = results[0]\n",
    "    #save model scores\n",
    "    model_scores = []\n",
    "    for box in result.boxes:\n",
    "        model_scores.append(box.conf[0].item())\n",
    "    img = cv2.imread(image_path)\n",
    "    for box in result.boxes:\n",
    "        class_id = result.names[box.cls[0].item()]\n",
    "        cords = box.xyxy[0].tolist()\n",
    "        cords = [round(x) for x in cords]\n",
    "        conf = round(box.conf[0].item(), 2)\n",
    "        cv2.rectangle(img, (cords[0], cords[1]), (cords[2], cords[3]), (0, 255, 0), 2)\n",
    "        cv2.putText(img, f\"{class_id} {conf}\", (cords[0], cords[1]), cv2.FONT_HERSHEY_SIMPLEX, 0.5, (0, 0, 255), 1)\n",
    "        #write predicted image to data/processed/outputs\n",
    "        cv2.imwrite(f\"../data/processed/noisy/{image_path.split('/')[-1].split('.')[0]}_predicted.jpg\", img)\n",
    "    return img, model_scores"
   ]
  },
  {
   "cell_type": "code",
   "execution_count": 8,
   "metadata": {},
   "outputs": [],
   "source": [
    "model = YOLO('../models/yolo/yolov8m.pt')"
   ]
  },
  {
   "cell_type": "code",
   "execution_count": 9,
   "metadata": {},
   "outputs": [],
   "source": [
    "import sys\n",
    "sys.path.append('C:/Users/Thiago/OneDrive/Documentos/Facul/6 Sexto semestre/TCC/TCC-CDIA')\n"
   ]
  },
  {
   "cell_type": "code",
   "execution_count": 10,
   "metadata": {},
   "outputs": [
    {
     "ename": "ModuleNotFoundError",
     "evalue": "No module named 'pipeline'",
     "output_type": "error",
     "traceback": [
      "\u001b[1;31m---------------------------------------------------------------------------\u001b[0m",
      "\u001b[1;31mModuleNotFoundError\u001b[0m                       Traceback (most recent call last)",
      "\u001b[1;32mc:\\Users\\Thiago\\OneDrive\\Documentos\\Facul\\6 Sexto semestre\\TCC\\TCC-CDIA\\notebooks\\preprocessing1.ipynb Cell 8\u001b[0m line \u001b[0;36m1\n\u001b[1;32m----> <a href='vscode-notebook-cell:/c%3A/Users/Thiago/OneDrive/Documentos/Facul/6%20Sexto%20semestre/TCC/TCC-CDIA/notebooks/preprocessing1.ipynb#X10sZmlsZQ%3D%3D?line=0'>1</a>\u001b[0m \u001b[39mfrom\u001b[39;00m \u001b[39mpipeline\u001b[39;00m \u001b[39mimport\u001b[39;00m PredPipe\n",
      "\u001b[1;31mModuleNotFoundError\u001b[0m: No module named 'pipeline'"
     ]
    }
   ],
   "source": [
    "from pipeline import PredPipe"
   ]
  },
  {
   "cell_type": "code",
   "execution_count": 11,
   "metadata": {},
   "outputs": [],
   "source": [
    "image = \"../data/frames/images/1_original.jpg\"\n",
    "\n"
   ]
  },
  {
   "cell_type": "code",
   "execution_count": 24,
   "metadata": {},
   "outputs": [],
   "source": [
    "noise = [0.01, 0.03, 0.05, 0.07, 0.09, 0.11, 0.13, 0.15, 0.17, 0.2, 0.25, 0.3, 0.35, 0.4, 0.5] "
   ]
  },
  {
   "cell_type": "code",
   "execution_count": 29,
   "metadata": {},
   "outputs": [
    {
     "name": "stderr",
     "output_type": "stream",
     "text": [
      "\n",
      "image 1/1 c:\\Users\\Thiago\\OneDrive\\Documentos\\Facul\\6 Sexto semestre\\TCC\\TCC-CDIA\\notebooks\\..\\data\\frames\\images\\3_original.jpg: 384x640 7 cars, 3 traffic lights, 541.1ms\n",
      "Speed: 1.0ms preprocess, 541.1ms inference, 1.0ms postprocess per image at shape (1, 3, 384, 640)\n"
     ]
    },
    {
     "data": {
      "text/plain": [
       "(array([[[201, 165, 135],\n",
       "         [201, 165, 135],\n",
       "         [201, 165, 135],\n",
       "         ...,\n",
       "         [ 23,  21,   3],\n",
       "         [ 31,  31,  13],\n",
       "         [ 46,  46,  28]],\n",
       " \n",
       "        [[201, 165, 135],\n",
       "         [201, 165, 135],\n",
       "         [201, 165, 135],\n",
       "         ...,\n",
       "         [ 23,  21,   3],\n",
       "         [ 27,  27,   9],\n",
       "         [ 38,  38,  20]],\n",
       " \n",
       "        [[201, 165, 135],\n",
       "         [201, 165, 135],\n",
       "         [201, 165, 135],\n",
       "         ...,\n",
       "         [ 30,  30,  12],\n",
       "         [ 28,  28,  10],\n",
       "         [ 34,  34,  16]],\n",
       " \n",
       "        ...,\n",
       " \n",
       "        [[  0, 255,   0],\n",
       "         [  0, 255,   0],\n",
       "         [  0, 255,   0],\n",
       "         ...,\n",
       "         [  0, 255,   0],\n",
       "         [  0, 255,   0],\n",
       "         [  0, 255,   0]],\n",
       " \n",
       "        [[  0, 255,   0],\n",
       "         [  0, 255,   0],\n",
       "         [  0, 255,   0],\n",
       "         ...,\n",
       "         [  0, 255,   0],\n",
       "         [  0, 255,   0],\n",
       "         [  0, 255,   0]],\n",
       " \n",
       "        [[  0, 255,   0],\n",
       "         [  0, 255,   0],\n",
       "         [  0, 255,   0],\n",
       "         ...,\n",
       "         [ 52,  38,  49],\n",
       "         [ 54,  40,  51],\n",
       "         [ 55,  42,  50]]], dtype=uint8),\n",
       " {'car': [0.93, 0.93, 0.87, 0.79, 0.75, 0.64, 0.33],\n",
       "  'traffic light': [0.6, 0.56, 0.39]})"
      ]
     },
     "execution_count": 29,
     "metadata": {},
     "output_type": "execute_result"
    }
   ],
   "source": [
    "pred = PredPipe(model, image, 0, 0)\n",
    "pred.predict_image(add_noise=False)"
   ]
  },
  {
   "cell_type": "code",
   "execution_count": 71,
   "metadata": {},
   "outputs": [
    {
     "name": "stdout",
     "output_type": "stream",
     "text": [
      "{'noise': 0.01, 'blur': 0}\n"
     ]
    },
    {
     "name": "stderr",
     "output_type": "stream",
     "text": [
      "\n",
      "image 1/1 c:\\Users\\Thiago\\OneDrive\\Documentos\\Facul\\6 Sexto semestre\\TCC\\TCC-CDIA\\notebooks\\..\\data\\frames\\images\\1_original.jpg: 384x640 7 cars, 1 truck, 2 traffic lights, 501.6ms\n",
      "Speed: 2.0ms preprocess, 501.6ms inference, 2.0ms postprocess per image at shape (1, 3, 384, 640)\n",
      "\n"
     ]
    },
    {
     "name": "stdout",
     "output_type": "stream",
     "text": [
      "--------------------------------------------------\n",
      "{'noise': 0.03, 'blur': 0}\n"
     ]
    },
    {
     "name": "stderr",
     "output_type": "stream",
     "text": [
      "image 1/1 c:\\Users\\Thiago\\OneDrive\\Documentos\\Facul\\6 Sexto semestre\\TCC\\TCC-CDIA\\notebooks\\..\\data\\frames\\images\\1_original.jpg: 384x640 7 cars, 1 truck, 2 traffic lights, 552.8ms\n",
      "Speed: 2.0ms preprocess, 552.8ms inference, 3.0ms postprocess per image at shape (1, 3, 384, 640)\n",
      "\n"
     ]
    },
    {
     "name": "stdout",
     "output_type": "stream",
     "text": [
      "--------------------------------------------------\n",
      "{'noise': 0.05, 'blur': 0}\n"
     ]
    },
    {
     "name": "stderr",
     "output_type": "stream",
     "text": [
      "image 1/1 c:\\Users\\Thiago\\OneDrive\\Documentos\\Facul\\6 Sexto semestre\\TCC\\TCC-CDIA\\notebooks\\..\\data\\frames\\images\\1_original.jpg: 384x640 7 cars, 1 truck, 2 traffic lights, 526.6ms\n",
      "Speed: 1.0ms preprocess, 526.6ms inference, 2.0ms postprocess per image at shape (1, 3, 384, 640)\n",
      "\n"
     ]
    },
    {
     "name": "stdout",
     "output_type": "stream",
     "text": [
      "--------------------------------------------------\n",
      "{'noise': 0.07, 'blur': 0}\n"
     ]
    },
    {
     "name": "stderr",
     "output_type": "stream",
     "text": [
      "image 1/1 c:\\Users\\Thiago\\OneDrive\\Documentos\\Facul\\6 Sexto semestre\\TCC\\TCC-CDIA\\notebooks\\..\\data\\frames\\images\\1_original.jpg: 384x640 7 cars, 1 truck, 2 traffic lights, 521.0ms\n",
      "Speed: 2.0ms preprocess, 521.0ms inference, 1.0ms postprocess per image at shape (1, 3, 384, 640)\n",
      "\n"
     ]
    },
    {
     "name": "stdout",
     "output_type": "stream",
     "text": [
      "--------------------------------------------------\n",
      "{'noise': 0.09, 'blur': 0}\n"
     ]
    },
    {
     "name": "stderr",
     "output_type": "stream",
     "text": [
      "image 1/1 c:\\Users\\Thiago\\OneDrive\\Documentos\\Facul\\6 Sexto semestre\\TCC\\TCC-CDIA\\notebooks\\..\\data\\frames\\images\\1_original.jpg: 384x640 7 cars, 1 truck, 2 traffic lights, 491.9ms\n",
      "Speed: 2.0ms preprocess, 491.9ms inference, 2.0ms postprocess per image at shape (1, 3, 384, 640)\n",
      "\n"
     ]
    },
    {
     "name": "stdout",
     "output_type": "stream",
     "text": [
      "--------------------------------------------------\n",
      "{'noise': 0.11, 'blur': 0}\n"
     ]
    },
    {
     "name": "stderr",
     "output_type": "stream",
     "text": [
      "image 1/1 c:\\Users\\Thiago\\OneDrive\\Documentos\\Facul\\6 Sexto semestre\\TCC\\TCC-CDIA\\notebooks\\..\\data\\frames\\images\\1_original.jpg: 384x640 7 cars, 1 truck, 2 traffic lights, 539.6ms\n",
      "Speed: 1.0ms preprocess, 539.6ms inference, 2.0ms postprocess per image at shape (1, 3, 384, 640)\n",
      "\n"
     ]
    },
    {
     "name": "stdout",
     "output_type": "stream",
     "text": [
      "--------------------------------------------------\n",
      "{'noise': 0.13, 'blur': 0}\n"
     ]
    },
    {
     "name": "stderr",
     "output_type": "stream",
     "text": [
      "image 1/1 c:\\Users\\Thiago\\OneDrive\\Documentos\\Facul\\6 Sexto semestre\\TCC\\TCC-CDIA\\notebooks\\..\\data\\frames\\images\\1_original.jpg: 384x640 7 cars, 1 truck, 2 traffic lights, 548.5ms\n",
      "Speed: 1.0ms preprocess, 548.5ms inference, 3.0ms postprocess per image at shape (1, 3, 384, 640)\n",
      "\n"
     ]
    },
    {
     "name": "stdout",
     "output_type": "stream",
     "text": [
      "--------------------------------------------------\n",
      "{'noise': 0.15, 'blur': 0}\n"
     ]
    },
    {
     "name": "stderr",
     "output_type": "stream",
     "text": [
      "image 1/1 c:\\Users\\Thiago\\OneDrive\\Documentos\\Facul\\6 Sexto semestre\\TCC\\TCC-CDIA\\notebooks\\..\\data\\frames\\images\\1_original.jpg: 384x640 7 cars, 1 truck, 2 traffic lights, 478.8ms\n",
      "Speed: 3.0ms preprocess, 478.8ms inference, 2.0ms postprocess per image at shape (1, 3, 384, 640)\n",
      "\n"
     ]
    },
    {
     "name": "stdout",
     "output_type": "stream",
     "text": [
      "--------------------------------------------------\n",
      "{'noise': 0.17, 'blur': 0}\n"
     ]
    },
    {
     "name": "stderr",
     "output_type": "stream",
     "text": [
      "image 1/1 c:\\Users\\Thiago\\OneDrive\\Documentos\\Facul\\6 Sexto semestre\\TCC\\TCC-CDIA\\notebooks\\..\\data\\frames\\images\\1_original.jpg: 384x640 7 cars, 1 truck, 2 traffic lights, 439.9ms\n",
      "Speed: 2.0ms preprocess, 439.9ms inference, 2.0ms postprocess per image at shape (1, 3, 384, 640)\n",
      "\n"
     ]
    },
    {
     "name": "stdout",
     "output_type": "stream",
     "text": [
      "--------------------------------------------------\n",
      "{'noise': 0.2, 'blur': 0}\n"
     ]
    },
    {
     "name": "stderr",
     "output_type": "stream",
     "text": [
      "image 1/1 c:\\Users\\Thiago\\OneDrive\\Documentos\\Facul\\6 Sexto semestre\\TCC\\TCC-CDIA\\notebooks\\..\\data\\frames\\images\\1_original.jpg: 384x640 7 cars, 1 truck, 2 traffic lights, 471.7ms\n",
      "Speed: 2.0ms preprocess, 471.7ms inference, 2.0ms postprocess per image at shape (1, 3, 384, 640)\n",
      "\n"
     ]
    },
    {
     "name": "stdout",
     "output_type": "stream",
     "text": [
      "--------------------------------------------------\n",
      "{'noise': 0.25, 'blur': 0}\n"
     ]
    },
    {
     "name": "stderr",
     "output_type": "stream",
     "text": [
      "image 1/1 c:\\Users\\Thiago\\OneDrive\\Documentos\\Facul\\6 Sexto semestre\\TCC\\TCC-CDIA\\notebooks\\..\\data\\frames\\images\\1_original.jpg: 384x640 7 cars, 1 truck, 2 traffic lights, 469.7ms\n",
      "Speed: 2.0ms preprocess, 469.7ms inference, 1.0ms postprocess per image at shape (1, 3, 384, 640)\n",
      "\n"
     ]
    },
    {
     "name": "stdout",
     "output_type": "stream",
     "text": [
      "--------------------------------------------------\n",
      "{'noise': 0.3, 'blur': 0}\n"
     ]
    },
    {
     "name": "stderr",
     "output_type": "stream",
     "text": [
      "image 1/1 c:\\Users\\Thiago\\OneDrive\\Documentos\\Facul\\6 Sexto semestre\\TCC\\TCC-CDIA\\notebooks\\..\\data\\frames\\images\\1_original.jpg: 384x640 7 cars, 1 truck, 2 traffic lights, 478.7ms\n",
      "Speed: 1.0ms preprocess, 478.7ms inference, 1.0ms postprocess per image at shape (1, 3, 384, 640)\n",
      "\n"
     ]
    },
    {
     "name": "stdout",
     "output_type": "stream",
     "text": [
      "--------------------------------------------------\n",
      "{'noise': 0.35, 'blur': 0}\n"
     ]
    },
    {
     "name": "stderr",
     "output_type": "stream",
     "text": [
      "image 1/1 c:\\Users\\Thiago\\OneDrive\\Documentos\\Facul\\6 Sexto semestre\\TCC\\TCC-CDIA\\notebooks\\..\\data\\frames\\images\\1_original.jpg: 384x640 7 cars, 1 truck, 2 traffic lights, 563.7ms\n",
      "Speed: 1.0ms preprocess, 563.7ms inference, 2.0ms postprocess per image at shape (1, 3, 384, 640)\n",
      "\n"
     ]
    },
    {
     "name": "stdout",
     "output_type": "stream",
     "text": [
      "--------------------------------------------------\n",
      "{'noise': 0.4, 'blur': 0}\n"
     ]
    },
    {
     "name": "stderr",
     "output_type": "stream",
     "text": [
      "image 1/1 c:\\Users\\Thiago\\OneDrive\\Documentos\\Facul\\6 Sexto semestre\\TCC\\TCC-CDIA\\notebooks\\..\\data\\frames\\images\\1_original.jpg: 384x640 7 cars, 1 truck, 2 traffic lights, 530.6ms\n",
      "Speed: 1.0ms preprocess, 530.6ms inference, 2.0ms postprocess per image at shape (1, 3, 384, 640)\n",
      "\n"
     ]
    },
    {
     "name": "stdout",
     "output_type": "stream",
     "text": [
      "--------------------------------------------------\n",
      "{'noise': 0.5, 'blur': 0}\n"
     ]
    },
    {
     "name": "stderr",
     "output_type": "stream",
     "text": [
      "image 1/1 c:\\Users\\Thiago\\OneDrive\\Documentos\\Facul\\6 Sexto semestre\\TCC\\TCC-CDIA\\notebooks\\..\\data\\frames\\images\\1_original.jpg: 384x640 7 cars, 1 truck, 2 traffic lights, 516.6ms\n",
      "Speed: 1.0ms preprocess, 516.6ms inference, 2.0ms postprocess per image at shape (1, 3, 384, 640)\n"
     ]
    },
    {
     "name": "stdout",
     "output_type": "stream",
     "text": [
      "--------------------------------------------------\n"
     ]
    }
   ],
   "source": [
    "model_results = []\n",
    "for element in noise:\n",
    "    pred = PredPipe(model, image, element, 0)\n",
    "    print({\"noise\": element, \"blur\": 0})\n",
    "    pred.predict_image(add_noise = False)\n",
    "    #save model results for every iteration to plot model performance in every noise level\n",
    "    print(\"--------------------------------------------------\")\n",
    "    model_results.append({\"noise\": element, \"model_scores\": pred.results})\n",
    "\n",
    "#save results to csv\n"
   ]
  },
  {
   "cell_type": "code",
   "execution_count": 13,
   "metadata": {},
   "outputs": [],
   "source": [
    "name = pred.name"
   ]
  },
  {
   "cell_type": "code",
   "execution_count": 14,
   "metadata": {},
   "outputs": [],
   "source": [
    "#plot model results\n",
    "import matplotlib.pyplot as plt\n",
    "import seaborn as sns\n",
    "\n",
    "def plot_model_results(model_results, name):\n",
    "    sns.set_theme(style=\"darkgrid\")\n",
    "    plt.figure(figsize=(10, 5))\n",
    "    class_scores_dict = {}\n",
    "    for element in model_results:\n",
    "        for class_name, class_scores in element[\"model_scores\"].items():\n",
    "            if class_name not in class_scores_dict:\n",
    "                class_scores_dict[class_name] = []\n",
    "            class_scores_dict[class_name].extend(class_scores)\n",
    "    for class_name, class_scores in class_scores_dict.items():\n",
    "        plt.plot(class_scores, label=f\"class: {class_name}\")\n",
    "    #make legend smaller\n",
    "    plt.legend(bbox_to_anchor=(1.05, 1), loc='upper left', borderaxespad=0.)\n",
    "    plt.title(\"Model performance in different noise levels\")\n",
    "    plt.ylabel(\"Model score\")\n",
    "    #save plot\n",
    "    plt.savefig(f\"../reports/model_performance_noise_{name}.png\", bbox_inches='tight')\n",
    "\n"
   ]
  },
  {
   "cell_type": "code",
   "execution_count": 15,
   "metadata": {},
   "outputs": [],
   "source": [
    "import pandas as pd\n",
    "def save_model_results(model_results, name):\n",
    "    df = pd.DataFrame(model_results)\n",
    "    df.to_csv(f\"../reports/model_results_{name}.csv\", index=False)"
   ]
  },
  {
   "cell_type": "code",
   "execution_count": 75,
   "metadata": {},
   "outputs": [
    {
     "data": {
      "image/png": "[encoded data removed]",
      "text/plain": [
       "<Figure size 1000x500 with 1 Axes>"
      ]
     },
     "metadata": {},
     "output_type": "display_data"
    }
   ],
   "source": [
    "plot_model_results(model_results, name)"
   ]
  },
  {
   "cell_type": "code",
   "execution_count": 76,
   "metadata": {},
   "outputs": [],
   "source": [
    "save_model_results(model_results, name)"
   ]
  },
  {
   "cell_type": "code",
   "execution_count": null,
   "metadata": {},
   "outputs": [],
   "source": [
    "#Função original do JP:"
   ]
  },
  {
   "cell_type": "code",
   "execution_count": 28,
   "metadata": {},
   "outputs": [],
   "source": [
    "import time  \n",
    "\n",
    "class PredPipe():\n",
    "    def __init__(self, model, image_path, noise, blur):\n",
    "        self.model = model\n",
    "        self.image_path = image_path\n",
    "        self.image = cv2.imread(image_path)\n",
    "        self.name = image_path.split('/')[-1].split('.')[0]\n",
    "        self.results = {}\n",
    "        self.model_scores = []\n",
    "        self.noise_and_blur = {\n",
    "            'noise_pctg': noise,\n",
    "            'blur_pctg': blur\n",
    "        }\n",
    "        self.timestamp = str(int(time.time())) # add timestamp as unique identifier\n",
    "\n",
    "    def add_noise_and_blur(self, save=False):\n",
    "        image = cv2.imread(self.image_path)\n",
    "        image = cv2.cvtColor(image, cv2.COLOR_BGR2RGB)\n",
    "        image = image.astype(np.float32) / 255.0\n",
    "\n",
    "        # Add noise\n",
    "        noise = np.random.uniform(low=0.0, high=1.0, size=image.shape)\n",
    "        noise_mask = np.random.binomial(1, self.noise_and_blur['noise_pctg'], size=image.shape[:-1])\n",
    "        noise_mask = np.expand_dims(noise_mask, axis=-1)\n",
    "        noise_mask = np.repeat(noise_mask, 3, axis=-1)\n",
    "        image = noise_mask * noise + (1 - noise_mask) * image\n",
    "        image = (image * 255.0).astype(np.uint8)\n",
    "        noisy_image = cv2.cvtColor(image, cv2.COLOR_RGB2BGR)\n",
    "        if save:\n",
    "            noisy_image_path = f\"../data/processed/noisy/{self.name}_{str(self.noise_and_blur['noise_pctg'])}_noisy_{self.timestamp}.jpg\" # add timestamp to filename\n",
    "        cv2.imwrite(noisy_image_path, noisy_image)\n",
    "\n",
    "        return image, noisy_image_path\n",
    "\n",
    "    def predict_image(self, add_noise=False, save = True):\n",
    "        if add_noise:\n",
    "            image, noisy_image_path = self.add_noise_and_blur(save)\n",
    "            results = self.model.predict(noisy_image_path)\n",
    "            result = results[0]\n",
    "            if save:\n",
    "                predicted_image_path = f\"../data/noisy/{self.name}_{str(self.noise_and_blur['noise_pctg'])}_noisy_predicted_{self.timestamp}.jpg\"\n",
    "        \n",
    "        else:\n",
    "            results = self.model.predict(self.image_path)\n",
    "            result = results[0]\n",
    "            if save:\n",
    "                predicted_image_path = f\"../data/noisy/{self.name}_predicted_{self.timestamp}.jpg\"\n",
    "        \n",
    "        #save model scores\n",
    "        for box in result.boxes:\n",
    "            class_name = result.names[box.cls[0].item()]\n",
    "            class_confidence = round(box.conf[0].item(), 2)\n",
    "            if class_name not in self.results:\n",
    "                self.results[class_name] = []\n",
    "            self.results[class_name].append(class_confidence)\n",
    "            self.model_scores.append(class_confidence)\n",
    "                \n",
    "        img = cv2.imread(self.image_path if not add_noise else noisy_image_path)\n",
    "        for box in result.boxes:\n",
    "            class_id = result.names[box.cls[0].item()]\n",
    "            cords = box.xyxy[0].tolist()\n",
    "            cords = [round(x) for x in cords]\n",
    "            conf = round(box.conf[0].item(), 2)\n",
    "            cv2.rectangle(img, (cords[0], cords[1]), (cords[2], cords[3]), (0, 255, 0), 2)\n",
    "            cv2.putText(img, f\"{class_id} {conf}\", (cords[0], cords[1]), cv2.FONT_HERSHEY_SIMPLEX, 0.5, (0, 0, 255), 1)\n",
    "            #write predicted image to data/processed/outputs\n",
    "            cv2.imwrite(predicted_image_path, img)\n",
    "\n",
    "        return img, self.results"
   ]
  },
  {
   "cell_type": "code",
   "execution_count": 73,
   "metadata": {},
   "outputs": [],
   "source": [
    "#Função que consegue pegar o semafaro mas corta a original:"
   ]
  },
  {
   "cell_type": "code",
   "execution_count": 72,
   "metadata": {},
   "outputs": [
    {
     "name": "stderr",
     "output_type": "stream",
     "text": [
      "\n",
      "image 1/1 c:\\Users\\Thiago\\OneDrive\\Documentos\\Facul\\6 Sexto semestre\\TCC\\TCC-CDIA\\notebooks\\..\\data\\frames\\images\\1_original.jpg: 384x640 7 cars, 1 truck, 2 traffic lights, 441.8ms\n",
      "Speed: 1.0ms preprocess, 441.8ms inference, 1.0ms postprocess per image at shape (1, 3, 384, 640)\n"
     ]
    },
    {
     "name": "stdout",
     "output_type": "stream",
     "text": [
      "Semáforo recortado salvo em ../data/processed/outputs/traffic_light_1697760910.jpg\n",
      "Semáforo recortado salvo em ../data/processed/outputs/traffic_light_1697760910.jpg\n"
     ]
    },
    {
     "data": {
      "text/plain": [
       "(array([[[203, 167, 137],\n",
       "         [203, 167, 137],\n",
       "         [203, 167, 137],\n",
       "         ...,\n",
       "         [ 40,  44,  25],\n",
       "         [ 42,  46,  27],\n",
       "         [ 41,  45,  26]],\n",
       " \n",
       "        [[203, 167, 137],\n",
       "         [203, 167, 137],\n",
       "         [203, 167, 137],\n",
       "         ...,\n",
       "         [ 45,  49,  30],\n",
       "         [ 46,  50,  31],\n",
       "         [ 45,  49,  30]],\n",
       " \n",
       "        [[203, 167, 137],\n",
       "         [203, 167, 137],\n",
       "         [203, 167, 137],\n",
       "         ...,\n",
       "         [ 53,  57,  38],\n",
       "         [ 55,  59,  40],\n",
       "         [ 54,  58,  39]],\n",
       " \n",
       "        ...,\n",
       " \n",
       "        [[ 69,  46,  38],\n",
       "         [ 69,  46,  38],\n",
       "         [ 69,  46,  38],\n",
       "         ...,\n",
       "         [ 95,  81,  75],\n",
       "         [ 95,  81,  75],\n",
       "         [ 95,  81,  75]],\n",
       " \n",
       "        [[ 73,  47,  40],\n",
       "         [ 72,  46,  39],\n",
       "         [ 70,  47,  39],\n",
       "         ...,\n",
       "         [ 94,  80,  74],\n",
       "         [ 94,  80,  74],\n",
       "         [ 94,  80,  74]],\n",
       " \n",
       "        [[ 77,  51,  44],\n",
       "         [ 76,  50,  43],\n",
       "         [ 72,  49,  41],\n",
       "         ...,\n",
       "         [ 93,  79,  73],\n",
       "         [ 93,  79,  73],\n",
       "         [ 93,  79,  73]]], dtype=uint8),\n",
       " {})"
      ]
     },
     "execution_count": 72,
     "metadata": {},
     "output_type": "execute_result"
    }
   ],
   "source": [
    "import cv2\n",
    "import numpy as np\n",
    "from datetime import datetime\n",
    "from torchvision import transforms\n",
    "from PIL import Image\n",
    "\n",
    "class PredPipe():\n",
    "    def __init__(self, model, image_path, noise, blur):\n",
    "        self.model = model\n",
    "        self.image_path = image_path\n",
    "        self.image = cv2.imread(image_path)\n",
    "        self.name = image_path.split('/')[-1].split('.')[0]\n",
    "        self.results = {}\n",
    "        self.model_scores = []\n",
    "        self.noise_and_blur = {\n",
    "            'noise_pctg': noise,\n",
    "            'blur_pctg': blur\n",
    "        }\n",
    "        self.timestamp = str(int(datetime.timestamp(datetime.now())))\n",
    "\n",
    "    def add_noise_and_blur(self, save=False):\n",
    "        image = cv2.imread(self.image_path)\n",
    "        image = cv2.cvtColor(image, cv2.COLOR_BGR2RGB)\n",
    "        image = image.astype(np.float32) / 255.0\n",
    "\n",
    "        noise = np.random.uniform(low=0.0, high=1.0, size=image.shape)\n",
    "        noise_mask = np.random.binomial(1, self.noise_and_blur['noise_pctg'], size=image.shape[:-1])\n",
    "        noise_mask = np.expand_dims(noise_mask, axis=-1)\n",
    "        noise_mask = np.repeat(noise_mask, 3, axis=-1)\n",
    "        image = noise_mask * noise + (1 - noise_mask) * image\n",
    "        image = (image * 255.0).astype(np.uint8)\n",
    "        noisy_image = cv2.cvtColor(image, cv2.COLOR_RGB2BGR)\n",
    "\n",
    "        if save:\n",
    "            noisy_image_path = f\"../data/processed/noisy/{self.name}_{str(self.noise_and_blur['noise_pctg'])}_noisy_{self.timestamp}.jpg\"\n",
    "            cv2.imwrite(noisy_image_path, noisy_image)\n",
    "\n",
    "        return image, noisy_image_path\n",
    "\n",
    "    def save_traffic_lights(self, image, result, image_path, timestamp):\n",
    "        output_folder = \"../data/processed/outputs\"\n",
    "        \n",
    "        for box in result.boxes:\n",
    "            class_id = result.names[box.cls[0].item()]\n",
    "            if class_id == \"traffic light\":\n",
    "                cords = box.xyxy[0].tolist()\n",
    "                cords = [round(x) for x in cords]\n",
    "\n",
    "                traffic_light_image = image[cords[1]:cords[3], cords[0]:cords[2]]\n",
    "\n",
    "                traffic_light_path = f\"{output_folder}/traffic_light_{timestamp}.jpg\"\n",
    "                cv2.imwrite(traffic_light_path, traffic_light_image)\n",
    "                print(f\"Semáforo recortado salvo em {traffic_light_path}\")\n",
    "\n",
    "    def predict_image(self, add_noise=False, save=True):\n",
    "        if add_noise:\n",
    "            image, noisy_image_path = self.add_noise_and_blur(save)\n",
    "            results = self.model.predict(noisy_image_path)\n",
    "            result = results[0]\n",
    "            if save:\n",
    "                predicted_image_path = f\"../data/processed/outputs/{self.name}_{str(self.noise_and_blur['noise_pctg'])}_noisy_predicted_{self.timestamp}.jpg\"\n",
    "        else:\n",
    "            results = self.model.predict(self.image_path)\n",
    "            result = results[0]\n",
    "            if save:\n",
    "                predicted_image_path = f\"../data/processed/outputs/{self.name}_predicted_{self.timestamp}.jpg\"\n",
    "\n",
    "        img = cv2.imread(self.image_path) if not add_noise else cv2.imread(noisy_image_path)\n",
    "\n",
    "        for box in result.boxes:\n",
    "            class_id = result.names[box.cls[0].item()]\n",
    "            cords = box.xyxy[0].tolist()\n",
    "            cords = [round(x) for x in cords]\n",
    "            conf = round(box.conf[0].item(), 2)\n",
    "\n",
    "            # Desenhe um rótulo com confiança, mas sem bordas verdes\n",
    "            label = f\"{class_id} {conf}\"\n",
    "            font = cv2.FONT_HERSHEY_SIMPLEX\n",
    "            font_scale = 0.5\n",
    "            font_thickness = 1\n",
    "            font_color = (0, 0, 255)\n",
    "            background_color = (0, 0, 0)\n",
    "            label_size, baseline = cv2.getTextSize(label, font, font_scale, font_thickness)\n",
    "            label_origin = (cords[0], cords[1] - label_size[1])\n",
    "            cv2.rectangle(img, (cords[0], cords[1]), (cords[0] + label_size[0], cords[1] - label_size[1]), background_color, -1)\n",
    "            cv2.putText(img, label, label_origin, font, font_scale, font_color, font_thickness)\n",
    "\n",
    "        if save:\n",
    "            cv2.imwrite(predicted_image_path, img)\n",
    "\n",
    "        self.save_traffic_lights(img, result, self.image_path, self.timestamp)\n",
    "\n",
    "        return img, self.results\n",
    "\n",
    "model = YOLO('../models/yolo/yolov8m.pt')\n",
    "image = \"../data/frames/images/1_original.jpg\"\n",
    "pred = PredPipe(model, image, 0, 0)\n",
    "pred.predict_image(add_noise=False)\n"
   ]
  },
  {
   "cell_type": "code",
   "execution_count": 74,
   "metadata": {},
   "outputs": [],
   "source": [
    "#Função testando:"
   ]
  },
  {
   "cell_type": "code",
   "execution_count": 25,
   "metadata": {},
   "outputs": [],
   "source": [
    "import cv2\n",
    "import numpy as np\n",
    "from datetime import datetime\n",
    "from torchvision import transforms\n",
    "from PIL import Image\n",
    "\n",
    "class PredPipe():\n",
    "    def __init__(self, model, image_path, noise, blur):\n",
    "        self.model = model\n",
    "        self.image_path = image_path\n",
    "        self.image = cv2.imread(image_path)\n",
    "        self.name = image_path.split('/')[-1].split('.')[0]\n",
    "        self.results = {}\n",
    "        self.model_scores = []\n",
    "        self.noise_and_blur = {\n",
    "            'noise_pctg': noise,\n",
    "            'blur_pctg': blur\n",
    "        }\n",
    "        self.timestamp = str(int(datetime.timestamp(datetime.now())))\n",
    "\n",
    "    def add_noise_and_blur(self, save=False):\n",
    "        image = cv2.imread(self.image_path)\n",
    "        image = cv2.cvtColor(image, cv2.COLOR_BGR2RGB)\n",
    "        image = image.astype(np.float32) / 255.0\n",
    "\n",
    "        noise = np.random.uniform(low=0.0, high=1.0, size=image.shape)\n",
    "        noise_mask = np.random.binomial(1, self.noise_and_blur['noise_pctg'], size=image.shape[:-1])\n",
    "        noise_mask = np.expand_dims(noise_mask, axis=-1)\n",
    "        noise_mask = np.repeat(noise_mask, 3, axis=-1)\n",
    "        image = noise_mask * noise + (1 - noise_mask) * image\n",
    "        image = (image * 255.0).astype(np.uint8)\n",
    "        noisy_image = cv2.cvtColor(image, cv2.COLOR_RGB2BGR)\n",
    "\n",
    "        if save:\n",
    "            noisy_image_path = f\"../data/processed/noisy/{self.name}_{str(self.noise_and_blur['noise_pctg'])}_noisy_{self.timestamp}.jpg\"\n",
    "            cv2.imwrite(noisy_image_path, noisy_image)\n",
    "\n",
    "        return image, noisy_image_path\n",
    "\n",
    "    def save_traffic_lights(self, image, result, image_path, timestamp):\n",
    "        output_folder = \"../data/processed/outputs\"\n",
    "        traffic_lights = []  # Lista para salvar os semáforos detectados\n",
    "        \n",
    "        for box in result.boxes:\n",
    "            class_id = result.names[box.cls[0].item()]\n",
    "            if class_id == \"traffic light\":\n",
    "                cords = box.xyxy[0].tolist()\n",
    "                cords = [int(round(x)) for x in cords]\n",
    "\n",
    "                # Ajuste as coordenadas para garantir que estejam dentro dos limites da imagem\n",
    "                cords[0] = max(0, cords[0])\n",
    "                cords[1] = max(0, cords[1])\n",
    "                cords[2] = min(image.shape[1], cords[2])\n",
    "                cords[3] = min(image.shape[0], cords[3])\n",
    "\n",
    "                traffic_light_image = image[cords[1]:cords[3], cords[0]:cords[2]]\n",
    "\n",
    "                if traffic_light_image.shape[0] > 0 and traffic_light_image.shape[1] > 0:\n",
    "                    # Certifique-se de que a região recortada não é vazia\n",
    "                    traffic_lights.append(traffic_light_image)\n",
    "        \n",
    "        if not traffic_lights:\n",
    "            raise ValueError(\"Nenhum semáforo detectado na imagem.\")\n",
    "        \n",
    "        for i, traffic_light_image in enumerate(traffic_lights):\n",
    "            traffic_light_path = f\"{output_folder}/traffic_light_{timestamp}_{i}.jpg\"\n",
    "            cv2.imwrite(traffic_light_path, traffic_light_image)\n",
    "            print(f\"Semáforo {i + 1} recortado e salvo em {traffic_light_path}\")\n",
    "\n",
    "    def predict_image(self, add_noise=False, save=True):\n",
    "        if add_noise:\n",
    "            image, noisy_image_path = self.add_noise_and_blur(save)\n",
    "            results = self.model.predict(noisy_image_path)\n",
    "            result = results[0]\n",
    "            if save:\n",
    "                predicted_image_path = f\"../data/processed/outputs/{self.name}_{str(self.noise_and_blur['noise_pctg'])}_noisy_predicted_{self.timestamp}.jpg\"\n",
    "        else:\n",
    "            results = self.model.predict(self.image_path)\n",
    "            result = results[0]\n",
    "            if save:\n",
    "                predicted_image_path = f\"../data/processed/outputs/{self.name}_predicted_{self.timestamp}.jpg\"\n",
    "\n",
    "        img = cv2.imread(self.image_path) if not add_noise else cv2.imread(noisy_image_path)\n",
    "\n",
    "        for box in result.boxes:\n",
    "            class_id = result.names[box.cls[0].item()]\n",
    "            cords = box.xyxy[0].tolist()\n",
    "            cords = [int(round(x)) for x in cords]\n",
    "            conf = round(box.conf[0].item(), 2)\n",
    "\n",
    "            # Desenhe um rótulo com confiança, mas sem bordas verdes\n",
    "            label = f\"{class_id} {conf}\"\n",
    "            font = cv2.FONT_HERSHEY_SIMPLEX\n",
    "            font_scale = 0.5\n",
    "            font_thickness = 1\n",
    "            font_color = (0, 0, 255)\n",
    "            background_color = (0, 0, 0)\n",
    "            label_size, baseline = cv2.getTextSize(label, font, font_scale, font_thickness)\n",
    "            label_origin = (cords[0], cords[1] - label_size[1])\n",
    "            cv2.rectangle(img, (cords[0], cords[1]), (cords[0] + label_size[0], cords[1] - label_size[1]), background_color, -1)\n",
    "            cv2.putText(img, label, label_origin, font, font_scale, font_color, font_thickness)\n",
    "\n",
    "        if save:\n",
    "            cv2.imwrite(predicted_image_path, img)\n",
    "\n",
    "        self.save_traffic_lights(img, result, self.image_path, self.timestamp)\n",
    "\n",
    "        return img, self.results\n"
   ]
  },
  {
   "cell_type": "markdown",
   "metadata": {},
   "source": []
  },
  {
   "cell_type": "code",
   "execution_count": 27,
   "metadata": {},
   "outputs": [
    {
     "name": "stderr",
     "output_type": "stream",
     "text": [
      "\n",
      "image 1/1 c:\\Users\\Thiago\\OneDrive\\Documentos\\Facul\\6 Sexto semestre\\TCC\\TCC-CDIA\\notebooks\\..\\data\\frames\\images\\3_original.jpg: 384x640 7 cars, 3 traffic lights, 508.6ms\n",
      "Speed: 2.0ms preprocess, 508.6ms inference, 3.0ms postprocess per image at shape (1, 3, 384, 640)\n"
     ]
    },
    {
     "name": "stdout",
     "output_type": "stream",
     "text": [
      "Semáforo 1 recortado e salvo em ../data/processed/outputs/traffic_light_1697908984_0.jpg\n",
      "Semáforo 2 recortado e salvo em ../data/processed/outputs/traffic_light_1697908984_1.jpg\n",
      "Semáforo 3 recortado e salvo em ../data/processed/outputs/traffic_light_1697908984_2.jpg\n"
     ]
    }
   ],
   "source": [
    "model = YOLO('../models/yolo/yolov8m.pt')\n",
    "image = \"../data/frames/images/3_original.jpg\"\n",
    "pred = PredPipe(model, image, 0, 0)\n",
    "\n",
    "try:\n",
    "    # Tente predizer os semáforos na imagem\n",
    "    pred.predict_image(add_noise=False)\n",
    "except ValueError as e:\n",
    "    # Se nenhum semáforo for encontrado, imprima o erro\n",
    "    print(str(e))"
   ]
  },
  {
   "cell_type": "code",
   "execution_count": null,
   "metadata": {},
   "outputs": [],
   "source": []
  }
 ],
 "metadata": {
  "kernelspec": {
   "display_name": "Python 3",
   "language": "python",
   "name": "python3"
  },
  "language_info": {
   "codemirror_mode": {
    "name": "ipython",
    "version": 3
   },
   "file_extension": ".py",
   "mimetype": "text/x-python",
   "name": "python",
   "nbconvert_exporter": "python",
   "pygments_lexer": "ipython3",
   "version": "3.11.5"
  },
  "orig_nbformat": 4
 },
 "nbformat": 4,
 "nbformat_minor": 2
}
